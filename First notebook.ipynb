{
 "cells": [
  {
   "cell_type": "code",
   "execution_count": 1,
   "metadata": {},
   "outputs": [
    {
     "name": "stdout",
     "output_type": "stream",
     "text": [
      "Hello World!\n"
     ]
    }
   ],
   "source": [
    "print (\"Hello World!\")"
   ]
  },
  {
   "cell_type": "code",
   "execution_count": 2,
   "metadata": {},
   "outputs": [],
   "source": [
    "x = (67 + 33)  * (25 - 20) / 25"
   ]
  },
  {
   "cell_type": "code",
   "execution_count": 3,
   "metadata": {},
   "outputs": [
    {
     "data": {
      "text/plain": [
       "20.0"
      ]
     },
     "execution_count": 3,
     "metadata": {},
     "output_type": "execute_result"
    }
   ],
   "source": [
    "x"
   ]
  },
  {
   "cell_type": "code",
   "execution_count": 4,
   "metadata": {},
   "outputs": [
    {
     "data": {
      "text/plain": [
       "17.414074767267998"
      ]
     },
     "execution_count": 4,
     "metadata": {},
     "output_type": "execute_result"
    }
   ],
   "source": [
    "(4 + 5 * 60 - 17 + 65 / 4)**(1/2)"
   ]
  },
  {
   "cell_type": "code",
   "execution_count": 5,
   "metadata": {},
   "outputs": [
    {
     "data": {
      "text/plain": [
       "1916.7312813742387"
      ]
     },
     "execution_count": 5,
     "metadata": {},
     "output_type": "execute_result"
    }
   ],
   "source": [
    "6.996 + 45 * (13 / 2)**2 + 2 * 18**(1 / 2)"
   ]
  },
  {
   "cell_type": "code",
   "execution_count": 6,
   "metadata": {},
   "outputs": [
    {
     "data": {
      "text/plain": [
       "-0.3909200032552083"
      ]
     },
     "execution_count": 6,
     "metadata": {},
     "output_type": "execute_result"
    }
   ],
   "source": [
    "(1267 - 20 * (5**3 / 2)**2) / (8**5 * 36**(1 / 2))"
   ]
  },
  {
   "cell_type": "code",
   "execution_count": 8,
   "metadata": {},
   "outputs": [
    {
     "data": {
      "text/plain": [
       "-4251528.0"
      ]
     },
     "execution_count": 8,
     "metadata": {},
     "output_type": "execute_result"
    }
   ],
   "source": [
    "((((9**(1 / 2))**3)**2)**2) / (-2)**(-3)"
   ]
  },
  {
   "cell_type": "code",
   "execution_count": 9,
   "metadata": {},
   "outputs": [
    {
     "data": {
      "text/plain": [
       "2.0"
      ]
     },
     "execution_count": 9,
     "metadata": {},
     "output_type": "execute_result"
    }
   ],
   "source": [
    "4 ** (1/2)"
   ]
  },
  {
   "cell_type": "code",
   "execution_count": 10,
   "metadata": {},
   "outputs": [
    {
     "name": "stdout",
     "output_type": "stream",
     "text": [
      "Введите своё имя: \n",
      "Алексей\n",
      "Сегодня Вас зовут Алексей\n"
     ]
    }
   ],
   "source": [
    "name = input('Введите своё имя: \\n')\n",
    "print('Сегодня Вас зовут', name)\n"
   ]
  },
  {
   "cell_type": "code",
   "execution_count": 11,
   "metadata": {},
   "outputs": [
    {
     "name": "stdout",
     "output_type": "stream",
     "text": [
      "13\n"
     ]
    }
   ],
   "source": [
    "word = 'Очаровательно'\n",
    "print(len(word))\n"
   ]
  },
  {
   "cell_type": "code",
   "execution_count": 12,
   "metadata": {},
   "outputs": [
    {
     "ename": "SyntaxError",
     "evalue": "unexpected EOF while parsing (<ipython-input-12-4a7cf199e454>, line 4)",
     "output_type": "error",
     "traceback": [
      "\u001b[1;36m  File \u001b[1;32m\"<ipython-input-12-4a7cf199e454>\"\u001b[1;36m, line \u001b[1;32m4\u001b[0m\n\u001b[1;33m    print(((len(string_1) * len(string_2) * len(string_3))**(1 / 3))\u001b[0m\n\u001b[1;37m                                                                    ^\u001b[0m\n\u001b[1;31mSyntaxError\u001b[0m\u001b[1;31m:\u001b[0m unexpected EOF while parsing\n"
     ]
    }
   ],
   "source": [
    "string_1 =  'Hello, world!'\n",
    "string_2 = 'Python <3'\n",
    "string_3 = 'qwerty'\n",
    "print((len(string_1) * len(string_2) * len(string_3))**(1 / 3))"
   ]
  },
  {
   "cell_type": "code",
   "execution_count": 14,
   "metadata": {},
   "outputs": [
    {
     "name": "stdout",
     "output_type": "stream",
     "text": [
      "13\n"
     ]
    }
   ],
   "source": [
    "number = 169\n",
    "if (number**(1 / 2) * 10) % 10 == 0:\n",
    "    print(int(number**(1 / 2)))\n",
    "else:\n",
    "    print( \"Квадратный корень из\", number, \"- не целое число\")"
   ]
  },
  {
   "cell_type": "code",
   "execution_count": 15,
   "metadata": {},
   "outputs": [
    {
     "data": {
      "text/plain": [
       "False"
      ]
     },
     "execution_count": 15,
     "metadata": {},
     "output_type": "execute_result"
    }
   ],
   "source": [
    "a = True \n",
    "b = False\n",
    "a and b or not a and not b"
   ]
  },
  {
   "cell_type": "code",
   "execution_count": 16,
   "metadata": {},
   "outputs": [
    {
     "data": {
      "text/plain": [
       "True"
      ]
     },
     "execution_count": 16,
     "metadata": {},
     "output_type": "execute_result"
    }
   ],
   "source": [
    "\"239\" < \"30\" and 239 > 30"
   ]
  },
  {
   "cell_type": "code",
   "execution_count": null,
   "metadata": {},
   "outputs": [],
   "source": []
  },
  {
   "cell_type": "code",
   "execution_count": 17,
   "metadata": {},
   "outputs": [
    {
     "data": {
      "text/plain": [
       "True"
      ]
     },
     "execution_count": 17,
     "metadata": {},
     "output_type": "execute_result"
    }
   ],
   "source": [
    "\"5a\"<\"5b\" and 123/2 > 30 or True"
   ]
  },
  {
   "cell_type": "code",
   "execution_count": 18,
   "metadata": {},
   "outputs": [
    {
     "ename": "NameError",
     "evalue": "name 'y' is not defined",
     "output_type": "error",
     "traceback": [
      "\u001b[1;31m---------------------------------------------------------------------------\u001b[0m",
      "\u001b[1;31mNameError\u001b[0m                                 Traceback (most recent call last)",
      "\u001b[1;32m<ipython-input-18-46d5ff5823aa>\u001b[0m in \u001b[0;36m<module>\u001b[1;34m\u001b[0m\n\u001b[1;32m----> 1\u001b[1;33m \u001b[0my\u001b[0m \u001b[1;33m>\u001b[0m \u001b[0mx\u001b[0m\u001b[1;33m**\u001b[0m\u001b[0my\u001b[0m \u001b[1;33m-\u001b[0m \u001b[1;36m1000\u001b[0m \u001b[1;32mor\u001b[0m \u001b[1;34m\"test\"\u001b[0m \u001b[1;33m>\u001b[0m \u001b[1;34m\"push\"\u001b[0m\u001b[1;33m\u001b[0m\u001b[1;33m\u001b[0m\u001b[0m\n\u001b[0m",
      "\u001b[1;31mNameError\u001b[0m: name 'y' is not defined"
     ]
    }
   ],
   "source": [
    "y > x**y - 1000 or \"test\" > \"push\"\n"
   ]
  },
  {
   "cell_type": "code",
   "execution_count": 19,
   "metadata": {},
   "outputs": [
    {
     "data": {
      "text/plain": [
       "True"
      ]
     },
     "execution_count": 19,
     "metadata": {},
     "output_type": "execute_result"
    }
   ],
   "source": [
    "x = 10 \n",
    "y = 15\n",
    "y > x**y - 1000 or \"test\" > \"push\""
   ]
  },
  {
   "cell_type": "code",
   "execution_count": 20,
   "metadata": {},
   "outputs": [
    {
     "name": "stdout",
     "output_type": "stream",
     "text": [
      "Вова, это нужное число\n"
     ]
    }
   ],
   "source": [
    " number = 346\n",
    " if (number % 2) == 0 or (number % 5) == 0 or (number % 173) == 0 or (number % 821) == 0:\n",
    "     print(\"Вова, это нужное число\")\n",
    "else:\n",
    "    print(\"Вова, в этот раз ты не попал\")"
   ]
  },
  {
   "cell_type": "code",
   "execution_count": 21,
   "metadata": {},
   "outputs": [
    {
     "name": "stdout",
     "output_type": "stream",
     "text": [
      "о\n",
      "ш\n",
      "п\n",
      "и\n"
     ]
    }
   ],
   "source": [
    "word = 'подшипник'\n",
    "for i in range(1, len(word), 2):\n",
    "    print(word[i])"
   ]
  },
  {
   "cell_type": "code",
   "execution_count": 22,
   "metadata": {},
   "outputs": [
    {
     "data": {
      "text/plain": [
       "503.0"
      ]
     },
     "execution_count": 22,
     "metadata": {},
     "output_type": "execute_result"
    }
   ],
   "source": [
    "2012 / 4\n"
   ]
  },
  {
   "cell_type": "code",
   "execution_count": 23,
   "metadata": {},
   "outputs": [
    {
     "name": "stdout",
     "output_type": "stream",
     "text": [
      "и\n",
      "у\n",
      "а\n",
      "и\n",
      "а\n"
     ]
    },
    {
     "ename": "IndexError",
     "evalue": "string index out of range",
     "output_type": "error",
     "traceback": [
      "\u001b[1;31m---------------------------------------------------------------------------\u001b[0m",
      "\u001b[1;31mIndexError\u001b[0m                                Traceback (most recent call last)",
      "\u001b[1;32m<ipython-input-23-376be2b2a201>\u001b[0m in \u001b[0;36m<module>\u001b[1;34m\u001b[0m\n\u001b[0;32m      2\u001b[0m \u001b[0mglas\u001b[0m \u001b[1;33m=\u001b[0m \u001b[1;34m'аеёиоуыэюя'\u001b[0m\u001b[1;33m\u001b[0m\u001b[1;33m\u001b[0m\u001b[0m\n\u001b[0;32m      3\u001b[0m \u001b[1;32mfor\u001b[0m \u001b[0mi\u001b[0m \u001b[1;32min\u001b[0m \u001b[0mrange\u001b[0m\u001b[1;33m(\u001b[0m\u001b[1;36m0\u001b[0m\u001b[1;33m,\u001b[0m \u001b[0mlen\u001b[0m\u001b[1;33m(\u001b[0m\u001b[0mword\u001b[0m\u001b[1;33m)\u001b[0m \u001b[1;33m+\u001b[0m \u001b[1;36m1\u001b[0m\u001b[1;33m)\u001b[0m\u001b[1;33m:\u001b[0m\u001b[1;33m\u001b[0m\u001b[1;33m\u001b[0m\u001b[0m\n\u001b[1;32m----> 4\u001b[1;33m     \u001b[1;32mif\u001b[0m \u001b[0mword\u001b[0m\u001b[1;33m[\u001b[0m\u001b[0mi\u001b[0m\u001b[1;33m]\u001b[0m \u001b[1;32min\u001b[0m \u001b[0mglas\u001b[0m\u001b[1;33m:\u001b[0m\u001b[1;33m\u001b[0m\u001b[1;33m\u001b[0m\u001b[0m\n\u001b[0m\u001b[0;32m      5\u001b[0m         \u001b[0mprint\u001b[0m\u001b[1;33m(\u001b[0m\u001b[0mword\u001b[0m\u001b[1;33m[\u001b[0m\u001b[0mi\u001b[0m\u001b[1;33m]\u001b[0m\u001b[1;33m)\u001b[0m\u001b[1;33m\u001b[0m\u001b[1;33m\u001b[0m\u001b[0m\n",
      "\u001b[1;31mIndexError\u001b[0m: string index out of range"
     ]
    }
   ],
   "source": [
    "word = 'Зимушка-зима'\n",
    "glas = 'аеёиоуыэюя'\n",
    "for i in range(0, len(word) + 1):\n",
    "    if word[i] in glas:\n",
    "        print(word[i])"
   ]
  },
  {
   "cell_type": "code",
   "execution_count": 24,
   "metadata": {},
   "outputs": [
    {
     "name": "stdout",
     "output_type": "stream",
     "text": [
      "Буква 0 в этом имени - С\n",
      "Буква 1 в этом имени - е\n",
      "Буква 2 в этом имени - р\n",
      "Буква 3 в этом имени - г\n",
      "Буква 4 в этом имени - е\n",
      "Буква 5 в этом имени - й\n"
     ]
    }
   ],
   "source": [
    "name = 'Сергей'\n",
    "for i, letter in enumerate(name):\n",
    "    print('Буква', i,'в этом имени -', letter)"
   ]
  },
  {
   "cell_type": "code",
   "execution_count": 31,
   "metadata": {},
   "outputs": [
    {
     "name": "stdout",
     "output_type": "stream",
     "text": [
      "25\n",
      "27\n",
      "33\n",
      "35\n",
      "39\n",
      "45\n"
     ]
    }
   ],
   "source": [
    "num_1 = 25\n",
    "num_2 = 45\n",
    "if num_2 < num_1 or num_1 < 0:\n",
    "    print(\"Введён неверный диапазон чисел\")\n",
    "else:\n",
    "    for i in range(num_1, num_2 + 1):\n",
    "        if ((i % 2) != 0) and ((i % 3) == 0 or (i % 5) == 0):\n",
    "            print(i)"
   ]
  },
  {
   "cell_type": "code",
   "execution_count": 32,
   "metadata": {},
   "outputs": [
    {
     "name": "stdout",
     "output_type": "stream",
     "text": [
      "1\n",
      "2\n",
      "3\n",
      "4\n",
      "6\n",
      "7\n",
      "12\n",
      "14\n",
      "21\n",
      "28\n",
      "42\n",
      "84\n"
     ]
    }
   ],
   "source": [
    "number = 84\n",
    "for i in range(1, number + 1):\n",
    "    if (number % i) ==0:\n",
    "        print(i)"
   ]
  },
  {
   "cell_type": "code",
   "execution_count": 33,
   "metadata": {},
   "outputs": [
    {
     "name": "stdout",
     "output_type": "stream",
     "text": [
      "2\n"
     ]
    }
   ],
   "source": [
    "#num_1 = int(input())\n",
    "#num_2 = int(input())\n",
    "num_1 = 12\n",
    "num_2 = 38\n",
    "if num_1 < num_2:\n",
    "    a = num_1\n",
    "else:\n",
    "    a  = num_2\n",
    "for i in range(2, a +1):\n",
    "    if (num_1 % i) == 0 and (num_2 % i) == 0:\n",
    "        print(i)"
   ]
  },
  {
   "cell_type": "code",
   "execution_count": 34,
   "metadata": {},
   "outputs": [
    {
     "name": "stdout",
     "output_type": "stream",
     "text": [
      "55\n"
     ]
    }
   ],
   "source": [
    "n = 10\n",
    "a1 = 1\n",
    "a2 = 1\n",
    "fib = 0\n",
    "for i in range(3, n +1):\n",
    "    s = a1 + a2\n",
    "    a1 = a2\n",
    "    a2 = s\n",
    "print(s)"
   ]
  },
  {
   "cell_type": "code",
   "execution_count": 35,
   "metadata": {},
   "outputs": [
    {
     "name": "stdout",
     "output_type": "stream",
     "text": [
      "15 X 1 = 15\n",
      "15 X 2 = 30\n",
      "15 X 3 = 45\n",
      "15 X 4 = 60\n",
      "15 X 5 = 75\n",
      "15 X 6 = 90\n",
      "15 X 7 = 105\n",
      "15 X 8 = 120\n",
      "15 X 9 = 135\n",
      "15 X 10 = 150\n"
     ]
    }
   ],
   "source": [
    "number = 15\n",
    "for i in range(1, 11):\n",
    "    print(number, 'X', i, '=', number*i)"
   ]
  },
  {
   "cell_type": "code",
   "execution_count": 43,
   "metadata": {},
   "outputs": [
    {
     "name": "stdout",
     "output_type": "stream",
     "text": [
      "10\n",
      "9\n",
      "8\n",
      "7\n",
      "6\n",
      "5\n",
      "4\n",
      "3\n",
      "2\n"
     ]
    }
   ],
   "source": [
    "for i in range(10, 1, -1):\n",
    "    print(i)"
   ]
  },
  {
   "cell_type": "code",
   "execution_count": 44,
   "metadata": {},
   "outputs": [
    {
     "name": "stdout",
     "output_type": "stream",
     "text": [
      "Увы, это неправильный ответ\n",
      "Увы, это неправильный ответ\n",
      "Увы, это неправильный ответ\n",
      "Увы, это неправильный ответ\n",
      "Увы, это неправильный ответ\n",
      "Это безнадёжно!\n"
     ]
    }
   ],
   "source": [
    "string = 'Нет'\n",
    "for i in range(0,5):\n",
    "    if string == 'Да':\n",
    "        print(\"Это отлично!\")\n",
    "        break\n",
    "    else:\n",
    "        print(\"Увы, это неправильный ответ\")\n",
    "else:\n",
    "    print(\"Это безнадёжно!\")"
   ]
  },
  {
   "cell_type": "code",
   "execution_count": 45,
   "metadata": {},
   "outputs": [
    {
     "ename": "SyntaxError",
     "evalue": "invalid syntax (<ipython-input-45-0a1d05a82e96>, line 2)",
     "output_type": "error",
     "traceback": [
      "\u001b[1;36m  File \u001b[1;32m\"<ipython-input-45-0a1d05a82e96>\"\u001b[1;36m, line \u001b[1;32m2\u001b[0m\n\u001b[1;33m    for i in range(2, int(number**(1/2)):\u001b[0m\n\u001b[1;37m                                        ^\u001b[0m\n\u001b[1;31mSyntaxError\u001b[0m\u001b[1;31m:\u001b[0m invalid syntax\n"
     ]
    }
   ],
   "source": [
    "number = 173\n",
    "for i in range(2, int(number**(1/2)):\n",
    "    if (number % i) == 0:\n",
    "        print(\"Не является простым\")\n",
    "        break\n",
    "else:\n",
    "    print(\"Простое\")"
   ]
  },
  {
   "cell_type": "code",
   "execution_count": 46,
   "metadata": {},
   "outputs": [],
   "source": [
    "OurBestStudents = ['Александр', 'Константин', 'Мария', 'Диана', 'Алексей', \n",
    "                   'Максим', 'Светлана', 'Арина', 'Серафим', 'Doomer', \n",
    "                   'Павел', 'Виктория', 'Елена', 'Галина', 'Вячеслав']"
   ]
  },
  {
   "cell_type": "code",
   "execution_count": 47,
   "metadata": {},
   "outputs": [
    {
     "data": {
      "text/plain": [
       "'Александр'"
      ]
     },
     "execution_count": 47,
     "metadata": {},
     "output_type": "execute_result"
    }
   ],
   "source": [
    "OurBestStudents[0]"
   ]
  },
  {
   "cell_type": "code",
   "execution_count": 48,
   "metadata": {},
   "outputs": [
    {
     "data": {
      "text/plain": [
       "'Диана'"
      ]
     },
     "execution_count": 48,
     "metadata": {},
     "output_type": "execute_result"
    }
   ],
   "source": [
    "OurBestStudents[3]"
   ]
  },
  {
   "cell_type": "code",
   "execution_count": 49,
   "metadata": {},
   "outputs": [
    {
     "data": {
      "text/plain": [
       "'Максим'"
      ]
     },
     "execution_count": 49,
     "metadata": {},
     "output_type": "execute_result"
    }
   ],
   "source": [
    "OurBestStudents[5]"
   ]
  },
  {
   "cell_type": "code",
   "execution_count": 50,
   "metadata": {},
   "outputs": [
    {
     "data": {
      "text/plain": [
       "'Серафим'"
      ]
     },
     "execution_count": 50,
     "metadata": {},
     "output_type": "execute_result"
    }
   ],
   "source": [
    "OurBestStudents[8]"
   ]
  },
  {
   "cell_type": "code",
   "execution_count": 51,
   "metadata": {},
   "outputs": [
    {
     "data": {
      "text/plain": [
       "'Павел'"
      ]
     },
     "execution_count": 51,
     "metadata": {},
     "output_type": "execute_result"
    }
   ],
   "source": [
    "OurBestStudents[10]"
   ]
  },
  {
   "cell_type": "code",
   "execution_count": 52,
   "metadata": {},
   "outputs": [
    {
     "data": {
      "text/plain": [
       "'Галина'"
      ]
     },
     "execution_count": 52,
     "metadata": {},
     "output_type": "execute_result"
    }
   ],
   "source": [
    "OurBestStudents[13]"
   ]
  },
  {
   "cell_type": "code",
   "execution_count": 53,
   "metadata": {},
   "outputs": [
    {
     "data": {
      "text/plain": [
       "'Вячеслав'"
      ]
     },
     "execution_count": 53,
     "metadata": {},
     "output_type": "execute_result"
    }
   ],
   "source": [
    "OurBestStudents[14]"
   ]
  },
  {
   "cell_type": "code",
   "execution_count": 54,
   "metadata": {},
   "outputs": [],
   "source": [
    "body = ['голова', 'руки', 'ноги', 'глаза', 'уши', 'рот', 'нос', 'туловище']"
   ]
  },
  {
   "cell_type": "code",
   "execution_count": 55,
   "metadata": {},
   "outputs": [
    {
     "data": {
      "text/plain": [
       "[]"
      ]
     },
     "execution_count": 55,
     "metadata": {},
     "output_type": "execute_result"
    }
   ],
   "source": [
    "body[7:-1]"
   ]
  },
  {
   "cell_type": "code",
   "execution_count": 56,
   "metadata": {},
   "outputs": [
    {
     "data": {
      "text/plain": [
       "['голова', 'руки', 'ноги', 'глаза', 'уши', 'рот', 'нос', 'туловище']"
      ]
     },
     "execution_count": 56,
     "metadata": {},
     "output_type": "execute_result"
    }
   ],
   "source": [
    "body"
   ]
  },
  {
   "cell_type": "code",
   "execution_count": 57,
   "metadata": {},
   "outputs": [
    {
     "data": {
      "text/plain": [
       "['голова', 'руки', 'ноги', 'глаза', 'уши', 'рот', 'нос', 'туловище']"
      ]
     },
     "execution_count": 57,
     "metadata": {},
     "output_type": "execute_result"
    }
   ],
   "source": [
    "body[:]"
   ]
  },
  {
   "cell_type": "code",
   "execution_count": 58,
   "metadata": {},
   "outputs": [
    {
     "data": {
      "text/plain": [
       "['руки', 'ноги', 'глаза', 'уши', 'рот', 'нос', 'туловище']"
      ]
     },
     "execution_count": 58,
     "metadata": {},
     "output_type": "execute_result"
    }
   ],
   "source": [
    "body[1:]"
   ]
  },
  {
   "cell_type": "code",
   "execution_count": 59,
   "metadata": {},
   "outputs": [
    {
     "data": {
      "text/plain": [
       "['руки', 'ноги', 'глаза', 'уши', 'рот', 'нос', 'туловище']"
      ]
     },
     "execution_count": 59,
     "metadata": {},
     "output_type": "execute_result"
    }
   ],
   "source": [
    "body[1:8]"
   ]
  },
  {
   "cell_type": "code",
   "execution_count": 60,
   "metadata": {},
   "outputs": [
    {
     "data": {
      "text/plain": [
       "[]"
      ]
     },
     "execution_count": 60,
     "metadata": {},
     "output_type": "execute_result"
    }
   ],
   "source": [
    "body[-6:-8]"
   ]
  },
  {
   "cell_type": "code",
   "execution_count": 61,
   "metadata": {},
   "outputs": [
    {
     "data": {
      "text/plain": [
       "['голова', 'руки']"
      ]
     },
     "execution_count": 61,
     "metadata": {},
     "output_type": "execute_result"
    }
   ],
   "source": [
    "body[-8:-6]"
   ]
  },
  {
   "cell_type": "code",
   "execution_count": 62,
   "metadata": {},
   "outputs": [],
   "source": [
    "sparta = ['Иванов', 'Петров', 'Сидоров', 'Зайцев', 'Дятлов', \n",
    "          'Козлов', 'Лисичкин', 'Огурцов', 'Капустин', 'Арбузов']"
   ]
  },
  {
   "cell_type": "code",
   "execution_count": 63,
   "metadata": {},
   "outputs": [
    {
     "data": {
      "text/plain": [
       "['Капустин', 'Козлов', 'Сидоров']"
      ]
     },
     "execution_count": 63,
     "metadata": {},
     "output_type": "execute_result"
    }
   ],
   "source": [
    "sparta[-2:1:-3]"
   ]
  },
  {
   "cell_type": "code",
   "execution_count": 64,
   "metadata": {},
   "outputs": [
    {
     "name": "stdout",
     "output_type": "stream",
     "text": [
      "590\n"
     ]
    }
   ],
   "source": [
    "my_list = [1, 10, 45, 31, 12, 54, 111, 398, 97, 63]\n",
    "my_list.sort(reverse = True)\n",
    "new_list = my_list[::2]\n",
    "result = 0\n",
    "for number in new_list:\n",
    "    result += number\n",
    "print(result)"
   ]
  },
  {
   "cell_type": "code",
   "execution_count": 66,
   "metadata": {},
   "outputs": [
    {
     "name": "stdout",
     "output_type": "stream",
     "text": [
      "[1024, 512, 256, 128, 64, 32, 16, 8, 4, 2, 1]\n"
     ]
    }
   ],
   "source": [
    "my_list = [1]\n",
    "for i in range(10):\n",
    "    my_list.append(my_list[i] * 2)\n",
    "my_list.sort(reverse = True)\n",
    "print(my_list)"
   ]
  },
  {
   "cell_type": "code",
   "execution_count": 67,
   "metadata": {},
   "outputs": [
    {
     "name": "stdout",
     "output_type": "stream",
     "text": [
      "['а', 'а', 'а', 'б', 'б', 'п', 'п', 'я']\n"
     ]
    }
   ],
   "source": [
    "fruits = 'яблоко банан апельсин баклажан перец помидор арбуз ананас'.split()\n",
    "my_list = []\n",
    "for fruit in fruits:\n",
    "    my_list.append(fruit[0])\n",
    "my_list.sort()\n",
    "print(my_list)"
   ]
  },
  {
   "cell_type": "code",
   "execution_count": 69,
   "metadata": {},
   "outputs": [
    {
     "name": "stdout",
     "output_type": "stream",
     "text": [
      "408\n"
     ]
    }
   ],
   "source": [
    "new = []\n",
    "res = 0\n",
    "for i in range(1, 50):\n",
    "    if (i % 3) == 0:\n",
    "        new.append(i)\n",
    "for j in new:\n",
    "    res += j \n",
    "result = res\n",
    "print(result)"
   ]
  },
  {
   "cell_type": "code",
   "execution_count": 71,
   "metadata": {},
   "outputs": [
    {
     "name": "stdout",
     "output_type": "stream",
     "text": [
      "15\n"
     ]
    }
   ],
   "source": [
    "raw_list = ['переменные', 'циклы', 'условия', 'списки', 'словари', 'файлы', 'функции']\n",
    "my_list = []\n",
    "for i in raw_list:\n",
    "    my_list.append(len(i))\n",
    "result = min(my_list) + max(my_list)\n",
    "print(result)"
   ]
  },
  {
   "cell_type": "code",
   "execution_count": 72,
   "metadata": {},
   "outputs": [
    {
     "name": "stdout",
     "output_type": "stream",
     "text": [
      "5041\n"
     ]
    }
   ],
   "source": [
    "raw_list = [2, 8, 10, 23, 64, 49, 11, 52, 71, 14]\n",
    "x_min = min(raw_list)\n",
    "x_max = max(raw_list)\n",
    "my_list = []\n",
    "for i in raw_list:\n",
    "    if (i % 2) == 0:\n",
    "        my_list.append(i * x_min)\n",
    "    else:\n",
    "        my_list.append(i * x_max)\n",
    "result = max(my_list)\n",
    "print(result)"
   ]
  },
  {
   "cell_type": "code",
   "execution_count": 74,
   "metadata": {},
   "outputs": [
    {
     "name": "stdout",
     "output_type": "stream",
     "text": [
      "[7, 14, 21, 28, 35, 42, 49]\n"
     ]
    }
   ],
   "source": [
    "my_list = [x for x in range(1, 50)  if x%7 == 0]\n",
    "print(my_list)"
   ]
  },
  {
   "cell_type": "code",
   "execution_count": 75,
   "metadata": {},
   "outputs": [
    {
     "name": "stdout",
     "output_type": "stream",
     "text": [
      "{'Россия': 'A', 'Египет': 'A'}\n"
     ]
    }
   ],
   "source": [
    "draw_dict = {\n",
    "    'Россия': 'A',\n",
    "    'Португалия': 'B',\n",
    "    'Франция': 'C',\n",
    "    'Дания': 'C',\n",
    "    'Египет': 'A'\n",
    "}\n",
    "draw_new = {}\n",
    "for i in draw_dict:\n",
    "    if draw_dict[i] == 'A':\n",
    "        draw_new[i] = 'A'\n",
    "print(draw_new)"
   ]
  },
  {
   "cell_type": "code",
   "execution_count": 76,
   "metadata": {},
   "outputs": [
    {
     "ename": "IndexError",
     "evalue": "list index out of range",
     "output_type": "error",
     "traceback": [
      "\u001b[1;31m---------------------------------------------------------------------------\u001b[0m",
      "\u001b[1;31mIndexError\u001b[0m                                Traceback (most recent call last)",
      "\u001b[1;32m<ipython-input-76-d5de8db3e1de>\u001b[0m in \u001b[0;36m<module>\u001b[1;34m\u001b[0m\n\u001b[0;32m      7\u001b[0m     \u001b[1;33m[\u001b[0m\u001b[1;34m'100934'\u001b[0m\u001b[1;33m,\u001b[0m \u001b[1;34m'Пульсометр Beurer PM62'\u001b[0m\u001b[1;33m,\u001b[0m \u001b[1;36m17\u001b[0m\u001b[1;33m]\u001b[0m\u001b[1;33m,\u001b[0m\u001b[1;33m\u001b[0m\u001b[1;33m\u001b[0m\u001b[0m\n\u001b[0;32m      8\u001b[0m ]\n\u001b[1;32m----> 9\u001b[1;33m \u001b[0mpulsometer_id\u001b[0m \u001b[1;33m=\u001b[0m \u001b[0mcsv_file\u001b[0m\u001b[1;33m[\u001b[0m\u001b[1;36m6\u001b[0m\u001b[1;33m]\u001b[0m\u001b[1;33m[\u001b[0m\u001b[1;36m0\u001b[0m\u001b[1;33m]\u001b[0m\u001b[1;33m\u001b[0m\u001b[1;33m\u001b[0m\u001b[0m\n\u001b[0m\u001b[0;32m     10\u001b[0m \u001b[0mprint\u001b[0m\u001b[1;33m(\u001b[0m\u001b[0mpulsometer_id\u001b[0m\u001b[1;33m)\u001b[0m\u001b[1;33m\u001b[0m\u001b[1;33m\u001b[0m\u001b[0m\n",
      "\u001b[1;31mIndexError\u001b[0m: list index out of range"
     ]
    }
   ],
   "source": [
    "csv_file = [\n",
    "    ['100412', 'Ботинки для горных лыж ATOMIC Hawx Prime 100', 9],\n",
    "    ['100728', 'Скейтборд Jdbug RT03', 32],\n",
    "    ['100732', 'Роллерсерф Razor RipStik Bright', 11],\n",
    "    ['100803', 'Ботинки для сноуборда DC Tucknee', 20],\n",
    "    ['100898', 'Шагомер Omron HJA-306', 2],\n",
    "    ['100934', 'Пульсометр Beurer PM62', 17],\n",
    "]\n",
    "pulsometer_id = csv_file[6][0]\n",
    "print(pulsometer_id)"
   ]
  },
  {
   "cell_type": "code",
   "execution_count": 77,
   "metadata": {},
   "outputs": [
    {
     "ename": "SyntaxError",
     "evalue": "EOL while scanning string literal (<ipython-input-77-2e078ae068ec>, line 11)",
     "output_type": "error",
     "traceback": [
      "\u001b[1;36m  File \u001b[1;32m\"<ipython-input-77-2e078ae068ec>\"\u001b[1;36m, line \u001b[1;32m11\u001b[0m\n\u001b[1;33m    if record[2] > 10':\u001b[0m\n\u001b[1;37m                       ^\u001b[0m\n\u001b[1;31mSyntaxError\u001b[0m\u001b[1;31m:\u001b[0m EOL while scanning string literal\n"
     ]
    }
   ],
   "source": [
    "csv_file = [\n",
    "    ['100412', 'Ботинки для горных лыж ATOMIC Hawx Prime 100', 9],\n",
    "    ['100728', 'Скейтборд Jdbug RT03', 32],\n",
    "    ['100732', 'Роллерсерф Razor RipStik Bright', 11],\n",
    "    ['100803', 'Ботинки для сноуборда DC Tucknee', 20],\n",
    "    ['100898', 'Шагомер Omron HJA-306', 2],\n",
    "    ['100934', 'Пульсометр Beurer PM62', 17],\n",
    "]\n",
    "csv_file_filtered = []\n",
    "for record in csv_file:\n",
    "    if record[2] > 10':\n",
    "        csv_file_filtered.append(record)"
   ]
  },
  {
   "cell_type": "code",
   "execution_count": 78,
   "metadata": {},
   "outputs": [
    {
     "name": "stdout",
     "output_type": "stream",
     "text": [
      "[{'id': '100412', 'position': 'Ботинки для горных лыж ATOMIC Hawx Prime 100', 'count': 9}, {'id': '100803', 'position': 'Ботинки для сноуборда DC Tucknee', 'count': 20}]\n"
     ]
    }
   ],
   "source": [
    "csv_dict = [\n",
    "    {'id': '100412', 'position': 'Ботинки для горных лыж ATOMIC Hawx Prime 100', 'count': 9},\n",
    "    {'id': '100728', 'position': 'Скейтборд Jdbug RT03', 'count': 32},\n",
    "    {'id': '100732', 'position': 'Роллерсерф Razor RipStik Bright', 'count': 11},\n",
    "    {'id': '100803', 'position': 'Ботинки для сноуборда DC Tucknee', 'count': 20},\n",
    "    {'id': '100898', 'position': 'Шагомер Omron HJA-306', 'count': 2},\n",
    "    {'id': '100934', 'position': 'Пульсометр Beurer PM62', 'count': 17},\n",
    "]\n",
    "csv_dict_boots = []\n",
    "for record in csv_dict:\n",
    "    str1 = record['position']\n",
    "    if \"Ботинки\" in str1:\n",
    "        csv_dict_boots.append(record)\n",
    "print(csv_dict_boots)"
   ]
  },
  {
   "cell_type": "code",
   "execution_count": 91,
   "metadata": {},
   "outputs": [
    {
     "name": "stdout",
     "output_type": "stream",
     "text": [
      "Counter({60459: 5, 62602: 2, 58113: 1})\n",
      "2\n",
      "9\n"
     ]
    }
   ],
   "source": [
    "import collections\n",
    "data = {\"events_data\": [{\"id\": 47946124, \"client_id\": 62526, \"user_id\": 110777, \"category\": \"page\", \"action\": \"enter\", \"options\": {\"name\": \"landing\"}}, {\"id\": 47947076, \"client_id\": 61944, \"user_id\": 108565, \"category\": \"page\", \"action\": \"enter\", \"options\": {\"name\": \"landing\"}}, {\"id\": 47962056, \"client_id\": 27115, \"user_id\": 49440, \"category\": \"page\", \"action\": \"enter\", \"options\": {\"name\": \"page\"}}, {\"id\": 47962120, \"client_id\": 27115, \"user_id\": 49440, \"category\": \"datepicker\", \"action\": \"apply\", \"options\": {\"endDate\": \"2019-03-31 23:59:59\", \"startDate\": \"2019-03-25 00:00:00\"}}, {\"id\": 47962218, \"client_id\": 27115, \"user_id\": 49440, \"category\": \"table\", \"action\": \"sort\", \"options\": {\"dir\": \"ASC\", \"name\": \"deal_date\"}}, {\"id\": 47962238, \"client_id\": 27115, \"user_id\": 49440, \"category\": \"table\", \"action\": \"sort\", \"options\": {\"dir\": \"DESC\", \"name\": \"deal_date\"}}, {\"id\": 47962532, \"client_id\": 27115, \"user_id\": 49440, \"category\": \"table\", \"action\": \"sort\", \"options\": {\"dir\": \"ASC\", \"name\": \"deal_date\"}}, {\"id\": 47962534, \"client_id\": 27115, \"user_id\": 49440, \"category\": \"table\", \"action\": \"sort\", \"options\": {\"dir\": \"DESC\", \"name\": \"deal_date\"}}, {\"id\": 47962696, \"client_id\": 27115, \"user_id\": 49440, \"category\": \"datepicker\", \"action\": \"apply\", \"options\": {\"endDate\": \"2019-03-10 23:59:59\", \"startDate\": \"2019-03-04 00:00:00\"}}, {\"id\": 47962748, \"client_id\": 27115, \"user_id\": 49440, \"category\": \"datepicker\", \"action\": \"apply\", \"options\": {\"endDate\": \"2019-02-24 23:59:59\", \"startDate\": \"2019-02-18 00:00:00\"}}, {\"id\": 47962830, \"client_id\": 27115, \"user_id\": 49440, \"category\": \"datepicker\", \"action\": \"apply\", \"options\": {\"endDate\": \"2019-03-31 23:59:59\", \"startDate\": \"2019-03-25 00:00:00\"}}, {\"id\": 47962860, \"client_id\": 27115, \"user_id\": 49440, \"category\": \"datepicker\", \"action\": \"apply\", \"options\": {\"endDate\": \"2019-03-31 23:59:59\", \"startDate\": \"2019-03-28 00:00:00\"}}, {\"id\": 47962952, \"client_id\": 27115, \"user_id\": 49440, \"category\": \"datepicker\", \"action\": \"apply\", \"options\": {\"endDate\": \"2019-03-31 23:59:59\", \"startDate\": \"2019-03-29 00:00:00\"}}, {\"id\": 47964366, \"client_id\": 62017, \"user_id\": 108835, \"category\": \"page\", \"action\": \"enter\", \"options\": {\"name\": \"landing\"}}, {\"id\": 47989384, \"client_id\": 63120, \"user_id\": 113069, \"category\": \"page\", \"action\": \"enter\", \"options\": {\"name\": \"landing\"}}, {\"id\": 48010418, \"client_id\": 59883, \"user_id\": 108493, \"category\": \"page\", \"action\": \"enter\", \"options\": {\"name\": \"landing\"}}, {\"id\": 48012170, \"client_id\": 2913, \"user_id\": 37412, \"category\": \"page\", \"action\": \"enter\", \"options\": {\"name\": \"landing\"}}, {\"id\": 48014430, \"client_id\": 62940, \"user_id\": 112351, \"category\": \"page\", \"action\": \"enter\", \"options\": {\"name\": \"landing\"}}, {\"id\": 48022684, \"client_id\": 63149, \"user_id\": 113143, \"category\": \"page\", \"action\": \"enter\", \"options\": {\"name\": \"landing\"}}, {\"id\": 48026886, \"client_id\": 45391, \"user_id\": 76047, \"category\": \"page\", \"action\": \"enter\", \"options\": {\"name\": \"landing\"}}, {\"id\": 48034878, \"client_id\": 18923, \"user_id\": 36488, \"category\": \"page\", \"action\": \"enter\", \"options\": {\"name\": \"landing\"}}, {\"id\": 48042052, \"client_id\": 63019, \"user_id\": 113169, \"category\": \"page\", \"action\": \"enter\", \"options\": {\"name\": \"landing\"}}, {\"id\": 48043326, \"client_id\": 18923, \"user_id\": 36488, \"category\": \"page\", \"action\": \"enter\", \"options\": {\"name\": \"landing\"}}, {\"id\": 48043640, \"client_id\": 18923, \"user_id\": 36488, \"category\": \"page\", \"action\": \"enter\", \"options\": {\"name\": \"landing\"}}, {\"id\": 48051248, \"client_id\": 15759, \"user_id\": 92681, \"category\": \"page\", \"action\": \"enter\", \"options\": {\"name\": \"landing\"}}, {\"id\": 48061250, \"client_id\": 62007, \"user_id\": 92681, \"category\": \"page\", \"action\": \"enter\", \"options\": {\"name\": \"page\"}}, {\"id\": 48066902, \"client_id\": 62941, \"user_id\": 112357, \"category\": \"page\", \"action\": \"enter\", \"options\": {\"name\": \"landing\"}}, {\"id\": 48081876, \"client_id\": 51009, \"user_id\": 87778, \"category\": \"page\", \"action\": \"enter\", \"options\": {\"name\": \"landing\"}}, {\"id\": 48106514, \"client_id\": 62236, \"user_id\": 109579, \"category\": \"page\", \"action\": \"enter\", \"options\": {\"name\": \"landing\"}}, {\"id\": 48110768, \"client_id\": 44682, \"user_id\": 74909, \"category\": \"page\", \"action\": \"enter\", \"options\": {\"name\": \"landing\"}}, {\"id\": 48114652, \"client_id\": 39709, \"user_id\": 67955, \"category\": \"page\", \"action\": \"enter\", \"options\": {\"name\": \"landing\"}}, {\"id\": 48118216, \"client_id\": 60459, \"user_id\": 32532, \"category\": \"page\", \"action\": \"enter\", \"options\": {\"name\": \"page\"}}, {\"id\": 48118370, \"client_id\": 62144, \"user_id\": 109283, \"category\": \"page\", \"action\": \"enter\", \"options\": {\"name\": \"landing\"}}, {\"id\": 48118516, \"client_id\": 60459, \"user_id\": 32532, \"category\": \"report\", \"action\": \"change_mode\", \"options\": {\"mode\": \"deals\"}}, {\"id\": 48118564, \"client_id\": 60459, \"user_id\": 32532, \"category\": \"report\", \"action\": \"change_mode\", \"options\": {\"mode\": \"summary\"}}, {\"id\": 48118590, \"client_id\": 60459, \"user_id\": 32532, \"category\": \"report\", \"action\": \"change_mode\", \"options\": {\"mode\": \"deals\"}}, {\"id\": 48118920, \"client_id\": 60459, \"user_id\": 32532, \"category\": \"report\", \"action\": \"change_mode\", \"options\": {\"mode\": \"summary\"}}, {\"id\": 48120374, \"client_id\": 60459, \"user_id\": 32532, \"category\": \"page\", \"action\": \"enter\", \"options\": {\"name\": \"page\"}}, {\"id\": 48120386, \"client_id\": 60459, \"user_id\": 32532, \"category\": \"report\", \"action\": \"change_mode\", \"options\": {\"mode\": \"deals\"}}, {\"id\": 48120602, \"client_id\": 52492, \"user_id\": 91178, \"category\": \"page\", \"action\": \"enter\", \"options\": {\"name\": \"page\"}}, {\"id\": 48120604, \"client_id\": 52492, \"user_id\": 105477, \"category\": \"page\", \"action\": \"enter\", \"options\": {\"name\": \"page\"}}, {\"id\": 48120770, \"client_id\": 60459, \"user_id\": 32532, \"category\": \"page\", \"action\": \"enter\", \"options\": {\"name\": \"page\"}}, {\"id\": 48120876, \"client_id\": 60459, \"user_id\": 32532, \"category\": \"table\", \"action\": \"sort\", \"options\": {\"dir\": \"ASC\", \"name\": \"visitor_id\"}}, {\"id\": 48120896, \"client_id\": 60459, \"user_id\": 32532, \"category\": \"table\", \"action\": \"sort\", \"options\": {\"dir\": \"DESC\", \"name\": \"visitor_id\"}}, {\"id\": 48121006, \"client_id\": 60459, \"user_id\": 32532, \"category\": \"table\", \"action\": \"sort\", \"options\": {\"dir\": \"ASC\", \"name\": \"visitor_id\"}}, {\"id\": 48121008, \"client_id\": 60459, \"user_id\": 32532, \"category\": \"table\", \"action\": \"sort\", \"options\": {\"dir\": \"DESC\", \"name\": \"visitor_id\"}}, {\"id\": 48125372, \"client_id\": 52492, \"user_id\": 91178, \"category\": \"page\", \"action\": \"enter\", \"options\": {\"name\": \"page\"}}, {\"id\": 48130434, \"client_id\": 18923, \"user_id\": 36488, \"category\": \"page\", \"action\": \"enter\", \"options\": {\"name\": \"landing\"}}, {\"id\": 48135712, \"client_id\": 25301, \"user_id\": 54229, \"category\": \"page\", \"action\": \"enter\", \"options\": {\"name\": \"landing\"}}, {\"id\": 48136376, \"client_id\": 18923, \"user_id\": 36488, \"category\": \"page\", \"action\": \"enter\", \"options\": {\"name\": \"landing\"}}, {\"id\": 48136890, \"client_id\": 33645, \"user_id\": 61378, \"category\": \"page\", \"action\": \"enter\", \"options\": {\"name\": \"landing\"}}, {\"id\": 48145332, \"client_id\": 62089, \"user_id\": 109095, \"category\": \"page\", \"action\": \"enter\", \"options\": {\"name\": \"landing\"}}, {\"id\": 48155244, \"client_id\": 26705, \"user_id\": 48880, \"category\": \"page\", \"action\": \"enter\", \"options\": {\"name\": \"landing\"}}, {\"id\": 48160942, \"client_id\": 1103, \"user_id\": 109501, \"category\": \"page\", \"action\": \"enter\", \"options\": {\"name\": \"page\"}}, {\"id\": 48166190, \"client_id\": 62439, \"user_id\": 110397, \"category\": \"page\", \"action\": \"enter\", \"options\": {\"name\": \"landing\"}}, {\"id\": 48167428, \"client_id\": 44196, \"user_id\": 74136, \"category\": \"page\", \"action\": \"enter\", \"options\": {\"name\": \"landing\"}}, {\"id\": 48171114, \"client_id\": 62602, \"user_id\": 111069, \"category\": \"page\", \"action\": \"enter\", \"options\": {\"name\": \"page\"}}, {\"id\": 48173426, \"client_id\": 62602, \"user_id\": 111069, \"category\": \"page\", \"action\": \"enter\", \"options\": {\"name\": \"page\"}}, {\"id\": 48173444, \"client_id\": 62602, \"user_id\": 111069, \"category\": \"report\", \"action\": \"link_click\", \"options\": {\"url\": \"javascript:void(0);\", \"name\": \"deal_count\", \"value\": \"1\"}}, {\"id\": 48173446, \"client_id\": 62602, \"user_id\": 111069, \"category\": \"page\", \"action\": \"enter\", \"options\": {\"name\": \"page\"}}, {\"id\": 48173640, \"client_id\": 62602, \"user_id\": 111069, \"category\": \"page\", \"action\": \"enter\", \"options\": {\"name\": \"page\"}}, {\"id\": 48173686, \"client_id\": 62602, \"user_id\": 111069, \"category\": \"page\", \"action\": \"enter\", \"options\": {\"name\": \"page\"}}, {\"id\": 48173698, \"client_id\": 62602, \"user_id\": 111069, \"category\": \"page\", \"action\": \"enter\", \"options\": {\"name\": \"page\"}}, {\"id\": 48174302, \"client_id\": 62602, \"user_id\": 111069, \"category\": \"page\", \"action\": \"enter\", \"options\": {\"name\": \"page\"}}, {\"id\": 48174312, \"client_id\": 62602, \"user_id\": 111069, \"category\": \"report\", \"action\": \"link_click\", \"options\": {\"url\": \"javascript:void(0);\", \"name\": \"deal_count\", \"value\": \"1\"}}, {\"id\": 48174314, \"client_id\": 62602, \"user_id\": 111069, \"category\": \"page\", \"action\": \"enter\", \"options\": {\"name\": \"page\"}}, {\"id\": 48174338, \"client_id\": 62602, \"user_id\": 111069, \"category\": \"page\", \"action\": \"enter\", \"options\": {\"name\": \"page\"}}, {\"id\": 48179988, \"client_id\": 50149, \"user_id\": 86073, \"category\": \"page\", \"action\": \"enter\", \"options\": {\"name\": \"landing\"}}, {\"id\": 57301281, \"client_id\": 57009, \"user_id\": 107244, \"category\": \"page\", \"action\": \"enter\", \"options\": {\"name\": \"landing\"}}, {\"id\": 57326589, \"client_id\": 57207, \"user_id\": 107968, \"category\": \"page\", \"action\": \"enter\", \"options\": {\"name\": \"landing\"}}, {\"id\": 57328781, \"client_id\": 32792, \"user_id\": 57997, \"category\": \"page\", \"action\": \"enter\", \"options\": {\"name\": \"landing\"}}, {\"id\": 57335607, \"client_id\": 27323, \"user_id\": 92681, \"category\": \"page\", \"action\": \"enter\", \"options\": {\"name\": \"landing\"}}, {\"id\": 57355249, \"client_id\": 24500, \"user_id\": 45371, \"category\": \"page\", \"action\": \"enter\", \"options\": {\"name\": \"landing\"}}, {\"id\": 57357969, \"client_id\": 24500, \"user_id\": 45371, \"category\": \"page\", \"action\": \"enter\", \"options\": {\"name\": \"page\"}}, {\"id\": 57364085, \"client_id\": 58330, \"user_id\": 122756, \"category\": \"page\", \"action\": \"enter\", \"options\": {\"name\": \"landing\"}}, {\"id\": 57368897, \"client_id\": 61245, \"user_id\": 122796, \"category\": \"page\", \"action\": \"enter\", \"options\": {\"name\": \"landing\"}}, {\"id\": 57380235, \"client_id\": 19799, \"user_id\": 108493, \"category\": \"page\", \"action\": \"enter\", \"options\": {\"name\": \"landing\"}}, {\"id\": 57397813, \"client_id\": 56544, \"user_id\": 105404, \"category\": \"page\", \"action\": \"enter\", \"options\": {\"name\": \"page\"}}, {\"id\": 57397881, \"client_id\": 56544, \"user_id\": 105404, \"category\": \"datepicker\", \"action\": \"apply\", \"options\": {\"endDate\": \"2019-03-31 23:59:59\", \"startDate\": \"2019-03-31 00:00:00\"}}, {\"id\": 57397923, \"client_id\": 56544, \"user_id\": 105404, \"category\": \"datepicker\", \"action\": \"apply\", \"options\": {\"endDate\": \"2019-03-30 23:59:59\", \"startDate\": \"2019-03-30 00:00:00\"}}, {\"id\": 57397987, \"client_id\": 56544, \"user_id\": 105404, \"category\": \"datepicker\", \"action\": \"apply\", \"options\": {\"endDate\": \"2019-03-29 23:59:59\", \"startDate\": \"2019-03-29 00:00:00\"}}, {\"id\": 57398079, \"client_id\": 56544, \"user_id\": 105404, \"category\": \"datepicker\", \"action\": \"apply\", \"options\": {\"endDate\": \"2019-03-28 23:59:59\", \"startDate\": \"2019-03-28 00:00:00\"}}, {\"id\": 57398119, \"client_id\": 56544, \"user_id\": 105404, \"category\": \"datepicker\", \"action\": \"apply\", \"options\": {\"endDate\": \"2019-03-27 23:59:59\", \"startDate\": \"2019-03-27 00:00:00\"}}, {\"id\": 57398165, \"client_id\": 56544, \"user_id\": 105404, \"category\": \"datepicker\", \"action\": \"apply\", \"options\": {\"endDate\": \"2019-03-26 23:59:59\", \"startDate\": \"2019-03-26 00:00:00\"}}, {\"id\": 57398203, \"client_id\": 56544, \"user_id\": 105404, \"category\": \"datepicker\", \"action\": \"apply\", \"options\": {\"endDate\": \"2019-03-25 23:59:59\", \"startDate\": \"2019-03-25 00:00:00\"}}, {\"id\": 57414209, \"client_id\": 23207, \"user_id\": 43300, \"category\": \"page\", \"action\": \"enter\", \"options\": {\"name\": \"landing\"}}, {\"id\": 57414633, \"client_id\": 23207, \"user_id\": 43300, \"category\": \"page\", \"action\": \"enter\", \"options\": {\"name\": \"landing\"}}, {\"id\": 57414663, \"client_id\": 23207, \"user_id\": 85282, \"category\": \"page\", \"action\": \"enter\", \"options\": {\"name\": \"landing\"}}, {\"id\": 57414851, \"client_id\": 23207, \"user_id\": 43300, \"category\": \"page\", \"action\": \"enter\", \"options\": {\"name\": \"landing\"}}, {\"id\": 57420219, \"client_id\": 48128, \"user_id\": 121686, \"category\": \"page\", \"action\": \"enter\", \"options\": {\"name\": \"landing\"}}, {\"id\": 57424709, \"client_id\": 58113, \"user_id\": 120952, \"category\": \"page\", \"action\": \"enter\", \"options\": {\"name\": \"page\"}}, {\"id\": 57424757, \"client_id\": 58113, \"user_id\": 120952, \"category\": \"report\", \"action\": \"change_mode\", \"options\": {\"mode\": \"deals\"}}, {\"id\": 57425399, \"client_id\": 58113, \"user_id\": 120952, \"category\": \"table\", \"action\": \"sort\", \"options\": {\"dir\": \"ASC\", \"name\": \"ac\"}}, {\"id\": 57425421, \"client_id\": 58113, \"user_id\": 120952, \"category\": \"table\", \"action\": \"sort\", \"options\": {\"dir\": \"DESC\", \"name\": \"ac\"}}, {\"id\": 57426007, \"client_id\": 58113, \"user_id\": 120952, \"category\": \"datepicker\", \"action\": \"apply\", \"options\": {\"endDate\": \"2019-03-24 23:59:59\", \"startDate\": \"2019-03-18 00:00:00\"}}, {\"id\": 57426303, \"client_id\": 58113, \"user_id\": 120952, \"category\": \"datepicker\", \"action\": \"apply\", \"options\": {\"endDate\": \"2019-03-17 23:59:59\", \"startDate\": \"2019-03-11 00:00:00\"}}, {\"id\": 57431787, \"client_id\": 58113, \"user_id\": 120952, \"category\": \"page\", \"action\": \"enter\", \"options\": {\"name\": \"page\"}}, {\"id\": 57444593, \"client_id\": 57613, \"user_id\": 110958, \"category\": \"page\", \"action\": \"enter\", \"options\": {\"name\": \"landing\"}}, {\"id\": 57453741, \"client_id\": 61244, \"user_id\": 120170, \"category\": \"page\", \"action\": \"enter\", \"options\": {\"name\": \"landing\"}}, {\"id\": 57467371, \"client_id\": 53666, \"user_id\": 122224, \"category\": \"page\", \"action\": \"enter\", \"options\": {\"name\": \"landing\"}}, {\"id\": 57473917, \"client_id\": 53018, \"user_id\": 92402, \"category\": \"page\", \"action\": \"enter\", \"options\": {\"name\": \"landing\"}}, {\"id\": 57475785, \"client_id\": 53666, \"user_id\": 122224, \"category\": \"page\", \"action\": \"enter\", \"options\": {\"name\": \"landing\"}}, {\"id\": 57492477, \"client_id\": 41737, \"user_id\": 122874, \"category\": \"page\", \"action\": \"enter\", \"options\": {\"name\": \"landing\"}}, {\"id\": 57493427, \"client_id\": 61078, \"user_id\": 119662, \"category\": \"page\", \"action\": \"enter\", \"options\": {\"name\": \"landing\"}}, {\"id\": 57515935, \"client_id\": 20820, \"user_id\": 116898, \"category\": \"page\", \"action\": \"enter\", \"options\": {\"name\": \"landing\"}}, {\"id\": 57517657, \"client_id\": 41737, \"user_id\": 122874, \"category\": \"page\", \"action\": \"enter\", \"options\": {\"name\": \"landing\"}}, {\"id\": 57540495, \"client_id\": 49700, \"user_id\": 84946, \"category\": \"page\", \"action\": \"enter\", \"options\": {\"name\": \"landing\"}}]}\n",
    "data1 = data[\"events_data\"]\n",
    "clients = []\n",
    "for item in data1:\n",
    "    client = item['client_id']\n",
    "    if item['category'] == \"report\":\n",
    "        clients.append(client)\n",
    "c = collections.Counter()\n",
    "for client in clients:\n",
    "    c[client] += 1\n",
    "print (c)\n",
    "print(c[62602])\n",
    "k = 0\n",
    "for item in data1:\n",
    "    cat = item['category']\n",
    "    if cat == \"page\" and item[\"client_id\"] == 62602:\n",
    "        k += 1\n",
    "print(k)\n"
   ]
  },
  {
   "cell_type": "code",
   "execution_count": 100,
   "metadata": {},
   "outputs": [
    {
     "ename": "TypeError",
     "evalue": "can only concatenate list (not \"str\") to list",
     "output_type": "error",
     "traceback": [
      "\u001b[1;31m---------------------------------------------------------------------------\u001b[0m",
      "\u001b[1;31mTypeError\u001b[0m                                 Traceback (most recent call last)",
      "\u001b[1;32m<ipython-input-100-3562e2c8cf30>\u001b[0m in \u001b[0;36m<module>\u001b[1;34m\u001b[0m\n\u001b[0;32m      1\u001b[0m \u001b[0mproverb\u001b[0m \u001b[1;33m=\u001b[0m \u001b[1;34m'Программисты - это устройства, преобразующие кофеин в код.'\u001b[0m\u001b[1;33m\u001b[0m\u001b[1;33m\u001b[0m\u001b[0m\n\u001b[1;32m----> 2\u001b[1;33m \u001b[0mproverb\u001b[0m\u001b[1;33m[\u001b[0m\u001b[1;36m19\u001b[0m\u001b[1;33m:\u001b[0m\u001b[1;36m29\u001b[0m\u001b[1;33m]\u001b[0m\u001b[1;33m.\u001b[0m\u001b[0msplit\u001b[0m\u001b[1;33m(\u001b[0m\u001b[1;33m)\u001b[0m\u001b[1;33m+\u001b[0m\u001b[1;34m'о'\u001b[0m\u001b[1;33m\u001b[0m\u001b[1;33m\u001b[0m\u001b[0m\n\u001b[0m",
      "\u001b[1;31mTypeError\u001b[0m: can only concatenate list (not \"str\") to list"
     ]
    }
   ],
   "source": [
    "proverb = 'Программисты - это устройства, преобразующие кофеин в код.'\n",
    "proverb[19:29].split()+'о' "
   ]
  },
  {
   "cell_type": "code",
   "execution_count": 3,
   "metadata": {},
   "outputs": [
    {
     "name": "stdout",
     "output_type": "stream",
     "text": [
      "рПгоарммсиыт- э оту тсорсйвт,ап ербоарузщюеик фоие н вок.д\n"
     ]
    }
   ],
   "source": [
    "proverb = 'Программисты - это устройства, преобразующие кофеин в код.'\n",
    "new_proverb = ''\n",
    "for i in range(0,len(proverb),2):\n",
    "    new_proverb += proverb[i + 1]\n",
    "    new_proverb += proverb[i]\n",
    "print(new_proverb)\n",
    "    "
   ]
  },
  {
   "cell_type": "code",
   "execution_count": 5,
   "metadata": {},
   "outputs": [
    {
     "name": "stdout",
     "output_type": "stream",
     "text": [
      "abba\n"
     ]
    }
   ],
   "source": [
    "basic_word = 'abba'\n",
    "inverted_word = basic_word[::-1]\n",
    "print(inverted_word)"
   ]
  },
  {
   "cell_type": "code",
   "execution_count": 6,
   "metadata": {},
   "outputs": [
    {
     "name": "stdout",
     "output_type": "stream",
     "text": [
      "Слово \"программирование\" - это не палиндром\n"
     ]
    }
   ],
   "source": [
    "basic_word = 'программирование'\n",
    "inverted_word = basic_word[::-1]\n",
    "if basic_word == inverted_word:\n",
    "    print('Слово \"', basic_word, '\" является палиндромом', sep = '')\n",
    "else:\n",
    "     print('Слово \"', basic_word, '\" - это не палиндром', sep = '')"
   ]
  },
  {
   "cell_type": "code",
   "execution_count": 7,
   "metadata": {},
   "outputs": [
    {
     "data": {
      "text/plain": [
       "'hf.gu'"
      ]
     },
     "execution_count": 7,
     "metadata": {},
     "output_type": "execute_result"
    }
   ],
   "source": [
    "email = 'hfkhd@hf.gu'\n",
    "email[email.find('@') + 1:]"
   ]
  },
  {
   "cell_type": "code",
   "execution_count": 66,
   "metadata": {},
   "outputs": [
    {
     "name": "stdout",
     "output_type": "stream",
     "text": [
      "14\n"
     ]
    }
   ],
   "source": [
    "number = 56.257\n",
    "numstr = str(number)\n",
    "num = int(numstr[numstr.find('.')+1:])\n",
    "sum1 = 0\n",
    "while num > 0:\n",
    "    sum1 += num % 10\n",
    "    num //= 10\n",
    "print(sum1)"
   ]
  },
  {
   "cell_type": "code",
   "execution_count": 67,
   "metadata": {},
   "outputs": [
    {
     "name": "stdout",
     "output_type": "stream",
     "text": [
      "{'mail.ru': 3, 'yandex.ru': 5, 'gmail.com': 2}\n"
     ]
    }
   ],
   "source": [
    "emails_list = ['vasya@mail.ru', \n",
    "          'akakiy@yandex.ru', \n",
    "          'spyderman@yandex.ru', \n",
    "          'XFiles@gmail.com', \n",
    "          'hello@mail.ru', \n",
    "          'noname@gmail.com', \n",
    "          'DonaldTrump@mail.ru', \n",
    "          'a768#af@yandex.ru', \n",
    "          'Ivan_Ivanovich@yandex.ru', \n",
    "          'thebestmail@yandex.ru']\n",
    "emails_dict = {}\n",
    "for i in emails_list:\n",
    "        key = i[i.find('@') + 1:]\n",
    "        emails_dict.setdefault(key, 0)\n",
    "        emails_dict[key] += 1\n",
    "print(emails_dict)"
   ]
  },
  {
   "cell_type": "code",
   "execution_count": 68,
   "metadata": {},
   "outputs": [
    {
     "name": "stdout",
     "output_type": "stream",
     "text": [
      "Тяжёлая интернет:)зависимость :) это когда ты выходишь из интернета:) а он из тебя нет:)\n"
     ]
    }
   ],
   "source": [
    "string = 'Тяжёлая интернет-зависимость - это когда ты выходишь из интернета, а он из тебя нет.'\n",
    "sep = ['.', ',', ':', '-', '!', '?']\n",
    "for i in string:\n",
    "    if i in sep:\n",
    "        string = string.replace(i, ':)')\n",
    "print(string)\n",
    "\n"
   ]
  },
  {
   "cell_type": "code",
   "execution_count": 69,
   "metadata": {},
   "outputs": [
    {
     "name": "stdout",
     "output_type": "stream",
     "text": [
      "С - согласная буква\n",
      "е - гласная буква\n",
      "в - согласная буква\n",
      "а - гласная буква\n",
      "с - согласная буква\n",
      "т - согласная буква\n",
      "и - гласная буква\n",
      "а - гласная буква\n",
      "н - согласная буква\n"
     ]
    }
   ],
   "source": [
    "name = 'Севастиан'\n",
    "glas = ['а', 'е', 'ё','и','о','у','ы','э','ю', 'я']\n",
    "sogl = ['б','в','г','д','ж','з','й','к','л','м','н','п','р','с','т','ф','х','ц','ч','ш','щ','ъ','ь']\n",
    "for i in name:\n",
    "    if i.lower() in glas:\n",
    "        print(i, '- гласная буква')\n",
    "    else:\n",
    "        print(i, '- согласная буква')"
   ]
  },
  {
   "cell_type": "code",
   "execution_count": 70,
   "metadata": {},
   "outputs": [
    {
     "name": "stdout",
     "output_type": "stream",
     "text": [
      "а н\n"
     ]
    }
   ],
   "source": [
    "import re\n",
    "text = 'Разработка языка Python была начата в конце 1980-х годов сотрудником голландского института CWI Гвидо ван Россумом. Для распределённой ОС Amoeba требовался расширяемый скриптовый язык, и Гвидо начал писать Python на досуге, позаимствовав некоторые наработки для языка ABC (Гвидо участвовал в разработке этого языка, ориентированного на обучение программированию). В феврале 1991 года Гвидо опубликовал исходный текст в группе новостей alt.sources. Название языка произошло вовсе не от вида пресмыкающихся. Автор назвал язык в честь популярного британского комедийного телешоу 1970-х \"Летающий цирк Монти Пайтона\".'\n",
    "pattern = re.compile('а[А-ЯA-Zа-яa-z][А-ЯA-Zа-яa-z]и')\n",
    "p2 = re.compile('[аеёиоуыэюяАЕЁИОУЫЭЮЯ]\\s[бвгджзйклмнпрстфхцчшщъьБВГДЖЗЙКЛМНПРСТФХЦЧШЩ]')\n",
    "print(p2.search(text)[0])"
   ]
  },
  {
   "cell_type": "code",
   "execution_count": 71,
   "metadata": {},
   "outputs": [
    {
     "name": "stdout",
     "output_type": "stream",
     "text": [
      "5\n"
     ]
    }
   ],
   "source": [
    "f = open('StudentsPerformance.csv') \n",
    "edu = []\n",
    "for line in f:\n",
    "    info = line.split(',')\n",
    "    parent = info[1][1:-1]\n",
    "    if not parent in edu:\n",
    "        edu.append(parent)\n",
    "print(len(edu)-1)"
   ]
  },
  {
   "cell_type": "code",
   "execution_count": 35,
   "metadata": {},
   "outputs": [
    {
     "name": "stdout",
     "output_type": "stream",
     "text": [
      "63.02253521126761\n"
     ]
    }
   ],
   "source": [
    "math = []\n",
    "f = open('StudentsPerformance.csv')\n",
    "for line in f:\n",
    "    info = line.split(',')\n",
    "    if info[0] == '\"gender\"':\n",
    "        continue\n",
    "    else:\n",
    "        if info[3] == '\"free/reduced\"':\n",
    "            mark = int(info[7][1:-2])\n",
    "            math.append(mark)\n",
    "\n",
    "sr = sum(math) / len(math)\n",
    "print(sr)"
   ]
  },
  {
   "cell_type": "code",
   "execution_count": 11,
   "metadata": {},
   "outputs": [
    {
     "name": "stdout",
     "output_type": "stream",
     "text": [
      "59\n"
     ]
    }
   ],
   "source": [
    "downmark = 0\n",
    "for i in math:\n",
    "    if i > 90:\n",
    "        downmark += 1\n",
    "print(downmark)"
   ]
  },
  {
   "cell_type": "code",
   "execution_count": 12,
   "metadata": {},
   "outputs": [
    {
     "data": {
      "text/plain": [
       "86.76470588235294"
      ]
     },
     "execution_count": 12,
     "metadata": {},
     "output_type": "execute_result"
    }
   ],
   "source": [
    "\n",
    "59/68*100"
   ]
  },
  {
   "cell_type": "code",
   "execution_count": 29,
   "metadata": {},
   "outputs": [
    {
     "name": "stdout",
     "output_type": "stream",
     "text": [
      "{\"bachelor's degree\": 7, 'some college': 2, \"master's degree\": 2, \"associate's degree\": 7, 'high school': 1, 'some high school': 2}\n"
     ]
    }
   ],
   "source": [
    "students = {}\n",
    "\n",
    "f = open('StudentsPerformance.csv')\n",
    "\n",
    "for line in f:\n",
    "    info = line.split(',')\n",
    "    if info[0] == '\"gender\"':\n",
    "        continue\n",
    "    else:\n",
    "        ethnicity = info[0][1:-1]\n",
    "        parents = info[2][1:-1]\n",
    "        mark = int(info[5][1:-1])\n",
    "        if ethnicity in students:\n",
    "            if parents in students[ethnicity]:\n",
    "                if mark > 90:\n",
    "                    students[ethnicity][parents] += 1\n",
    "            else:\n",
    "                students[ethnicity][parents] = 0\n",
    "        else:\n",
    "            students[ethnicity] = {}\n",
    "            if mark > 90:\n",
    "                students[ethnicity][parents] = 1 \n",
    "            else:\n",
    "                students[ethnicity][parents] = 0\n",
    "print(students['female'])"
   ]
  },
  {
   "cell_type": "code",
   "execution_count": 30,
   "metadata": {},
   "outputs": [
    {
     "name": "stdout",
     "output_type": "stream",
     "text": [
      "yam\n"
     ]
    }
   ],
   "source": [
    "string = \"may\"\n",
    "print(string[::-1])"
   ]
  },
  {
   "cell_type": "code",
   "execution_count": 66,
   "metadata": {},
   "outputs": [
    {
     "data": {
      "text/plain": [
       "3"
      ]
     },
     "execution_count": 66,
     "metadata": {},
     "output_type": "execute_result"
    }
   ],
   "source": [
    "def get_median(x):\n",
    "    x.sort()\n",
    "    a = len(x)\n",
    "    if a % 2 == 0:\n",
    "        return (x[a // 2 - 1] + x[a // 2]) // 2\n",
    "    else:\n",
    "        return(x[a // 2])\n",
    "get_median([5, 2, 1, 3, 4])"
   ]
  },
  {
   "cell_type": "code",
   "execution_count": 42,
   "metadata": {},
   "outputs": [
    {
     "name": "stdout",
     "output_type": "stream",
     "text": [
      "29.0\n"
     ]
    }
   ],
   "source": [
    "user_db = [{'orders': 12}, {'orders': 30}, {'orders': 45}]\n",
    "\n",
    "def avg_orders(user_db):\n",
    "    order_sum = sum([user['orders'] for user in user_db])\n",
    "    orders_per_user = order_sum/len(user_db)\n",
    "    return orders_per_user\n",
    "print(avg_orders(user_db))"
   ]
  },
  {
   "cell_type": "code",
   "execution_count": 43,
   "metadata": {},
   "outputs": [],
   "source": [
    "# добавьте функцию get_euro_rate\n",
    "from random import random\n",
    "def get_euro_rate():\n",
    "    while True:\n",
    "        a = random()\n",
    "        if a > 65.0 and a < 85.0:\n",
    "            return a\n",
    "\n",
    "# используйте get_euro_rate в следующей функции\n",
    "def to_euro(price):  \n",
    "    exchange_rate = get_euro_rate()\n",
    "    rounded = round(price/exchange_rate, 2)  \n",
    "    return '€' + str(rounded)\n",
    "\n"
   ]
  },
  {
   "cell_type": "code",
   "execution_count": 44,
   "metadata": {},
   "outputs": [
    {
     "data": {
      "text/plain": [
       "[5.0, 10.0]"
      ]
     },
     "execution_count": 44,
     "metadata": {},
     "output_type": "execute_result"
    }
   ],
   "source": [
    "def normalize(numbers, mean = 0, std = 1):\n",
    "    return list(map(lambda x: (x - mean) / std, numbers))\n",
    "normalize([10, 20], std=2)"
   ]
  },
  {
   "cell_type": "code",
   "execution_count": 45,
   "metadata": {},
   "outputs": [
    {
     "data": {
      "text/plain": [
       "21"
      ]
     },
     "execution_count": 45,
     "metadata": {},
     "output_type": "execute_result"
    }
   ],
   "source": [
    "def sum_args(*args):\n",
    "    product = 0\n",
    "    for num in args:\n",
    "        product += num\n",
    "    return product\n",
    "sum_args(10, 15, -4)"
   ]
  },
  {
   "cell_type": "code",
   "execution_count": 64,
   "metadata": {},
   "outputs": [
    {
     "data": {
      "text/plain": [
       "3.4285714285714284"
      ]
     },
     "execution_count": 64,
     "metadata": {},
     "output_type": "execute_result"
    }
   ],
   "source": [
    "def count_letters(sentence, average = False):\n",
    "    counter = 0\n",
    "    cwords = 0\n",
    "    for i in sentence:\n",
    "        if i != ' ':\n",
    "            counter += 1\n",
    "        else:\n",
    "            cwords += 1\n",
    "    if average == False:\n",
    "        return counter\n",
    "    else:\n",
    "        return counter / (cwords + 1)\n",
    "count_letters(\"I will build my own theme park\", average=True)"
   ]
  },
  {
   "cell_type": "code",
   "execution_count": 63,
   "metadata": {},
   "outputs": [
    {
     "data": {
      "text/plain": [
       "5"
      ]
     },
     "execution_count": 63,
     "metadata": {},
     "output_type": "execute_result"
    }
   ],
   "source": [
    "def always(n):\n",
    "    def ret():\n",
    "        return n\n",
    "    return ret()\n",
    "five = always(5)\n",
    "five"
   ]
  },
  {
   "cell_type": "code",
   "execution_count": 92,
   "metadata": {},
   "outputs": [
    {
     "name": "stdout",
     "output_type": "stream",
     "text": [
      "Ваш алгоритм угадывает число в среднем за 5 попыток\n"
     ]
    },
    {
     "data": {
      "text/plain": [
       "5"
      ]
     },
     "execution_count": 92,
     "metadata": {},
     "output_type": "execute_result"
    }
   ],
   "source": [
    "import numpy as np\n",
    "def game_core_v2(number):\n",
    "    '''Изначально берём середину отрезка в качестве предположения.\n",
    "       Сокращаем отрезок в 2 раза на каждой итерации цикла.\n",
    "       Функция принимает загаданное число и возвращает число попыток'''\n",
    "    count = 1\n",
    "    predict = 50\n",
    "    left = 0\n",
    "    right = 100\n",
    "    while number != predict:\n",
    "        count+=1\n",
    "        if number > predict:\n",
    "            left = predict\n",
    "            predict = (predict + 1 + right) // 2\n",
    "        elif number < predict:\n",
    "            right = predict\n",
    "            predict = (predict + left) // 2\n",
    "    return(count) # выход из цикла, если угадали\n",
    "def score_game(game_core):\n",
    "    '''Запускаем 1000 раз, чтобы узнать, как быстро игра угадывает число'''\n",
    "    count_ls = []\n",
    "    np.random.seed(1) #фиксируем RANDOM SEED, чтобы опыт был воспроизводим\n",
    "    random_array = np.random.randint(1,101, size=(1000))\n",
    "    for number in random_array:\n",
    "        count_ls.append(game_core(number))\n",
    "    score = int(np.mean(count_ls))\n",
    "    print(f\"Ваш алгоритм угадывает число в среднем за {score} попыток\")\n",
    "    return(score)\n",
    "score_game(game_core_v2)"
   ]
  },
  {
   "cell_type": "code",
   "execution_count": 91,
   "metadata": {},
   "outputs": [
    {
     "data": {
      "text/plain": [
       "74"
      ]
     },
     "execution_count": 91,
     "metadata": {},
     "output_type": "execute_result"
    }
   ],
   "source": [
    "len(\"    np.random.seed(1) #фиксируем RANDOM SEED, чтобы опыт был воспроизводим\")"
   ]
  },
  {
   "cell_type": "code",
   "execution_count": 1,
   "metadata": {},
   "outputs": [],
   "source": [
    "import pandas as pd"
   ]
  },
  {
   "cell_type": "code",
   "execution_count": 2,
   "metadata": {},
   "outputs": [
    {
     "data": {
      "text/plain": [
       "Первый        Январь\n",
       "Второй       Февраль\n",
       "Третий          Март\n",
       "Четвёртый     Апрель\n",
       "dtype: object"
      ]
     },
     "metadata": {},
     "output_type": "display_data"
    }
   ],
   "source": [
    "data = pd.Series([\"Январь\", \"Февраль\", \"Март\", \"Апрель\"],\n",
    "                 index = ['Первый', \"Второй\", \"Третий\", \"Четвёртый\"])\n",
    "display(data)"
   ]
  },
  {
   "cell_type": "code",
   "execution_count": 3,
   "metadata": {},
   "outputs": [
    {
     "data": {
      "text/plain": [
       "Первый    Январь\n",
       "Третий      Март\n",
       "dtype: object"
      ]
     },
     "execution_count": 3,
     "metadata": {},
     "output_type": "execute_result"
    }
   ],
   "source": [
    "data.loc[[\"Первый\", \"Третий\"]]"
   ]
  },
  {
   "cell_type": "code",
   "execution_count": 4,
   "metadata": {},
   "outputs": [
    {
     "data": {
      "text/plain": [
       "Первый    Январь\n",
       "Третий      Март\n",
       "dtype: object"
      ]
     },
     "execution_count": 4,
     "metadata": {},
     "output_type": "execute_result"
    }
   ],
   "source": [
    "data[[\"Первый\", \"Третий\"]]"
   ]
  },
  {
   "cell_type": "code",
   "execution_count": 5,
   "metadata": {},
   "outputs": [
    {
     "data": {
      "text/plain": [
       "Первый    Январь\n",
       "Третий      Март\n",
       "dtype: object"
      ]
     },
     "execution_count": 5,
     "metadata": {},
     "output_type": "execute_result"
    }
   ],
   "source": [
    "data.iloc[[0, 2]]"
   ]
  },
  {
   "cell_type": "code",
   "execution_count": 6,
   "metadata": {},
   "outputs": [],
   "source": [
    "data = pd.Series(list(range(10, 1001)))"
   ]
  },
  {
   "cell_type": "code",
   "execution_count": 7,
   "metadata": {},
   "outputs": [
    {
     "name": "stdout",
     "output_type": "stream",
     "text": [
      "-70\n"
     ]
    }
   ],
   "source": [
    "print(data.loc[10] + data.loc[23] - data.loc[245] + data.iloc[122])"
   ]
  },
  {
   "cell_type": "code",
   "execution_count": 8,
   "metadata": {},
   "outputs": [
    {
     "data": {
      "text/html": [
       "<div>\n",
       "<style scoped>\n",
       "    .dataframe tbody tr th:only-of-type {\n",
       "        vertical-align: middle;\n",
       "    }\n",
       "\n",
       "    .dataframe tbody tr th {\n",
       "        vertical-align: top;\n",
       "    }\n",
       "\n",
       "    .dataframe thead th {\n",
       "        text-align: right;\n",
       "    }\n",
       "</style>\n",
       "<table border=\"1\" class=\"dataframe\">\n",
       "  <thead>\n",
       "    <tr style=\"text-align: right;\">\n",
       "      <th></th>\n",
       "      <th>foo</th>\n",
       "      <th>bar</th>\n",
       "      <th>baz</th>\n",
       "    </tr>\n",
       "  </thead>\n",
       "  <tbody>\n",
       "    <tr>\n",
       "      <th>foobar</th>\n",
       "      <td>1</td>\n",
       "      <td>2</td>\n",
       "      <td>3</td>\n",
       "    </tr>\n",
       "    <tr>\n",
       "      <th>foobaz</th>\n",
       "      <td>2</td>\n",
       "      <td>3</td>\n",
       "      <td>4</td>\n",
       "    </tr>\n",
       "  </tbody>\n",
       "</table>\n",
       "</div>"
      ],
      "text/plain": [
       "        foo  bar  baz\n",
       "foobar    1    2    3\n",
       "foobaz    2    3    4"
      ]
     },
     "metadata": {},
     "output_type": "display_data"
    }
   ],
   "source": [
    "df = pd.DataFrame([ [1,2,3], [2,3,4] ],\n",
    "                  columns = ['foo', 'bar', 'baz'], \n",
    "                  index = ['foobar', 'foobaz'])\n",
    "display(df)"
   ]
  },
  {
   "cell_type": "code",
   "execution_count": 11,
   "metadata": {},
   "outputs": [
    {
     "data": {
      "text/plain": [
       "5.7"
      ]
     },
     "execution_count": 11,
     "metadata": {},
     "output_type": "execute_result"
    }
   ],
   "source": [
    "df = pd.DataFrame([[i,i+1.2,i+2, 'hi'] for i in range(10)],\n",
    "                  columns = ['foo', 'bar', 'baz', 'foobar'])\n",
    "df.mean()\n",
    "df['foo']\n",
    "df.bar.mean()"
   ]
  },
  {
   "cell_type": "code",
   "execution_count": 18,
   "metadata": {},
   "outputs": [],
   "source": [
    "football = pd.read_csv('C://Users/bella/Downloads/data_sf.xls')"
   ]
  },
  {
   "cell_type": "code",
   "execution_count": 19,
   "metadata": {},
   "outputs": [
    {
     "name": "stdout",
     "output_type": "stream",
     "text": [
      "<class 'pandas.core.frame.DataFrame'>\n",
      "RangeIndex: 12897 entries, 0 to 12896\n",
      "Data columns (total 42 columns):\n",
      " #   Column           Non-Null Count  Dtype \n",
      "---  ------           --------------  ----- \n",
      " 0   Unnamed: 0       12897 non-null  int64 \n",
      " 1   Name             12897 non-null  object\n",
      " 2   Age              12897 non-null  int64 \n",
      " 3   Nationality      12897 non-null  object\n",
      " 4   Club             12897 non-null  object\n",
      " 5   Value            12897 non-null  int64 \n",
      " 6   Wage             12897 non-null  int64 \n",
      " 7   Position         12897 non-null  object\n",
      " 8   Crossing         12897 non-null  int64 \n",
      " 9   Finishing        12897 non-null  int64 \n",
      " 10  HeadingAccuracy  12897 non-null  int64 \n",
      " 11  ShortPassing     12897 non-null  int64 \n",
      " 12  Volleys          12897 non-null  int64 \n",
      " 13  Dribbling        12897 non-null  int64 \n",
      " 14  Curve            12897 non-null  int64 \n",
      " 15  FKAccuracy       12897 non-null  int64 \n",
      " 16  LongPassing      12897 non-null  int64 \n",
      " 17  BallControl      12897 non-null  int64 \n",
      " 18  Acceleration     12897 non-null  int64 \n",
      " 19  SprintSpeed      12897 non-null  int64 \n",
      " 20  Agility          12897 non-null  int64 \n",
      " 21  Reactions        12897 non-null  int64 \n",
      " 22  Balance          12897 non-null  int64 \n",
      " 23  ShotPower        12897 non-null  int64 \n",
      " 24  Jumping          12897 non-null  int64 \n",
      " 25  Stamina          12897 non-null  int64 \n",
      " 26  Strength         12897 non-null  int64 \n",
      " 27  LongShots        12897 non-null  int64 \n",
      " 28  Aggression       12897 non-null  int64 \n",
      " 29  Interceptions    12897 non-null  int64 \n",
      " 30  Positioning      12897 non-null  int64 \n",
      " 31  Vision           12897 non-null  int64 \n",
      " 32  Penalties        12897 non-null  int64 \n",
      " 33  Composure        12897 non-null  int64 \n",
      " 34  Marking          12897 non-null  int64 \n",
      " 35  StandingTackle   12897 non-null  int64 \n",
      " 36  SlidingTackle    12897 non-null  int64 \n",
      " 37  GKDiving         12897 non-null  int64 \n",
      " 38  GKHandling       12897 non-null  int64 \n",
      " 39  GKKicking        12897 non-null  int64 \n",
      " 40  GKPositioning    12897 non-null  int64 \n",
      " 41  GKReflexes       12897 non-null  int64 \n",
      "dtypes: int64(38), object(4)\n",
      "memory usage: 4.1+ MB\n"
     ]
    }
   ],
   "source": [
    "football.info()"
   ]
  },
  {
   "cell_type": "code",
   "execution_count": 20,
   "metadata": {},
   "outputs": [
    {
     "data": {
      "text/plain": [
       "14.740435689517149"
      ]
     },
     "execution_count": 20,
     "metadata": {},
     "output_type": "execute_result"
    }
   ],
   "source": [
    "football.ShortPassing.std()"
   ]
  },
  {
   "cell_type": "code",
   "execution_count": 21,
   "metadata": {},
   "outputs": [
    {
     "data": {
      "text/plain": [
       "96954000"
      ]
     },
     "execution_count": 21,
     "metadata": {},
     "output_type": "execute_result"
    }
   ],
   "source": [
    "football.Wage.sum()"
   ]
  },
  {
   "cell_type": "code",
   "execution_count": 22,
   "metadata": {},
   "outputs": [
    {
     "data": {
      "text/plain": [
       "0"
      ]
     },
     "execution_count": 22,
     "metadata": {},
     "output_type": "execute_result"
    }
   ],
   "source": [
    "football.Value.min()"
   ]
  },
  {
   "cell_type": "code",
   "execution_count": 28,
   "metadata": {},
   "outputs": [
    {
     "data": {
      "text/plain": [
       "22789"
      ]
     },
     "execution_count": 28,
     "metadata": {},
     "output_type": "execute_result"
    }
   ],
   "source": [
    "football[football.Nationality == \"Brazil\"].Penalties.sum()"
   ]
  },
  {
   "cell_type": "code",
   "execution_count": 30,
   "metadata": {},
   "outputs": [
    {
     "data": {
      "text/plain": [
       "24"
      ]
     },
     "execution_count": 30,
     "metadata": {},
     "output_type": "execute_result"
    }
   ],
   "source": [
    "football[(football.Composure > 0.9 * football.Composure.max()) & (football.Reactions > 0.9 * football.Reactions.max())].Age.min()"
   ]
  },
  {
   "cell_type": "code",
   "execution_count": 31,
   "metadata": {},
   "outputs": [
    {
     "data": {
      "text/plain": [
       "22.642857142857146"
      ]
     },
     "execution_count": 31,
     "metadata": {},
     "output_type": "execute_result"
    }
   ],
   "source": [
    "football[football.Age == football.Age.max()].Reactions.mean() - football[football.Age == football.Age.min()].Reactions.mean()"
   ]
  },
  {
   "cell_type": "code",
   "execution_count": 33,
   "metadata": {},
   "outputs": [
    {
     "data": {
      "text/plain": [
       "count      1747\n",
       "unique       98\n",
       "top       Spain\n",
       "freq        211\n",
       "Name: Nationality, dtype: object"
      ]
     },
     "execution_count": 33,
     "metadata": {},
     "output_type": "execute_result"
    }
   ],
   "source": [
    "football[football.Value > football.Value.mean()].Nationality.describe()"
   ]
  },
  {
   "cell_type": "code",
   "execution_count": 34,
   "metadata": {},
   "outputs": [
    {
     "data": {
      "text/plain": [
       "2.765957446808511"
      ]
     },
     "execution_count": 34,
     "metadata": {},
     "output_type": "execute_result"
    }
   ],
   "source": [
    "football[(football.Position == \"GK\") & (football.GKReflexes == football.GKReflexes.max())].Wage.mean() / football[(football.Position == \"GK\") & (football.GKHandling == football.GKHandling.max())].Wage.mean()"
   ]
  },
  {
   "cell_type": "code",
   "execution_count": 35,
   "metadata": {},
   "outputs": [
    {
     "data": {
      "text/plain": [
       "2.076923076923077"
      ]
     },
     "execution_count": 35,
     "metadata": {},
     "output_type": "execute_result"
    }
   ],
   "source": [
    "football[football.Aggression == football.Aggression.max()].ShotPower.mean() / football[football.Aggression == football.Aggression.min()].ShotPower.mean()"
   ]
  },
  {
   "cell_type": "code",
   "execution_count": 38,
   "metadata": {},
   "outputs": [],
   "source": [
    "s = football['Club'].value_counts()"
   ]
  },
  {
   "cell_type": "code",
   "execution_count": 39,
   "metadata": {},
   "outputs": [
    {
     "data": {
      "text/plain": [
       "650"
      ]
     },
     "execution_count": 39,
     "metadata": {},
     "output_type": "execute_result"
    }
   ],
   "source": [
    "len(s)"
   ]
  },
  {
   "cell_type": "code",
   "execution_count": 40,
   "metadata": {},
   "outputs": [
    {
     "data": {
      "text/plain": [
       "30"
      ]
     },
     "execution_count": 40,
     "metadata": {},
     "output_type": "execute_result"
    }
   ],
   "source": [
    "s[0]"
   ]
  },
  {
   "cell_type": "code",
   "execution_count": 42,
   "metadata": {},
   "outputs": [
    {
     "data": {
      "text/plain": [
       "V-Varen Nagasaki    30\n",
       "Shonan Bellmare     30\n",
       "Name: Club, dtype: int64"
      ]
     },
     "execution_count": 42,
     "metadata": {},
     "output_type": "execute_result"
    }
   ],
   "source": [
    "s[s == 30]"
   ]
  },
  {
   "cell_type": "code",
   "execution_count": 43,
   "metadata": {},
   "outputs": [
    {
     "data": {
      "text/plain": [
       "6"
      ]
     },
     "execution_count": 43,
     "metadata": {},
     "output_type": "execute_result"
    }
   ],
   "source": [
    "s[-1]"
   ]
  },
  {
   "cell_type": "code",
   "execution_count": 44,
   "metadata": {},
   "outputs": [
    {
     "data": {
      "text/plain": [
       "Atlético Mineiro    6\n",
       "Name: Club, dtype: int64"
      ]
     },
     "execution_count": 44,
     "metadata": {},
     "output_type": "execute_result"
    }
   ],
   "source": [
    "s[s == 6]"
   ]
  },
  {
   "cell_type": "code",
   "execution_count": 45,
   "metadata": {},
   "outputs": [
    {
     "data": {
      "text/plain": [
       "GK     0.127239\n",
       "ST     0.117237\n",
       "CB     0.108785\n",
       "CM     0.082732\n",
       "LB     0.077692\n",
       "RB     0.073505\n",
       "RM     0.059394\n",
       "LM     0.056447\n",
       "CDM    0.053578\n",
       "CAM    0.049081\n",
       "RCB    0.032411\n",
       "LCB    0.031713\n",
       "LW     0.018764\n",
       "RCM    0.018609\n",
       "RW     0.018376\n",
       "LCM    0.018066\n",
       "LDM    0.011476\n",
       "RDM    0.010700\n",
       "LS     0.009382\n",
       "RS     0.008839\n",
       "RWB    0.005428\n",
       "LWB    0.004652\n",
       "CF     0.003954\n",
       "LF     0.000620\n",
       "RF     0.000465\n",
       "LAM    0.000465\n",
       "RAM    0.000388\n",
       "Name: Position, dtype: float64"
      ]
     },
     "execution_count": 45,
     "metadata": {},
     "output_type": "execute_result"
    }
   ],
   "source": [
    "football['Position'].value_counts(normalize=True)"
   ]
  },
  {
   "cell_type": "code",
   "execution_count": 48,
   "metadata": {},
   "outputs": [
    {
     "data": {
      "text/plain": [
       "Interval(447250.0, 565000.0, closed='right')"
      ]
     },
     "execution_count": 48,
     "metadata": {},
     "output_type": "execute_result"
    }
   ],
   "source": [
    "small_df = football[football.columns[0:7]].head(25)\n",
    "s = small_df['Wage'].value_counts(bins=4)\n",
    "s.index[3]"
   ]
  },
  {
   "cell_type": "code",
   "execution_count": 51,
   "metadata": {},
   "outputs": [
    {
     "data": {
      "text/plain": [
       "(21.2, 39.4]     4859\n",
       "(39.4, 57.6]     3957\n",
       "(57.6, 75.8]     2108\n",
       "(2.908, 21.2]    1760\n",
       "(75.8, 94.0]      213\n",
       "Name: FKAccuracy, dtype: int64"
      ]
     },
     "execution_count": 51,
     "metadata": {},
     "output_type": "execute_result"
    }
   ],
   "source": [
    "football['FKAccuracy'].value_counts(bins=5)"
   ]
  },
  {
   "cell_type": "code",
   "execution_count": 61,
   "metadata": {},
   "outputs": [
    {
     "data": {
      "text/plain": [
       "(620.999, 95750.0]      0.970194\n",
       "(95750.0, 190500.0]     0.016393\n",
       "(190500.0, 285250.0]    0.008942\n",
       "(285250.0, 380000.0]    0.004471\n",
       "Name: Wage, dtype: float64"
      ]
     },
     "execution_count": 61,
     "metadata": {},
     "output_type": "execute_result"
    }
   ],
   "source": [
    "football[football.Nationality == 'Spain']['Wage'].value_counts(bins=4, normalize=True)"
   ]
  },
  {
   "cell_type": "code",
   "execution_count": 62,
   "metadata": {},
   "outputs": [
    {
     "data": {
      "text/plain": [
       "13"
      ]
     },
     "execution_count": 62,
     "metadata": {},
     "output_type": "execute_result"
    }
   ],
   "source": [
    "football[football.Club == 'Manchester United']['Nationality'].nunique()"
   ]
  },
  {
   "cell_type": "code",
   "execution_count": 64,
   "metadata": {},
   "outputs": [
    {
     "data": {
      "text/plain": [
       "array(['Alex Sandro', 'Douglas Costa'], dtype=object)"
      ]
     },
     "execution_count": 64,
     "metadata": {},
     "output_type": "execute_result"
    }
   ],
   "source": [
    "football[(football.Club == 'Juventus') & (football.Nationality == 'Brazil')]['Name'].unique()"
   ]
  },
  {
   "cell_type": "code",
   "execution_count": 66,
   "metadata": {},
   "outputs": [
    {
     "data": {
      "text/plain": [
       "Club Atlético Huracán         4\n",
       "Hokkaido Consadole Sapporo    4\n",
       "Club Atlético Tigre           3\n",
       "Nagoya Grampus                3\n",
       "Hammarby IF                   3\n",
       "                             ..\n",
       "Oldham Athletic               1\n",
       "Standard de Liège             1\n",
       "Foggia                        1\n",
       "IK Start                      1\n",
       "Universidad de Chile          1\n",
       "Name: Club, Length: 212, dtype: int64"
      ]
     },
     "execution_count": 66,
     "metadata": {},
     "output_type": "execute_result"
    }
   ],
   "source": [
    "football[football.Age > 35]['Club'].value_counts()"
   ]
  },
  {
   "cell_type": "code",
   "execution_count": 67,
   "metadata": {},
   "outputs": [
    {
     "data": {
      "text/plain": [
       "(22.25, 28.5]      200\n",
       "(15.974, 22.25]    197\n",
       "(28.5, 34.75]      128\n",
       "(34.75, 41.0]       49\n",
       "Name: Age, dtype: int64"
      ]
     },
     "execution_count": 67,
     "metadata": {},
     "output_type": "execute_result"
    }
   ],
   "source": [
    "football[football.Nationality == 'Argentina']['Age'].value_counts(bins = 4)"
   ]
  },
  {
   "cell_type": "code",
   "execution_count": 70,
   "metadata": {},
   "outputs": [
    {
     "data": {
      "text/plain": [
       "21    0.117735\n",
       "22    0.095380\n",
       "20    0.077496\n",
       "23    0.071535\n",
       "25    0.064083\n",
       "27    0.062593\n",
       "24    0.059613\n",
       "28    0.053651\n",
       "26    0.053651\n",
       "29    0.047690\n",
       "19    0.047690\n",
       "18    0.038748\n",
       "30    0.038748\n",
       "31    0.032787\n",
       "32    0.032787\n",
       "33    0.031297\n",
       "34    0.022355\n",
       "17    0.013413\n",
       "35    0.011923\n",
       "36    0.010432\n",
       "37    0.008942\n",
       "39    0.002981\n",
       "16    0.002981\n",
       "38    0.001490\n",
       "Name: Age, dtype: float64"
      ]
     },
     "execution_count": 70,
     "metadata": {},
     "output_type": "execute_result"
    }
   ],
   "source": [
    "football[football.Nationality == 'Spain']['Age'].value_counts(normalize = True)"
   ]
  },
  {
   "cell_type": "code",
   "execution_count": 71,
   "metadata": {},
   "outputs": [
    {
     "data": {
      "text/plain": [
       "Position\n",
       "ST     11873000\n",
       "GK      8784000\n",
       "CB      7476000\n",
       "CM      6194000\n",
       "LB      6096000\n",
       "CAM     5500000\n",
       "LM      5440000\n",
       "RM      5098000\n",
       "RB      5034000\n",
       "CDM     4921000\n",
       "RCB     4711000\n",
       "LCB     3989000\n",
       "RW      3276000\n",
       "RCM     3241000\n",
       "LCM     3145000\n",
       "LW      2945000\n",
       "LS      1866000\n",
       "RDM     1557000\n",
       "RS      1537000\n",
       "LDM     1516000\n",
       "RF       714000\n",
       "LF       601000\n",
       "RWB      420000\n",
       "LAM      366000\n",
       "LWB      347000\n",
       "CF       248000\n",
       "RAM       59000\n",
       "Name: Wage, dtype: int64"
      ]
     },
     "execution_count": 71,
     "metadata": {},
     "output_type": "execute_result"
    }
   ],
   "source": [
    "football.groupby(['Position'])['Wage'].sum().sort_values(ascending=False)"
   ]
  },
  {
   "cell_type": "code",
   "execution_count": 73,
   "metadata": {},
   "outputs": [
    {
     "data": {
      "text/html": [
       "<div>\n",
       "<style scoped>\n",
       "    .dataframe tbody tr th:only-of-type {\n",
       "        vertical-align: middle;\n",
       "    }\n",
       "\n",
       "    .dataframe tbody tr th {\n",
       "        vertical-align: top;\n",
       "    }\n",
       "\n",
       "    .dataframe thead th {\n",
       "        text-align: right;\n",
       "    }\n",
       "</style>\n",
       "<table border=\"1\" class=\"dataframe\">\n",
       "  <thead>\n",
       "    <tr style=\"text-align: right;\">\n",
       "      <th></th>\n",
       "      <th>Wage</th>\n",
       "      <th>Value</th>\n",
       "    </tr>\n",
       "    <tr>\n",
       "      <th>Position</th>\n",
       "      <th></th>\n",
       "      <th></th>\n",
       "    </tr>\n",
       "  </thead>\n",
       "  <tbody>\n",
       "    <tr>\n",
       "      <th>LF</th>\n",
       "      <td>75125.000000</td>\n",
       "      <td>2.736250e+07</td>\n",
       "    </tr>\n",
       "    <tr>\n",
       "      <th>RF</th>\n",
       "      <td>119000.000000</td>\n",
       "      <td>2.636583e+07</td>\n",
       "    </tr>\n",
       "    <tr>\n",
       "      <th>LAM</th>\n",
       "      <td>61000.000000</td>\n",
       "      <td>1.324583e+07</td>\n",
       "    </tr>\n",
       "    <tr>\n",
       "      <th>RAM</th>\n",
       "      <td>11800.000000</td>\n",
       "      <td>8.345000e+06</td>\n",
       "    </tr>\n",
       "    <tr>\n",
       "      <th>LS</th>\n",
       "      <td>15421.487603</td>\n",
       "      <td>5.848430e+06</td>\n",
       "    </tr>\n",
       "    <tr>\n",
       "      <th>LCM</th>\n",
       "      <td>13497.854077</td>\n",
       "      <td>4.318090e+06</td>\n",
       "    </tr>\n",
       "    <tr>\n",
       "      <th>RCM</th>\n",
       "      <td>13504.166667</td>\n",
       "      <td>4.217604e+06</td>\n",
       "    </tr>\n",
       "    <tr>\n",
       "      <th>RS</th>\n",
       "      <td>13482.456140</td>\n",
       "      <td>3.645833e+06</td>\n",
       "    </tr>\n",
       "    <tr>\n",
       "      <th>LW</th>\n",
       "      <td>12169.421488</td>\n",
       "      <td>3.603099e+06</td>\n",
       "    </tr>\n",
       "    <tr>\n",
       "      <th>RW</th>\n",
       "      <td>13822.784810</td>\n",
       "      <td>3.495738e+06</td>\n",
       "    </tr>\n",
       "  </tbody>\n",
       "</table>\n",
       "</div>"
      ],
      "text/plain": [
       "                   Wage         Value\n",
       "Position                             \n",
       "LF         75125.000000  2.736250e+07\n",
       "RF        119000.000000  2.636583e+07\n",
       "LAM        61000.000000  1.324583e+07\n",
       "RAM        11800.000000  8.345000e+06\n",
       "LS         15421.487603  5.848430e+06\n",
       "LCM        13497.854077  4.318090e+06\n",
       "RCM        13504.166667  4.217604e+06\n",
       "RS         13482.456140  3.645833e+06\n",
       "LW         12169.421488  3.603099e+06\n",
       "RW         13822.784810  3.495738e+06"
      ]
     },
     "execution_count": 73,
     "metadata": {},
     "output_type": "execute_result"
    }
   ],
   "source": [
    "football.groupby(['Position'])[['Wage','Value']].mean.sort_values(['Value'],ascending=False).head(10)()"
   ]
  },
  {
   "cell_type": "code",
   "execution_count": 97,
   "metadata": {},
   "outputs": [
    {
     "data": {
      "text/html": [
       "<div>\n",
       "<style scoped>\n",
       "    .dataframe tbody tr th:only-of-type {\n",
       "        vertical-align: middle;\n",
       "    }\n",
       "\n",
       "    .dataframe tbody tr th {\n",
       "        vertical-align: top;\n",
       "    }\n",
       "\n",
       "    .dataframe thead th {\n",
       "        text-align: right;\n",
       "    }\n",
       "</style>\n",
       "<table border=\"1\" class=\"dataframe\">\n",
       "  <thead>\n",
       "    <tr style=\"text-align: right;\">\n",
       "      <th></th>\n",
       "      <th>mean</th>\n",
       "      <th>median</th>\n",
       "    </tr>\n",
       "    <tr>\n",
       "      <th>Club</th>\n",
       "      <th></th>\n",
       "      <th></th>\n",
       "    </tr>\n",
       "  </thead>\n",
       "  <tbody>\n",
       "    <tr>\n",
       "      <th>SSV Jahn Regensburg</th>\n",
       "      <td>3750.000000</td>\n",
       "      <td>3500</td>\n",
       "    </tr>\n",
       "    <tr>\n",
       "      <th>1. FC Heidenheim 1846</th>\n",
       "      <td>3800.000000</td>\n",
       "      <td>3000</td>\n",
       "    </tr>\n",
       "    <tr>\n",
       "      <th>1. FC Kaiserslautern</th>\n",
       "      <td>1434.782609</td>\n",
       "      <td>1000</td>\n",
       "    </tr>\n",
       "    <tr>\n",
       "      <th>1. FC Köln</th>\n",
       "      <td>9200.000000</td>\n",
       "      <td>4000</td>\n",
       "    </tr>\n",
       "    <tr>\n",
       "      <th>1. FC Magdeburg</th>\n",
       "      <td>4000.000000</td>\n",
       "      <td>4000</td>\n",
       "    </tr>\n",
       "    <tr>\n",
       "      <th>...</th>\n",
       "      <td>...</td>\n",
       "      <td>...</td>\n",
       "    </tr>\n",
       "    <tr>\n",
       "      <th>Zagłębie Sosnowiec</th>\n",
       "      <td>1080.000000</td>\n",
       "      <td>1000</td>\n",
       "    </tr>\n",
       "    <tr>\n",
       "      <th>Çaykur Rizespor</th>\n",
       "      <td>5363.636364</td>\n",
       "      <td>4500</td>\n",
       "    </tr>\n",
       "    <tr>\n",
       "      <th>Örebro SK</th>\n",
       "      <td>1384.615385</td>\n",
       "      <td>1000</td>\n",
       "    </tr>\n",
       "    <tr>\n",
       "      <th>Östersunds FK</th>\n",
       "      <td>1950.000000</td>\n",
       "      <td>1000</td>\n",
       "    </tr>\n",
       "    <tr>\n",
       "      <th>Śląsk Wrocław</th>\n",
       "      <td>2083.333333</td>\n",
       "      <td>2000</td>\n",
       "    </tr>\n",
       "  </tbody>\n",
       "</table>\n",
       "<p>650 rows × 2 columns</p>\n",
       "</div>"
      ],
      "text/plain": [
       "                              mean  median\n",
       "Club                                      \n",
       " SSV Jahn Regensburg   3750.000000    3500\n",
       "1. FC Heidenheim 1846  3800.000000    3000\n",
       "1. FC Kaiserslautern   1434.782609    1000\n",
       "1. FC Köln             9200.000000    4000\n",
       "1. FC Magdeburg        4000.000000    4000\n",
       "...                            ...     ...\n",
       "Zagłębie Sosnowiec     1080.000000    1000\n",
       "Çaykur Rizespor        5363.636364    4500\n",
       "Örebro SK              1384.615385    1000\n",
       "Östersunds FK          1950.000000    1000\n",
       "Śląsk Wrocław          2083.333333    2000\n",
       "\n",
       "[650 rows x 2 columns]"
      ]
     },
     "metadata": {},
     "output_type": "display_data"
    }
   ],
   "source": [
    "df = football.groupby('Club')['Wage'].agg(['mean', 'median'])\n",
    "display(df)"
   ]
  },
  {
   "cell_type": "code",
   "execution_count": 100,
   "metadata": {},
   "outputs": [
    {
     "data": {
      "text/html": [
       "<div>\n",
       "<style scoped>\n",
       "    .dataframe tbody tr th:only-of-type {\n",
       "        vertical-align: middle;\n",
       "    }\n",
       "\n",
       "    .dataframe tbody tr th {\n",
       "        vertical-align: top;\n",
       "    }\n",
       "\n",
       "    .dataframe thead th {\n",
       "        text-align: right;\n",
       "    }\n",
       "</style>\n",
       "<table border=\"1\" class=\"dataframe\">\n",
       "  <thead>\n",
       "    <tr style=\"text-align: right;\">\n",
       "      <th></th>\n",
       "      <th>mean</th>\n",
       "      <th>median</th>\n",
       "    </tr>\n",
       "    <tr>\n",
       "      <th>Club</th>\n",
       "      <th></th>\n",
       "      <th></th>\n",
       "    </tr>\n",
       "  </thead>\n",
       "  <tbody>\n",
       "    <tr>\n",
       "      <th>1. FC Magdeburg</th>\n",
       "      <td>4000.0</td>\n",
       "      <td>4000</td>\n",
       "    </tr>\n",
       "    <tr>\n",
       "      <th>AEK Athens</th>\n",
       "      <td>1000.0</td>\n",
       "      <td>1000</td>\n",
       "    </tr>\n",
       "    <tr>\n",
       "      <th>AJ Auxerre</th>\n",
       "      <td>2000.0</td>\n",
       "      <td>2000</td>\n",
       "    </tr>\n",
       "    <tr>\n",
       "      <th>Benevento</th>\n",
       "      <td>2000.0</td>\n",
       "      <td>2000</td>\n",
       "    </tr>\n",
       "    <tr>\n",
       "      <th>Bohemian FC</th>\n",
       "      <td>1000.0</td>\n",
       "      <td>1000</td>\n",
       "    </tr>\n",
       "    <tr>\n",
       "      <th>Boyacá Chicó FC</th>\n",
       "      <td>1000.0</td>\n",
       "      <td>1000</td>\n",
       "    </tr>\n",
       "    <tr>\n",
       "      <th>Bray Wanderers</th>\n",
       "      <td>1000.0</td>\n",
       "      <td>1000</td>\n",
       "    </tr>\n",
       "    <tr>\n",
       "      <th>Brøndby IF</th>\n",
       "      <td>6000.0</td>\n",
       "      <td>6000</td>\n",
       "    </tr>\n",
       "    <tr>\n",
       "      <th>CD Feirense</th>\n",
       "      <td>4000.0</td>\n",
       "      <td>4000</td>\n",
       "    </tr>\n",
       "    <tr>\n",
       "      <th>CD Tondela</th>\n",
       "      <td>2000.0</td>\n",
       "      <td>2000</td>\n",
       "    </tr>\n",
       "    <tr>\n",
       "      <th>Cork City</th>\n",
       "      <td>1000.0</td>\n",
       "      <td>1000</td>\n",
       "    </tr>\n",
       "    <tr>\n",
       "      <th>Cruzeiro</th>\n",
       "      <td>13000.0</td>\n",
       "      <td>13000</td>\n",
       "    </tr>\n",
       "    <tr>\n",
       "      <th>Deportivo Pasto</th>\n",
       "      <td>1000.0</td>\n",
       "      <td>1000</td>\n",
       "    </tr>\n",
       "    <tr>\n",
       "      <th>Dinamo Zagreb</th>\n",
       "      <td>1000.0</td>\n",
       "      <td>1000</td>\n",
       "    </tr>\n",
       "    <tr>\n",
       "      <th>Dundalk</th>\n",
       "      <td>1000.0</td>\n",
       "      <td>1000</td>\n",
       "    </tr>\n",
       "    <tr>\n",
       "      <th>Dynamo Kyiv</th>\n",
       "      <td>1000.0</td>\n",
       "      <td>1000</td>\n",
       "    </tr>\n",
       "    <tr>\n",
       "      <th>Envigado FC</th>\n",
       "      <td>1000.0</td>\n",
       "      <td>1000</td>\n",
       "    </tr>\n",
       "    <tr>\n",
       "      <th>FC Energie Cottbus</th>\n",
       "      <td>1000.0</td>\n",
       "      <td>1000</td>\n",
       "    </tr>\n",
       "    <tr>\n",
       "      <th>FC Metz</th>\n",
       "      <td>1500.0</td>\n",
       "      <td>1500</td>\n",
       "    </tr>\n",
       "    <tr>\n",
       "      <th>Grimsby Town</th>\n",
       "      <td>2000.0</td>\n",
       "      <td>2000</td>\n",
       "    </tr>\n",
       "    <tr>\n",
       "      <th>Göztepe SK</th>\n",
       "      <td>7000.0</td>\n",
       "      <td>7000</td>\n",
       "    </tr>\n",
       "    <tr>\n",
       "      <th>HJK Helsinki</th>\n",
       "      <td>1000.0</td>\n",
       "      <td>1000</td>\n",
       "    </tr>\n",
       "    <tr>\n",
       "      <th>Heracles Almelo</th>\n",
       "      <td>2000.0</td>\n",
       "      <td>2000</td>\n",
       "    </tr>\n",
       "    <tr>\n",
       "      <th>IF Brommapojkarna</th>\n",
       "      <td>1000.0</td>\n",
       "      <td>1000</td>\n",
       "    </tr>\n",
       "    <tr>\n",
       "      <th>IK Sirius</th>\n",
       "      <td>1000.0</td>\n",
       "      <td>1000</td>\n",
       "    </tr>\n",
       "    <tr>\n",
       "      <th>Itagüí Leones FC</th>\n",
       "      <td>1000.0</td>\n",
       "      <td>1000</td>\n",
       "    </tr>\n",
       "    <tr>\n",
       "      <th>Jaguares de Córdoba</th>\n",
       "      <td>1000.0</td>\n",
       "      <td>1000</td>\n",
       "    </tr>\n",
       "    <tr>\n",
       "      <th>Jeonnam Dragons</th>\n",
       "      <td>2000.0</td>\n",
       "      <td>2000</td>\n",
       "    </tr>\n",
       "    <tr>\n",
       "      <th>Kaizer Chiefs</th>\n",
       "      <td>1000.0</td>\n",
       "      <td>1000</td>\n",
       "    </tr>\n",
       "    <tr>\n",
       "      <th>Kashiwa Reysol</th>\n",
       "      <td>2000.0</td>\n",
       "      <td>2000</td>\n",
       "    </tr>\n",
       "    <tr>\n",
       "      <th>Limerick FC</th>\n",
       "      <td>1000.0</td>\n",
       "      <td>1000</td>\n",
       "    </tr>\n",
       "    <tr>\n",
       "      <th>Lokomotiv Moscow</th>\n",
       "      <td>1000.0</td>\n",
       "      <td>1000</td>\n",
       "    </tr>\n",
       "    <tr>\n",
       "      <th>Northampton Town</th>\n",
       "      <td>2500.0</td>\n",
       "      <td>2500</td>\n",
       "    </tr>\n",
       "    <tr>\n",
       "      <th>Olympiacos CFP</th>\n",
       "      <td>1000.0</td>\n",
       "      <td>1000</td>\n",
       "    </tr>\n",
       "    <tr>\n",
       "      <th>Orlando Pirates</th>\n",
       "      <td>1000.0</td>\n",
       "      <td>1000</td>\n",
       "    </tr>\n",
       "    <tr>\n",
       "      <th>PAOK</th>\n",
       "      <td>1000.0</td>\n",
       "      <td>1000</td>\n",
       "    </tr>\n",
       "    <tr>\n",
       "      <th>PFC CSKA Moscow</th>\n",
       "      <td>1000.0</td>\n",
       "      <td>1000</td>\n",
       "    </tr>\n",
       "    <tr>\n",
       "      <th>Panathinaikos FC</th>\n",
       "      <td>1000.0</td>\n",
       "      <td>1000</td>\n",
       "    </tr>\n",
       "    <tr>\n",
       "      <th>Patriotas Boyacá FC</th>\n",
       "      <td>1000.0</td>\n",
       "      <td>1000</td>\n",
       "    </tr>\n",
       "    <tr>\n",
       "      <th>Philadelphia Union</th>\n",
       "      <td>2000.0</td>\n",
       "      <td>2000</td>\n",
       "    </tr>\n",
       "    <tr>\n",
       "      <th>Pohang Steelers</th>\n",
       "      <td>2000.0</td>\n",
       "      <td>2000</td>\n",
       "    </tr>\n",
       "    <tr>\n",
       "      <th>SK Slavia Praha</th>\n",
       "      <td>1000.0</td>\n",
       "      <td>1000</td>\n",
       "    </tr>\n",
       "    <tr>\n",
       "      <th>Shakhtar Donetsk</th>\n",
       "      <td>1000.0</td>\n",
       "      <td>1000</td>\n",
       "    </tr>\n",
       "    <tr>\n",
       "      <th>Shamrock Rovers</th>\n",
       "      <td>1000.0</td>\n",
       "      <td>1000</td>\n",
       "    </tr>\n",
       "    <tr>\n",
       "      <th>Sligo Rovers</th>\n",
       "      <td>1000.0</td>\n",
       "      <td>1000</td>\n",
       "    </tr>\n",
       "    <tr>\n",
       "      <th>Sparta Praha</th>\n",
       "      <td>1000.0</td>\n",
       "      <td>1000</td>\n",
       "    </tr>\n",
       "    <tr>\n",
       "      <th>Spartak Moscow</th>\n",
       "      <td>1000.0</td>\n",
       "      <td>1000</td>\n",
       "    </tr>\n",
       "    <tr>\n",
       "      <th>St. Patrick's Athletic</th>\n",
       "      <td>1000.0</td>\n",
       "      <td>1000</td>\n",
       "    </tr>\n",
       "    <tr>\n",
       "      <th>Stade Brestois 29</th>\n",
       "      <td>2000.0</td>\n",
       "      <td>2000</td>\n",
       "    </tr>\n",
       "    <tr>\n",
       "      <th>Sunderland</th>\n",
       "      <td>4000.0</td>\n",
       "      <td>4000</td>\n",
       "    </tr>\n",
       "    <tr>\n",
       "      <th>Trelleborgs FF</th>\n",
       "      <td>1000.0</td>\n",
       "      <td>1000</td>\n",
       "    </tr>\n",
       "    <tr>\n",
       "      <th>Viktoria Plzeň</th>\n",
       "      <td>1000.0</td>\n",
       "      <td>1000</td>\n",
       "    </tr>\n",
       "  </tbody>\n",
       "</table>\n",
       "</div>"
      ],
      "text/plain": [
       "                           mean  median\n",
       "Club                                   \n",
       "1. FC Magdeburg          4000.0    4000\n",
       "AEK Athens               1000.0    1000\n",
       "AJ Auxerre               2000.0    2000\n",
       "Benevento                2000.0    2000\n",
       "Bohemian FC              1000.0    1000\n",
       "Boyacá Chicó FC          1000.0    1000\n",
       "Bray Wanderers           1000.0    1000\n",
       "Brøndby IF               6000.0    6000\n",
       "CD Feirense              4000.0    4000\n",
       "CD Tondela               2000.0    2000\n",
       "Cork City                1000.0    1000\n",
       "Cruzeiro                13000.0   13000\n",
       "Deportivo Pasto          1000.0    1000\n",
       "Dinamo Zagreb            1000.0    1000\n",
       "Dundalk                  1000.0    1000\n",
       "Dynamo Kyiv              1000.0    1000\n",
       "Envigado FC              1000.0    1000\n",
       "FC Energie Cottbus       1000.0    1000\n",
       "FC Metz                  1500.0    1500\n",
       "Grimsby Town             2000.0    2000\n",
       "Göztepe SK               7000.0    7000\n",
       "HJK Helsinki             1000.0    1000\n",
       "Heracles Almelo          2000.0    2000\n",
       "IF Brommapojkarna        1000.0    1000\n",
       "IK Sirius                1000.0    1000\n",
       "Itagüí Leones FC         1000.0    1000\n",
       "Jaguares de Córdoba      1000.0    1000\n",
       "Jeonnam Dragons          2000.0    2000\n",
       "Kaizer Chiefs            1000.0    1000\n",
       "Kashiwa Reysol           2000.0    2000\n",
       "Limerick FC              1000.0    1000\n",
       "Lokomotiv Moscow         1000.0    1000\n",
       "Northampton Town         2500.0    2500\n",
       "Olympiacos CFP           1000.0    1000\n",
       "Orlando Pirates          1000.0    1000\n",
       "PAOK                     1000.0    1000\n",
       "PFC CSKA Moscow          1000.0    1000\n",
       "Panathinaikos FC         1000.0    1000\n",
       "Patriotas Boyacá FC      1000.0    1000\n",
       "Philadelphia Union       2000.0    2000\n",
       "Pohang Steelers          2000.0    2000\n",
       "SK Slavia Praha          1000.0    1000\n",
       "Shakhtar Donetsk         1000.0    1000\n",
       "Shamrock Rovers          1000.0    1000\n",
       "Sligo Rovers             1000.0    1000\n",
       "Sparta Praha             1000.0    1000\n",
       "Spartak Moscow           1000.0    1000\n",
       "St. Patrick's Athletic   1000.0    1000\n",
       "Stade Brestois 29        2000.0    2000\n",
       "Sunderland               4000.0    4000\n",
       "Trelleborgs FF           1000.0    1000\n",
       "Viktoria Plzeň           1000.0    1000"
      ]
     },
     "metadata": {},
     "output_type": "display_data"
    }
   ],
   "source": [
    "df1 = df[df['mean'] - df['median'] == 0.0]\n",
    "display(df1)"
   ]
  },
  {
   "cell_type": "code",
   "execution_count": 89,
   "metadata": {},
   "outputs": [
    {
     "data": {
      "text/plain": [
       "188090.9090909091"
      ]
     },
     "execution_count": 89,
     "metadata": {},
     "output_type": "execute_result"
    }
   ],
   "source": [
    "df1['mean'].max()"
   ]
  },
  {
   "cell_type": "code",
   "execution_count": 98,
   "metadata": {},
   "outputs": [
    {
     "data": {
      "text/plain": [
       "0.0"
      ]
     },
     "execution_count": 98,
     "metadata": {},
     "output_type": "execute_result"
    }
   ],
   "source": [
    "4000.000000 - 4000"
   ]
  },
  {
   "cell_type": "code",
   "execution_count": 102,
   "metadata": {},
   "outputs": [
    {
     "data": {
      "text/plain": [
       "2035000"
      ]
     },
     "execution_count": 102,
     "metadata": {},
     "output_type": "execute_result"
    }
   ],
   "source": [
    "football.groupby('Club')['Wage'].sum()['Chelsea']"
   ]
  },
  {
   "cell_type": "code",
   "execution_count": 107,
   "metadata": {},
   "outputs": [
    {
     "data": {
      "text/plain": [
       "Nationality\n",
       "Argentina      59\n",
       "Belgium        79\n",
       "Brazil         62\n",
       "Chile          79\n",
       "Croatia        66\n",
       "France         84\n",
       "Germany        79\n",
       "Netherlands    67\n",
       "Portugal       62\n",
       "Spain          83\n",
       "Uruguay        83\n",
       "Name: Strength, dtype: int64"
      ]
     },
     "execution_count": 107,
     "metadata": {},
     "output_type": "execute_result"
    }
   ],
   "source": [
    "football[football.Club == 'FC Barcelona'].groupby('Nationality')['Strength'].max()"
   ]
  },
  {
   "cell_type": "code",
   "execution_count": 109,
   "metadata": {},
   "outputs": [
    {
     "data": {
      "text/html": [
       "<div>\n",
       "<style scoped>\n",
       "    .dataframe tbody tr th:only-of-type {\n",
       "        vertical-align: middle;\n",
       "    }\n",
       "\n",
       "    .dataframe tbody tr th {\n",
       "        vertical-align: top;\n",
       "    }\n",
       "\n",
       "    .dataframe thead tr th {\n",
       "        text-align: left;\n",
       "    }\n",
       "\n",
       "    .dataframe thead tr:last-of-type th {\n",
       "        text-align: right;\n",
       "    }\n",
       "</style>\n",
       "<table border=\"1\" class=\"dataframe\">\n",
       "  <thead>\n",
       "    <tr>\n",
       "      <th></th>\n",
       "      <th colspan=\"5\" halign=\"left\">Wage</th>\n",
       "    </tr>\n",
       "    <tr>\n",
       "      <th>Club</th>\n",
       "      <th>FC Barcelona</th>\n",
       "      <th>Juventus</th>\n",
       "      <th>Manchester United</th>\n",
       "      <th>Real Madrid</th>\n",
       "      <th>All</th>\n",
       "    </tr>\n",
       "    <tr>\n",
       "      <th>Nationality</th>\n",
       "      <th></th>\n",
       "      <th></th>\n",
       "      <th></th>\n",
       "      <th></th>\n",
       "      <th></th>\n",
       "    </tr>\n",
       "  </thead>\n",
       "  <tbody>\n",
       "    <tr>\n",
       "      <th>Argentina</th>\n",
       "      <td>565000.0</td>\n",
       "      <td>205000.0</td>\n",
       "      <td>206000.0</td>\n",
       "      <td>NaN</td>\n",
       "      <td>976000</td>\n",
       "    </tr>\n",
       "    <tr>\n",
       "      <th>Belgium</th>\n",
       "      <td>110000.0</td>\n",
       "      <td>NaN</td>\n",
       "      <td>230000.0</td>\n",
       "      <td>240000.0</td>\n",
       "      <td>580000</td>\n",
       "    </tr>\n",
       "    <tr>\n",
       "      <th>Bosnia Herzegovina</th>\n",
       "      <td>NaN</td>\n",
       "      <td>180000.0</td>\n",
       "      <td>NaN</td>\n",
       "      <td>NaN</td>\n",
       "      <td>180000</td>\n",
       "    </tr>\n",
       "    <tr>\n",
       "      <th>Brazil</th>\n",
       "      <td>465000.0</td>\n",
       "      <td>335000.0</td>\n",
       "      <td>91000.0</td>\n",
       "      <td>570000.0</td>\n",
       "      <td>1461000</td>\n",
       "    </tr>\n",
       "    <tr>\n",
       "      <th>Chile</th>\n",
       "      <td>205000.0</td>\n",
       "      <td>NaN</td>\n",
       "      <td>215000.0</td>\n",
       "      <td>NaN</td>\n",
       "      <td>420000</td>\n",
       "    </tr>\n",
       "    <tr>\n",
       "      <th>Costa Rica</th>\n",
       "      <td>NaN</td>\n",
       "      <td>NaN</td>\n",
       "      <td>NaN</td>\n",
       "      <td>195000.0</td>\n",
       "      <td>195000</td>\n",
       "    </tr>\n",
       "    <tr>\n",
       "      <th>Croatia</th>\n",
       "      <td>260000.0</td>\n",
       "      <td>160000.0</td>\n",
       "      <td>NaN</td>\n",
       "      <td>420000.0</td>\n",
       "      <td>840000</td>\n",
       "    </tr>\n",
       "    <tr>\n",
       "      <th>Dominican Republic</th>\n",
       "      <td>NaN</td>\n",
       "      <td>NaN</td>\n",
       "      <td>NaN</td>\n",
       "      <td>140000.0</td>\n",
       "      <td>140000</td>\n",
       "    </tr>\n",
       "    <tr>\n",
       "      <th>Ecuador</th>\n",
       "      <td>NaN</td>\n",
       "      <td>NaN</td>\n",
       "      <td>120000.0</td>\n",
       "      <td>NaN</td>\n",
       "      <td>120000</td>\n",
       "    </tr>\n",
       "    <tr>\n",
       "      <th>England</th>\n",
       "      <td>NaN</td>\n",
       "      <td>NaN</td>\n",
       "      <td>478000.0</td>\n",
       "      <td>NaN</td>\n",
       "      <td>478000</td>\n",
       "    </tr>\n",
       "    <tr>\n",
       "      <th>France</th>\n",
       "      <td>495000.0</td>\n",
       "      <td>145000.0</td>\n",
       "      <td>375000.0</td>\n",
       "      <td>459000.0</td>\n",
       "      <td>1474000</td>\n",
       "    </tr>\n",
       "    <tr>\n",
       "      <th>Germany</th>\n",
       "      <td>240000.0</td>\n",
       "      <td>160000.0</td>\n",
       "      <td>NaN</td>\n",
       "      <td>355000.0</td>\n",
       "      <td>755000</td>\n",
       "    </tr>\n",
       "    <tr>\n",
       "      <th>Italy</th>\n",
       "      <td>NaN</td>\n",
       "      <td>460000.0</td>\n",
       "      <td>88000.0</td>\n",
       "      <td>NaN</td>\n",
       "      <td>548000</td>\n",
       "    </tr>\n",
       "    <tr>\n",
       "      <th>Ivory Coast</th>\n",
       "      <td>NaN</td>\n",
       "      <td>NaN</td>\n",
       "      <td>105000.0</td>\n",
       "      <td>NaN</td>\n",
       "      <td>105000</td>\n",
       "    </tr>\n",
       "    <tr>\n",
       "      <th>Morocco</th>\n",
       "      <td>NaN</td>\n",
       "      <td>160000.0</td>\n",
       "      <td>NaN</td>\n",
       "      <td>NaN</td>\n",
       "      <td>160000</td>\n",
       "    </tr>\n",
       "    <tr>\n",
       "      <th>Netherlands</th>\n",
       "      <td>135000.0</td>\n",
       "      <td>NaN</td>\n",
       "      <td>NaN</td>\n",
       "      <td>NaN</td>\n",
       "      <td>135000</td>\n",
       "    </tr>\n",
       "    <tr>\n",
       "      <th>Poland</th>\n",
       "      <td>NaN</td>\n",
       "      <td>125000.0</td>\n",
       "      <td>NaN</td>\n",
       "      <td>NaN</td>\n",
       "      <td>125000</td>\n",
       "    </tr>\n",
       "    <tr>\n",
       "      <th>Portugal</th>\n",
       "      <td>125000.0</td>\n",
       "      <td>405000.0</td>\n",
       "      <td>NaN</td>\n",
       "      <td>NaN</td>\n",
       "      <td>530000</td>\n",
       "    </tr>\n",
       "    <tr>\n",
       "      <th>Scotland</th>\n",
       "      <td>NaN</td>\n",
       "      <td>NaN</td>\n",
       "      <td>11000.0</td>\n",
       "      <td>NaN</td>\n",
       "      <td>11000</td>\n",
       "    </tr>\n",
       "    <tr>\n",
       "      <th>Serbia</th>\n",
       "      <td>NaN</td>\n",
       "      <td>NaN</td>\n",
       "      <td>165000.0</td>\n",
       "      <td>NaN</td>\n",
       "      <td>165000</td>\n",
       "    </tr>\n",
       "    <tr>\n",
       "      <th>Spain</th>\n",
       "      <td>912000.0</td>\n",
       "      <td>NaN</td>\n",
       "      <td>260000.0</td>\n",
       "      <td>1404000.0</td>\n",
       "      <td>2576000</td>\n",
       "    </tr>\n",
       "    <tr>\n",
       "      <th>Uruguay</th>\n",
       "      <td>455000.0</td>\n",
       "      <td>NaN</td>\n",
       "      <td>NaN</td>\n",
       "      <td>NaN</td>\n",
       "      <td>455000</td>\n",
       "    </tr>\n",
       "    <tr>\n",
       "      <th>Wales</th>\n",
       "      <td>NaN</td>\n",
       "      <td>NaN</td>\n",
       "      <td>13000.0</td>\n",
       "      <td>355000.0</td>\n",
       "      <td>368000</td>\n",
       "    </tr>\n",
       "    <tr>\n",
       "      <th>All</th>\n",
       "      <td>3967000.0</td>\n",
       "      <td>2335000.0</td>\n",
       "      <td>2357000.0</td>\n",
       "      <td>4138000.0</td>\n",
       "      <td>12797000</td>\n",
       "    </tr>\n",
       "  </tbody>\n",
       "</table>\n",
       "</div>"
      ],
      "text/plain": [
       "                           Wage                                           \\\n",
       "Club               FC Barcelona   Juventus Manchester United Real Madrid   \n",
       "Nationality                                                                \n",
       "Argentina              565000.0   205000.0          206000.0         NaN   \n",
       "Belgium                110000.0        NaN          230000.0    240000.0   \n",
       "Bosnia Herzegovina          NaN   180000.0               NaN         NaN   \n",
       "Brazil                 465000.0   335000.0           91000.0    570000.0   \n",
       "Chile                  205000.0        NaN          215000.0         NaN   \n",
       "Costa Rica                  NaN        NaN               NaN    195000.0   \n",
       "Croatia                260000.0   160000.0               NaN    420000.0   \n",
       "Dominican Republic          NaN        NaN               NaN    140000.0   \n",
       "Ecuador                     NaN        NaN          120000.0         NaN   \n",
       "England                     NaN        NaN          478000.0         NaN   \n",
       "France                 495000.0   145000.0          375000.0    459000.0   \n",
       "Germany                240000.0   160000.0               NaN    355000.0   \n",
       "Italy                       NaN   460000.0           88000.0         NaN   \n",
       "Ivory Coast                 NaN        NaN          105000.0         NaN   \n",
       "Morocco                     NaN   160000.0               NaN         NaN   \n",
       "Netherlands            135000.0        NaN               NaN         NaN   \n",
       "Poland                      NaN   125000.0               NaN         NaN   \n",
       "Portugal               125000.0   405000.0               NaN         NaN   \n",
       "Scotland                    NaN        NaN           11000.0         NaN   \n",
       "Serbia                      NaN        NaN          165000.0         NaN   \n",
       "Spain                  912000.0        NaN          260000.0   1404000.0   \n",
       "Uruguay                455000.0        NaN               NaN         NaN   \n",
       "Wales                       NaN        NaN           13000.0    355000.0   \n",
       "All                   3967000.0  2335000.0         2357000.0   4138000.0   \n",
       "\n",
       "                              \n",
       "Club                     All  \n",
       "Nationality                   \n",
       "Argentina             976000  \n",
       "Belgium               580000  \n",
       "Bosnia Herzegovina    180000  \n",
       "Brazil               1461000  \n",
       "Chile                 420000  \n",
       "Costa Rica            195000  \n",
       "Croatia               840000  \n",
       "Dominican Republic    140000  \n",
       "Ecuador               120000  \n",
       "England               478000  \n",
       "France               1474000  \n",
       "Germany               755000  \n",
       "Italy                 548000  \n",
       "Ivory Coast           105000  \n",
       "Morocco               160000  \n",
       "Netherlands           135000  \n",
       "Poland                125000  \n",
       "Portugal              530000  \n",
       "Scotland               11000  \n",
       "Serbia                165000  \n",
       "Spain                2576000  \n",
       "Uruguay               455000  \n",
       "Wales                 368000  \n",
       "All                 12797000  "
      ]
     },
     "metadata": {},
     "output_type": "display_data"
    }
   ],
   "source": [
    "pivot = football.loc[football['Club'].isin(['FC Barcelona','Real Madrid','Juventus','Manchester United'])].pivot_table(values=['Wage'],\n",
    "index=['Nationality'],\n",
    "columns=['Club'],\n",
    "aggfunc='sum',\n",
    "margins=True)\n",
    "display(pivot)"
   ]
  },
  {
   "cell_type": "code",
   "execution_count": 134,
   "metadata": {},
   "outputs": [
    {
     "data": {
      "text/html": [
       "<div>\n",
       "<style scoped>\n",
       "    .dataframe tbody tr th:only-of-type {\n",
       "        vertical-align: middle;\n",
       "    }\n",
       "\n",
       "    .dataframe tbody tr th {\n",
       "        vertical-align: top;\n",
       "    }\n",
       "\n",
       "    .dataframe thead tr th {\n",
       "        text-align: left;\n",
       "    }\n",
       "\n",
       "    .dataframe thead tr:last-of-type th {\n",
       "        text-align: right;\n",
       "    }\n",
       "</style>\n",
       "<table border=\"1\" class=\"dataframe\">\n",
       "  <thead>\n",
       "    <tr>\n",
       "      <th></th>\n",
       "      <th colspan=\"21\" halign=\"left\">Name</th>\n",
       "    </tr>\n",
       "    <tr>\n",
       "      <th>Club</th>\n",
       "      <th>SSV Jahn Regensburg</th>\n",
       "      <th>1. FC Heidenheim 1846</th>\n",
       "      <th>1. FC Kaiserslautern</th>\n",
       "      <th>1. FC Köln</th>\n",
       "      <th>1. FC Magdeburg</th>\n",
       "      <th>1. FC Nürnberg</th>\n",
       "      <th>1. FC Union Berlin</th>\n",
       "      <th>1. FSV Mainz 05</th>\n",
       "      <th>AC Ajaccio</th>\n",
       "      <th>AC Horsens</th>\n",
       "      <th>...</th>\n",
       "      <th>Wycombe Wanderers</th>\n",
       "      <th>Yeni Malatyaspor</th>\n",
       "      <th>Yeovil Town</th>\n",
       "      <th>Yokohama F. Marinos</th>\n",
       "      <th>Zagłębie Lubin</th>\n",
       "      <th>Zagłębie Sosnowiec</th>\n",
       "      <th>Çaykur Rizespor</th>\n",
       "      <th>Örebro SK</th>\n",
       "      <th>Östersunds FK</th>\n",
       "      <th>Śląsk Wrocław</th>\n",
       "    </tr>\n",
       "    <tr>\n",
       "      <th>Position</th>\n",
       "      <th></th>\n",
       "      <th></th>\n",
       "      <th></th>\n",
       "      <th></th>\n",
       "      <th></th>\n",
       "      <th></th>\n",
       "      <th></th>\n",
       "      <th></th>\n",
       "      <th></th>\n",
       "      <th></th>\n",
       "      <th></th>\n",
       "      <th></th>\n",
       "      <th></th>\n",
       "      <th></th>\n",
       "      <th></th>\n",
       "      <th></th>\n",
       "      <th></th>\n",
       "      <th></th>\n",
       "      <th></th>\n",
       "      <th></th>\n",
       "      <th></th>\n",
       "    </tr>\n",
       "  </thead>\n",
       "  <tbody>\n",
       "    <tr>\n",
       "      <th>CAM</th>\n",
       "      <td>0</td>\n",
       "      <td>1</td>\n",
       "      <td>0</td>\n",
       "      <td>0</td>\n",
       "      <td>0</td>\n",
       "      <td>1</td>\n",
       "      <td>1</td>\n",
       "      <td>0</td>\n",
       "      <td>3</td>\n",
       "      <td>0</td>\n",
       "      <td>...</td>\n",
       "      <td>0</td>\n",
       "      <td>2</td>\n",
       "      <td>0</td>\n",
       "      <td>3</td>\n",
       "      <td>0</td>\n",
       "      <td>3</td>\n",
       "      <td>1</td>\n",
       "      <td>0</td>\n",
       "      <td>1</td>\n",
       "      <td>0</td>\n",
       "    </tr>\n",
       "    <tr>\n",
       "      <th>CB</th>\n",
       "      <td>5</td>\n",
       "      <td>3</td>\n",
       "      <td>3</td>\n",
       "      <td>1</td>\n",
       "      <td>4</td>\n",
       "      <td>1</td>\n",
       "      <td>2</td>\n",
       "      <td>2</td>\n",
       "      <td>1</td>\n",
       "      <td>3</td>\n",
       "      <td>...</td>\n",
       "      <td>3</td>\n",
       "      <td>2</td>\n",
       "      <td>3</td>\n",
       "      <td>4</td>\n",
       "      <td>0</td>\n",
       "      <td>2</td>\n",
       "      <td>2</td>\n",
       "      <td>4</td>\n",
       "      <td>1</td>\n",
       "      <td>1</td>\n",
       "    </tr>\n",
       "    <tr>\n",
       "      <th>CDM</th>\n",
       "      <td>1</td>\n",
       "      <td>0</td>\n",
       "      <td>3</td>\n",
       "      <td>1</td>\n",
       "      <td>0</td>\n",
       "      <td>2</td>\n",
       "      <td>2</td>\n",
       "      <td>0</td>\n",
       "      <td>0</td>\n",
       "      <td>1</td>\n",
       "      <td>...</td>\n",
       "      <td>0</td>\n",
       "      <td>3</td>\n",
       "      <td>0</td>\n",
       "      <td>2</td>\n",
       "      <td>2</td>\n",
       "      <td>2</td>\n",
       "      <td>5</td>\n",
       "      <td>0</td>\n",
       "      <td>0</td>\n",
       "      <td>3</td>\n",
       "    </tr>\n",
       "    <tr>\n",
       "      <th>CF</th>\n",
       "      <td>0</td>\n",
       "      <td>0</td>\n",
       "      <td>0</td>\n",
       "      <td>0</td>\n",
       "      <td>1</td>\n",
       "      <td>0</td>\n",
       "      <td>0</td>\n",
       "      <td>0</td>\n",
       "      <td>0</td>\n",
       "      <td>0</td>\n",
       "      <td>...</td>\n",
       "      <td>0</td>\n",
       "      <td>0</td>\n",
       "      <td>0</td>\n",
       "      <td>0</td>\n",
       "      <td>0</td>\n",
       "      <td>0</td>\n",
       "      <td>0</td>\n",
       "      <td>0</td>\n",
       "      <td>1</td>\n",
       "      <td>0</td>\n",
       "    </tr>\n",
       "    <tr>\n",
       "      <th>CM</th>\n",
       "      <td>2</td>\n",
       "      <td>1</td>\n",
       "      <td>0</td>\n",
       "      <td>2</td>\n",
       "      <td>0</td>\n",
       "      <td>1</td>\n",
       "      <td>1</td>\n",
       "      <td>1</td>\n",
       "      <td>1</td>\n",
       "      <td>2</td>\n",
       "      <td>...</td>\n",
       "      <td>4</td>\n",
       "      <td>2</td>\n",
       "      <td>1</td>\n",
       "      <td>1</td>\n",
       "      <td>1</td>\n",
       "      <td>0</td>\n",
       "      <td>0</td>\n",
       "      <td>1</td>\n",
       "      <td>3</td>\n",
       "      <td>1</td>\n",
       "    </tr>\n",
       "    <tr>\n",
       "      <th>GK</th>\n",
       "      <td>3</td>\n",
       "      <td>2</td>\n",
       "      <td>3</td>\n",
       "      <td>3</td>\n",
       "      <td>3</td>\n",
       "      <td>1</td>\n",
       "      <td>1</td>\n",
       "      <td>1</td>\n",
       "      <td>1</td>\n",
       "      <td>3</td>\n",
       "      <td>...</td>\n",
       "      <td>2</td>\n",
       "      <td>4</td>\n",
       "      <td>3</td>\n",
       "      <td>4</td>\n",
       "      <td>3</td>\n",
       "      <td>3</td>\n",
       "      <td>3</td>\n",
       "      <td>3</td>\n",
       "      <td>3</td>\n",
       "      <td>3</td>\n",
       "    </tr>\n",
       "    <tr>\n",
       "      <th>LAM</th>\n",
       "      <td>0</td>\n",
       "      <td>0</td>\n",
       "      <td>0</td>\n",
       "      <td>0</td>\n",
       "      <td>0</td>\n",
       "      <td>0</td>\n",
       "      <td>0</td>\n",
       "      <td>0</td>\n",
       "      <td>0</td>\n",
       "      <td>0</td>\n",
       "      <td>...</td>\n",
       "      <td>0</td>\n",
       "      <td>0</td>\n",
       "      <td>0</td>\n",
       "      <td>0</td>\n",
       "      <td>0</td>\n",
       "      <td>0</td>\n",
       "      <td>0</td>\n",
       "      <td>0</td>\n",
       "      <td>0</td>\n",
       "      <td>0</td>\n",
       "    </tr>\n",
       "    <tr>\n",
       "      <th>LB</th>\n",
       "      <td>2</td>\n",
       "      <td>2</td>\n",
       "      <td>2</td>\n",
       "      <td>0</td>\n",
       "      <td>1</td>\n",
       "      <td>1</td>\n",
       "      <td>2</td>\n",
       "      <td>1</td>\n",
       "      <td>3</td>\n",
       "      <td>3</td>\n",
       "      <td>...</td>\n",
       "      <td>1</td>\n",
       "      <td>1</td>\n",
       "      <td>2</td>\n",
       "      <td>1</td>\n",
       "      <td>2</td>\n",
       "      <td>3</td>\n",
       "      <td>2</td>\n",
       "      <td>0</td>\n",
       "      <td>2</td>\n",
       "      <td>2</td>\n",
       "    </tr>\n",
       "    <tr>\n",
       "      <th>LCB</th>\n",
       "      <td>0</td>\n",
       "      <td>1</td>\n",
       "      <td>1</td>\n",
       "      <td>0</td>\n",
       "      <td>1</td>\n",
       "      <td>0</td>\n",
       "      <td>1</td>\n",
       "      <td>0</td>\n",
       "      <td>1</td>\n",
       "      <td>1</td>\n",
       "      <td>...</td>\n",
       "      <td>1</td>\n",
       "      <td>0</td>\n",
       "      <td>1</td>\n",
       "      <td>0</td>\n",
       "      <td>1</td>\n",
       "      <td>1</td>\n",
       "      <td>1</td>\n",
       "      <td>1</td>\n",
       "      <td>1</td>\n",
       "      <td>1</td>\n",
       "    </tr>\n",
       "    <tr>\n",
       "      <th>LCM</th>\n",
       "      <td>0</td>\n",
       "      <td>0</td>\n",
       "      <td>0</td>\n",
       "      <td>0</td>\n",
       "      <td>1</td>\n",
       "      <td>0</td>\n",
       "      <td>0</td>\n",
       "      <td>1</td>\n",
       "      <td>0</td>\n",
       "      <td>1</td>\n",
       "      <td>...</td>\n",
       "      <td>1</td>\n",
       "      <td>0</td>\n",
       "      <td>1</td>\n",
       "      <td>1</td>\n",
       "      <td>0</td>\n",
       "      <td>0</td>\n",
       "      <td>0</td>\n",
       "      <td>1</td>\n",
       "      <td>1</td>\n",
       "      <td>0</td>\n",
       "    </tr>\n",
       "    <tr>\n",
       "      <th>LDM</th>\n",
       "      <td>1</td>\n",
       "      <td>0</td>\n",
       "      <td>0</td>\n",
       "      <td>0</td>\n",
       "      <td>0</td>\n",
       "      <td>0</td>\n",
       "      <td>0</td>\n",
       "      <td>0</td>\n",
       "      <td>1</td>\n",
       "      <td>0</td>\n",
       "      <td>...</td>\n",
       "      <td>0</td>\n",
       "      <td>1</td>\n",
       "      <td>0</td>\n",
       "      <td>0</td>\n",
       "      <td>2</td>\n",
       "      <td>1</td>\n",
       "      <td>1</td>\n",
       "      <td>0</td>\n",
       "      <td>0</td>\n",
       "      <td>1</td>\n",
       "    </tr>\n",
       "    <tr>\n",
       "      <th>LF</th>\n",
       "      <td>0</td>\n",
       "      <td>0</td>\n",
       "      <td>0</td>\n",
       "      <td>0</td>\n",
       "      <td>0</td>\n",
       "      <td>0</td>\n",
       "      <td>0</td>\n",
       "      <td>0</td>\n",
       "      <td>0</td>\n",
       "      <td>0</td>\n",
       "      <td>...</td>\n",
       "      <td>0</td>\n",
       "      <td>0</td>\n",
       "      <td>0</td>\n",
       "      <td>0</td>\n",
       "      <td>0</td>\n",
       "      <td>0</td>\n",
       "      <td>0</td>\n",
       "      <td>0</td>\n",
       "      <td>0</td>\n",
       "      <td>0</td>\n",
       "    </tr>\n",
       "    <tr>\n",
       "      <th>LM</th>\n",
       "      <td>2</td>\n",
       "      <td>2</td>\n",
       "      <td>2</td>\n",
       "      <td>0</td>\n",
       "      <td>0</td>\n",
       "      <td>0</td>\n",
       "      <td>0</td>\n",
       "      <td>0</td>\n",
       "      <td>1</td>\n",
       "      <td>2</td>\n",
       "      <td>...</td>\n",
       "      <td>0</td>\n",
       "      <td>2</td>\n",
       "      <td>2</td>\n",
       "      <td>1</td>\n",
       "      <td>2</td>\n",
       "      <td>4</td>\n",
       "      <td>1</td>\n",
       "      <td>0</td>\n",
       "      <td>2</td>\n",
       "      <td>2</td>\n",
       "    </tr>\n",
       "    <tr>\n",
       "      <th>LS</th>\n",
       "      <td>0</td>\n",
       "      <td>0</td>\n",
       "      <td>1</td>\n",
       "      <td>0</td>\n",
       "      <td>1</td>\n",
       "      <td>0</td>\n",
       "      <td>0</td>\n",
       "      <td>0</td>\n",
       "      <td>0</td>\n",
       "      <td>1</td>\n",
       "      <td>...</td>\n",
       "      <td>1</td>\n",
       "      <td>0</td>\n",
       "      <td>1</td>\n",
       "      <td>0</td>\n",
       "      <td>0</td>\n",
       "      <td>0</td>\n",
       "      <td>0</td>\n",
       "      <td>0</td>\n",
       "      <td>0</td>\n",
       "      <td>1</td>\n",
       "    </tr>\n",
       "    <tr>\n",
       "      <th>LW</th>\n",
       "      <td>0</td>\n",
       "      <td>0</td>\n",
       "      <td>1</td>\n",
       "      <td>0</td>\n",
       "      <td>0</td>\n",
       "      <td>0</td>\n",
       "      <td>0</td>\n",
       "      <td>2</td>\n",
       "      <td>0</td>\n",
       "      <td>0</td>\n",
       "      <td>...</td>\n",
       "      <td>3</td>\n",
       "      <td>0</td>\n",
       "      <td>0</td>\n",
       "      <td>1</td>\n",
       "      <td>0</td>\n",
       "      <td>0</td>\n",
       "      <td>0</td>\n",
       "      <td>3</td>\n",
       "      <td>0</td>\n",
       "      <td>0</td>\n",
       "    </tr>\n",
       "    <tr>\n",
       "      <th>LWB</th>\n",
       "      <td>0</td>\n",
       "      <td>0</td>\n",
       "      <td>0</td>\n",
       "      <td>1</td>\n",
       "      <td>0</td>\n",
       "      <td>0</td>\n",
       "      <td>0</td>\n",
       "      <td>0</td>\n",
       "      <td>0</td>\n",
       "      <td>0</td>\n",
       "      <td>...</td>\n",
       "      <td>0</td>\n",
       "      <td>0</td>\n",
       "      <td>0</td>\n",
       "      <td>0</td>\n",
       "      <td>0</td>\n",
       "      <td>0</td>\n",
       "      <td>0</td>\n",
       "      <td>2</td>\n",
       "      <td>0</td>\n",
       "      <td>0</td>\n",
       "    </tr>\n",
       "    <tr>\n",
       "      <th>RAM</th>\n",
       "      <td>1</td>\n",
       "      <td>0</td>\n",
       "      <td>0</td>\n",
       "      <td>0</td>\n",
       "      <td>0</td>\n",
       "      <td>0</td>\n",
       "      <td>0</td>\n",
       "      <td>0</td>\n",
       "      <td>0</td>\n",
       "      <td>0</td>\n",
       "      <td>...</td>\n",
       "      <td>0</td>\n",
       "      <td>0</td>\n",
       "      <td>0</td>\n",
       "      <td>0</td>\n",
       "      <td>0</td>\n",
       "      <td>0</td>\n",
       "      <td>0</td>\n",
       "      <td>0</td>\n",
       "      <td>0</td>\n",
       "      <td>0</td>\n",
       "    </tr>\n",
       "    <tr>\n",
       "      <th>RB</th>\n",
       "      <td>2</td>\n",
       "      <td>2</td>\n",
       "      <td>2</td>\n",
       "      <td>1</td>\n",
       "      <td>0</td>\n",
       "      <td>1</td>\n",
       "      <td>1</td>\n",
       "      <td>1</td>\n",
       "      <td>1</td>\n",
       "      <td>1</td>\n",
       "      <td>...</td>\n",
       "      <td>2</td>\n",
       "      <td>2</td>\n",
       "      <td>2</td>\n",
       "      <td>2</td>\n",
       "      <td>2</td>\n",
       "      <td>1</td>\n",
       "      <td>3</td>\n",
       "      <td>0</td>\n",
       "      <td>1</td>\n",
       "      <td>2</td>\n",
       "    </tr>\n",
       "    <tr>\n",
       "      <th>RCB</th>\n",
       "      <td>1</td>\n",
       "      <td>1</td>\n",
       "      <td>0</td>\n",
       "      <td>0</td>\n",
       "      <td>1</td>\n",
       "      <td>0</td>\n",
       "      <td>0</td>\n",
       "      <td>0</td>\n",
       "      <td>1</td>\n",
       "      <td>1</td>\n",
       "      <td>...</td>\n",
       "      <td>1</td>\n",
       "      <td>0</td>\n",
       "      <td>1</td>\n",
       "      <td>0</td>\n",
       "      <td>1</td>\n",
       "      <td>1</td>\n",
       "      <td>0</td>\n",
       "      <td>1</td>\n",
       "      <td>1</td>\n",
       "      <td>1</td>\n",
       "    </tr>\n",
       "    <tr>\n",
       "      <th>RCM</th>\n",
       "      <td>0</td>\n",
       "      <td>0</td>\n",
       "      <td>0</td>\n",
       "      <td>0</td>\n",
       "      <td>1</td>\n",
       "      <td>0</td>\n",
       "      <td>0</td>\n",
       "      <td>0</td>\n",
       "      <td>0</td>\n",
       "      <td>1</td>\n",
       "      <td>...</td>\n",
       "      <td>1</td>\n",
       "      <td>0</td>\n",
       "      <td>1</td>\n",
       "      <td>1</td>\n",
       "      <td>0</td>\n",
       "      <td>0</td>\n",
       "      <td>0</td>\n",
       "      <td>1</td>\n",
       "      <td>0</td>\n",
       "      <td>0</td>\n",
       "    </tr>\n",
       "    <tr>\n",
       "      <th>RDM</th>\n",
       "      <td>1</td>\n",
       "      <td>0</td>\n",
       "      <td>1</td>\n",
       "      <td>0</td>\n",
       "      <td>0</td>\n",
       "      <td>0</td>\n",
       "      <td>0</td>\n",
       "      <td>0</td>\n",
       "      <td>1</td>\n",
       "      <td>0</td>\n",
       "      <td>...</td>\n",
       "      <td>0</td>\n",
       "      <td>0</td>\n",
       "      <td>0</td>\n",
       "      <td>0</td>\n",
       "      <td>1</td>\n",
       "      <td>1</td>\n",
       "      <td>1</td>\n",
       "      <td>0</td>\n",
       "      <td>0</td>\n",
       "      <td>1</td>\n",
       "    </tr>\n",
       "    <tr>\n",
       "      <th>RF</th>\n",
       "      <td>0</td>\n",
       "      <td>0</td>\n",
       "      <td>0</td>\n",
       "      <td>0</td>\n",
       "      <td>0</td>\n",
       "      <td>0</td>\n",
       "      <td>0</td>\n",
       "      <td>0</td>\n",
       "      <td>0</td>\n",
       "      <td>0</td>\n",
       "      <td>...</td>\n",
       "      <td>0</td>\n",
       "      <td>0</td>\n",
       "      <td>0</td>\n",
       "      <td>0</td>\n",
       "      <td>0</td>\n",
       "      <td>0</td>\n",
       "      <td>0</td>\n",
       "      <td>0</td>\n",
       "      <td>0</td>\n",
       "      <td>0</td>\n",
       "    </tr>\n",
       "    <tr>\n",
       "      <th>RM</th>\n",
       "      <td>0</td>\n",
       "      <td>3</td>\n",
       "      <td>2</td>\n",
       "      <td>1</td>\n",
       "      <td>3</td>\n",
       "      <td>2</td>\n",
       "      <td>0</td>\n",
       "      <td>0</td>\n",
       "      <td>1</td>\n",
       "      <td>2</td>\n",
       "      <td>...</td>\n",
       "      <td>1</td>\n",
       "      <td>1</td>\n",
       "      <td>5</td>\n",
       "      <td>1</td>\n",
       "      <td>4</td>\n",
       "      <td>2</td>\n",
       "      <td>1</td>\n",
       "      <td>0</td>\n",
       "      <td>1</td>\n",
       "      <td>2</td>\n",
       "    </tr>\n",
       "    <tr>\n",
       "      <th>RS</th>\n",
       "      <td>0</td>\n",
       "      <td>0</td>\n",
       "      <td>1</td>\n",
       "      <td>0</td>\n",
       "      <td>1</td>\n",
       "      <td>0</td>\n",
       "      <td>0</td>\n",
       "      <td>1</td>\n",
       "      <td>0</td>\n",
       "      <td>1</td>\n",
       "      <td>...</td>\n",
       "      <td>1</td>\n",
       "      <td>0</td>\n",
       "      <td>1</td>\n",
       "      <td>0</td>\n",
       "      <td>0</td>\n",
       "      <td>0</td>\n",
       "      <td>0</td>\n",
       "      <td>0</td>\n",
       "      <td>0</td>\n",
       "      <td>1</td>\n",
       "    </tr>\n",
       "    <tr>\n",
       "      <th>RW</th>\n",
       "      <td>0</td>\n",
       "      <td>0</td>\n",
       "      <td>0</td>\n",
       "      <td>0</td>\n",
       "      <td>2</td>\n",
       "      <td>0</td>\n",
       "      <td>0</td>\n",
       "      <td>0</td>\n",
       "      <td>0</td>\n",
       "      <td>0</td>\n",
       "      <td>...</td>\n",
       "      <td>1</td>\n",
       "      <td>0</td>\n",
       "      <td>0</td>\n",
       "      <td>1</td>\n",
       "      <td>0</td>\n",
       "      <td>0</td>\n",
       "      <td>0</td>\n",
       "      <td>2</td>\n",
       "      <td>1</td>\n",
       "      <td>0</td>\n",
       "    </tr>\n",
       "    <tr>\n",
       "      <th>RWB</th>\n",
       "      <td>0</td>\n",
       "      <td>0</td>\n",
       "      <td>0</td>\n",
       "      <td>0</td>\n",
       "      <td>0</td>\n",
       "      <td>0</td>\n",
       "      <td>0</td>\n",
       "      <td>0</td>\n",
       "      <td>0</td>\n",
       "      <td>0</td>\n",
       "      <td>...</td>\n",
       "      <td>0</td>\n",
       "      <td>0</td>\n",
       "      <td>0</td>\n",
       "      <td>0</td>\n",
       "      <td>0</td>\n",
       "      <td>0</td>\n",
       "      <td>0</td>\n",
       "      <td>2</td>\n",
       "      <td>0</td>\n",
       "      <td>0</td>\n",
       "    </tr>\n",
       "    <tr>\n",
       "      <th>ST</th>\n",
       "      <td>3</td>\n",
       "      <td>2</td>\n",
       "      <td>1</td>\n",
       "      <td>0</td>\n",
       "      <td>1</td>\n",
       "      <td>3</td>\n",
       "      <td>0</td>\n",
       "      <td>1</td>\n",
       "      <td>3</td>\n",
       "      <td>2</td>\n",
       "      <td>...</td>\n",
       "      <td>1</td>\n",
       "      <td>2</td>\n",
       "      <td>4</td>\n",
       "      <td>3</td>\n",
       "      <td>4</td>\n",
       "      <td>1</td>\n",
       "      <td>1</td>\n",
       "      <td>5</td>\n",
       "      <td>1</td>\n",
       "      <td>2</td>\n",
       "    </tr>\n",
       "  </tbody>\n",
       "</table>\n",
       "<p>27 rows × 650 columns</p>\n",
       "</div>"
      ],
      "text/plain": [
       "                         Name                                             \\\n",
       "Club      SSV Jahn Regensburg 1. FC Heidenheim 1846 1. FC Kaiserslautern   \n",
       "Position                                                                   \n",
       "CAM                         0                     1                    0   \n",
       "CB                          5                     3                    3   \n",
       "CDM                         1                     0                    3   \n",
       "CF                          0                     0                    0   \n",
       "CM                          2                     1                    0   \n",
       "GK                          3                     2                    3   \n",
       "LAM                         0                     0                    0   \n",
       "LB                          2                     2                    2   \n",
       "LCB                         0                     1                    1   \n",
       "LCM                         0                     0                    0   \n",
       "LDM                         1                     0                    0   \n",
       "LF                          0                     0                    0   \n",
       "LM                          2                     2                    2   \n",
       "LS                          0                     0                    1   \n",
       "LW                          0                     0                    1   \n",
       "LWB                         0                     0                    0   \n",
       "RAM                         1                     0                    0   \n",
       "RB                          2                     2                    2   \n",
       "RCB                         1                     1                    0   \n",
       "RCM                         0                     0                    0   \n",
       "RDM                         1                     0                    1   \n",
       "RF                          0                     0                    0   \n",
       "RM                          0                     3                    2   \n",
       "RS                          0                     0                    1   \n",
       "RW                          0                     0                    0   \n",
       "RWB                         0                     0                    0   \n",
       "ST                          3                     2                    1   \n",
       "\n",
       "                                                                       \\\n",
       "Club     1. FC Köln 1. FC Magdeburg 1. FC Nürnberg 1. FC Union Berlin   \n",
       "Position                                                                \n",
       "CAM               0               0              1                  1   \n",
       "CB                1               4              1                  2   \n",
       "CDM               1               0              2                  2   \n",
       "CF                0               1              0                  0   \n",
       "CM                2               0              1                  1   \n",
       "GK                3               3              1                  1   \n",
       "LAM               0               0              0                  0   \n",
       "LB                0               1              1                  2   \n",
       "LCB               0               1              0                  1   \n",
       "LCM               0               1              0                  0   \n",
       "LDM               0               0              0                  0   \n",
       "LF                0               0              0                  0   \n",
       "LM                0               0              0                  0   \n",
       "LS                0               1              0                  0   \n",
       "LW                0               0              0                  0   \n",
       "LWB               1               0              0                  0   \n",
       "RAM               0               0              0                  0   \n",
       "RB                1               0              1                  1   \n",
       "RCB               0               1              0                  0   \n",
       "RCM               0               1              0                  0   \n",
       "RDM               0               0              0                  0   \n",
       "RF                0               0              0                  0   \n",
       "RM                1               3              2                  0   \n",
       "RS                0               1              0                  0   \n",
       "RW                0               2              0                  0   \n",
       "RWB               0               0              0                  0   \n",
       "ST                0               1              3                  0   \n",
       "\n",
       "                                                ...                    \\\n",
       "Club     1. FSV Mainz 05 AC Ajaccio AC Horsens  ... Wycombe Wanderers   \n",
       "Position                                        ...                     \n",
       "CAM                    0          3          0  ...                 0   \n",
       "CB                     2          1          3  ...                 3   \n",
       "CDM                    0          0          1  ...                 0   \n",
       "CF                     0          0          0  ...                 0   \n",
       "CM                     1          1          2  ...                 4   \n",
       "GK                     1          1          3  ...                 2   \n",
       "LAM                    0          0          0  ...                 0   \n",
       "LB                     1          3          3  ...                 1   \n",
       "LCB                    0          1          1  ...                 1   \n",
       "LCM                    1          0          1  ...                 1   \n",
       "LDM                    0          1          0  ...                 0   \n",
       "LF                     0          0          0  ...                 0   \n",
       "LM                     0          1          2  ...                 0   \n",
       "LS                     0          0          1  ...                 1   \n",
       "LW                     2          0          0  ...                 3   \n",
       "LWB                    0          0          0  ...                 0   \n",
       "RAM                    0          0          0  ...                 0   \n",
       "RB                     1          1          1  ...                 2   \n",
       "RCB                    0          1          1  ...                 1   \n",
       "RCM                    0          0          1  ...                 1   \n",
       "RDM                    0          1          0  ...                 0   \n",
       "RF                     0          0          0  ...                 0   \n",
       "RM                     0          1          2  ...                 1   \n",
       "RS                     1          0          1  ...                 1   \n",
       "RW                     0          0          0  ...                 1   \n",
       "RWB                    0          0          0  ...                 0   \n",
       "ST                     1          3          2  ...                 1   \n",
       "\n",
       "                                                                          \\\n",
       "Club     Yeni Malatyaspor Yeovil Town Yokohama F. Marinos Zagłębie Lubin   \n",
       "Position                                                                   \n",
       "CAM                     2           0                   3              0   \n",
       "CB                      2           3                   4              0   \n",
       "CDM                     3           0                   2              2   \n",
       "CF                      0           0                   0              0   \n",
       "CM                      2           1                   1              1   \n",
       "GK                      4           3                   4              3   \n",
       "LAM                     0           0                   0              0   \n",
       "LB                      1           2                   1              2   \n",
       "LCB                     0           1                   0              1   \n",
       "LCM                     0           1                   1              0   \n",
       "LDM                     1           0                   0              2   \n",
       "LF                      0           0                   0              0   \n",
       "LM                      2           2                   1              2   \n",
       "LS                      0           1                   0              0   \n",
       "LW                      0           0                   1              0   \n",
       "LWB                     0           0                   0              0   \n",
       "RAM                     0           0                   0              0   \n",
       "RB                      2           2                   2              2   \n",
       "RCB                     0           1                   0              1   \n",
       "RCM                     0           1                   1              0   \n",
       "RDM                     0           0                   0              1   \n",
       "RF                      0           0                   0              0   \n",
       "RM                      1           5                   1              4   \n",
       "RS                      0           1                   0              0   \n",
       "RW                      0           0                   1              0   \n",
       "RWB                     0           0                   0              0   \n",
       "ST                      2           4                   3              4   \n",
       "\n",
       "                                                                     \\\n",
       "Club     Zagłębie Sosnowiec Çaykur Rizespor Örebro SK Östersunds FK   \n",
       "Position                                                              \n",
       "CAM                       3               1         0             1   \n",
       "CB                        2               2         4             1   \n",
       "CDM                       2               5         0             0   \n",
       "CF                        0               0         0             1   \n",
       "CM                        0               0         1             3   \n",
       "GK                        3               3         3             3   \n",
       "LAM                       0               0         0             0   \n",
       "LB                        3               2         0             2   \n",
       "LCB                       1               1         1             1   \n",
       "LCM                       0               0         1             1   \n",
       "LDM                       1               1         0             0   \n",
       "LF                        0               0         0             0   \n",
       "LM                        4               1         0             2   \n",
       "LS                        0               0         0             0   \n",
       "LW                        0               0         3             0   \n",
       "LWB                       0               0         2             0   \n",
       "RAM                       0               0         0             0   \n",
       "RB                        1               3         0             1   \n",
       "RCB                       1               0         1             1   \n",
       "RCM                       0               0         1             0   \n",
       "RDM                       1               1         0             0   \n",
       "RF                        0               0         0             0   \n",
       "RM                        2               1         0             1   \n",
       "RS                        0               0         0             0   \n",
       "RW                        0               0         2             1   \n",
       "RWB                       0               0         2             0   \n",
       "ST                        1               1         5             1   \n",
       "\n",
       "                        \n",
       "Club     Śląsk Wrocław  \n",
       "Position                \n",
       "CAM                  0  \n",
       "CB                   1  \n",
       "CDM                  3  \n",
       "CF                   0  \n",
       "CM                   1  \n",
       "GK                   3  \n",
       "LAM                  0  \n",
       "LB                   2  \n",
       "LCB                  1  \n",
       "LCM                  0  \n",
       "LDM                  1  \n",
       "LF                   0  \n",
       "LM                   2  \n",
       "LS                   1  \n",
       "LW                   0  \n",
       "LWB                  0  \n",
       "RAM                  0  \n",
       "RB                   2  \n",
       "RCB                  1  \n",
       "RCM                  0  \n",
       "RDM                  1  \n",
       "RF                   0  \n",
       "RM                   2  \n",
       "RS                   1  \n",
       "RW                   0  \n",
       "RWB                  0  \n",
       "ST                   2  \n",
       "\n",
       "[27 rows x 650 columns]"
      ]
     },
     "metadata": {},
     "output_type": "display_data"
    }
   ],
   "source": [
    "pivot1 = football.pivot_table(values=['Name'],\n",
    "index=['Position'],\n",
    "columns=['Club'],\n",
    "aggfunc='count',\n",
    "fill_value=0)\n",
    "display(pivot1)"
   ]
  },
  {
   "cell_type": "code",
   "execution_count": 123,
   "metadata": {},
   "outputs": [
    {
     "data": {
      "text/plain": [
       "2.5246153846153847"
      ]
     },
     "execution_count": 123,
     "metadata": {},
     "output_type": "execute_result"
    }
   ],
   "source": [
    "pivot1.loc['GK']['Name'].mean()"
   ]
  },
  {
   "cell_type": "code",
   "execution_count": 126,
   "metadata": {},
   "outputs": [
    {
     "data": {
      "text/plain": [
       "1    211\n",
       "2    149\n",
       "0    136\n",
       "3     89\n",
       "4     39\n",
       "5     21\n",
       "6      5\n",
       "Name: CM, dtype: int64"
      ]
     },
     "execution_count": 126,
     "metadata": {},
     "output_type": "execute_result"
    }
   ],
   "source": [
    "pivot1.loc['CM']['Name'].value_counts()"
   ]
  },
  {
   "cell_type": "code",
   "execution_count": 128,
   "metadata": {},
   "outputs": [
    {
     "data": {
      "text/html": [
       "<div>\n",
       "<style scoped>\n",
       "    .dataframe tbody tr th:only-of-type {\n",
       "        vertical-align: middle;\n",
       "    }\n",
       "\n",
       "    .dataframe tbody tr th {\n",
       "        vertical-align: top;\n",
       "    }\n",
       "\n",
       "    .dataframe thead tr th {\n",
       "        text-align: left;\n",
       "    }\n",
       "\n",
       "    .dataframe thead tr:last-of-type th {\n",
       "        text-align: right;\n",
       "    }\n",
       "</style>\n",
       "<table border=\"1\" class=\"dataframe\">\n",
       "  <thead>\n",
       "    <tr>\n",
       "      <th></th>\n",
       "      <th colspan=\"21\" halign=\"left\">Wage</th>\n",
       "    </tr>\n",
       "    <tr>\n",
       "      <th>Club</th>\n",
       "      <th>SSV Jahn Regensburg</th>\n",
       "      <th>1. FC Heidenheim 1846</th>\n",
       "      <th>1. FC Kaiserslautern</th>\n",
       "      <th>1. FC Köln</th>\n",
       "      <th>1. FC Magdeburg</th>\n",
       "      <th>1. FC Nürnberg</th>\n",
       "      <th>1. FC Union Berlin</th>\n",
       "      <th>1. FSV Mainz 05</th>\n",
       "      <th>AC Ajaccio</th>\n",
       "      <th>AC Horsens</th>\n",
       "      <th>...</th>\n",
       "      <th>Wycombe Wanderers</th>\n",
       "      <th>Yeni Malatyaspor</th>\n",
       "      <th>Yeovil Town</th>\n",
       "      <th>Yokohama F. Marinos</th>\n",
       "      <th>Zagłębie Lubin</th>\n",
       "      <th>Zagłębie Sosnowiec</th>\n",
       "      <th>Çaykur Rizespor</th>\n",
       "      <th>Örebro SK</th>\n",
       "      <th>Östersunds FK</th>\n",
       "      <th>Śląsk Wrocław</th>\n",
       "    </tr>\n",
       "    <tr>\n",
       "      <th>Nationality</th>\n",
       "      <th></th>\n",
       "      <th></th>\n",
       "      <th></th>\n",
       "      <th></th>\n",
       "      <th></th>\n",
       "      <th></th>\n",
       "      <th></th>\n",
       "      <th></th>\n",
       "      <th></th>\n",
       "      <th></th>\n",
       "      <th></th>\n",
       "      <th></th>\n",
       "      <th></th>\n",
       "      <th></th>\n",
       "      <th></th>\n",
       "      <th></th>\n",
       "      <th></th>\n",
       "      <th></th>\n",
       "      <th></th>\n",
       "      <th></th>\n",
       "      <th></th>\n",
       "    </tr>\n",
       "  </thead>\n",
       "  <tbody>\n",
       "    <tr>\n",
       "      <th>Afghanistan</th>\n",
       "      <td>0</td>\n",
       "      <td>0</td>\n",
       "      <td>0</td>\n",
       "      <td>0</td>\n",
       "      <td>0</td>\n",
       "      <td>0</td>\n",
       "      <td>0</td>\n",
       "      <td>0</td>\n",
       "      <td>0</td>\n",
       "      <td>0</td>\n",
       "      <td>...</td>\n",
       "      <td>0</td>\n",
       "      <td>0</td>\n",
       "      <td>0</td>\n",
       "      <td>0</td>\n",
       "      <td>0</td>\n",
       "      <td>0</td>\n",
       "      <td>0</td>\n",
       "      <td>0</td>\n",
       "      <td>0</td>\n",
       "      <td>0</td>\n",
       "    </tr>\n",
       "    <tr>\n",
       "      <th>Albania</th>\n",
       "      <td>0</td>\n",
       "      <td>0</td>\n",
       "      <td>0</td>\n",
       "      <td>0</td>\n",
       "      <td>0</td>\n",
       "      <td>0</td>\n",
       "      <td>0</td>\n",
       "      <td>0</td>\n",
       "      <td>2000</td>\n",
       "      <td>0</td>\n",
       "      <td>...</td>\n",
       "      <td>0</td>\n",
       "      <td>0</td>\n",
       "      <td>0</td>\n",
       "      <td>0</td>\n",
       "      <td>0</td>\n",
       "      <td>0</td>\n",
       "      <td>0</td>\n",
       "      <td>1000</td>\n",
       "      <td>0</td>\n",
       "      <td>0</td>\n",
       "    </tr>\n",
       "    <tr>\n",
       "      <th>Algeria</th>\n",
       "      <td>0</td>\n",
       "      <td>0</td>\n",
       "      <td>0</td>\n",
       "      <td>0</td>\n",
       "      <td>0</td>\n",
       "      <td>0</td>\n",
       "      <td>0</td>\n",
       "      <td>0</td>\n",
       "      <td>0</td>\n",
       "      <td>0</td>\n",
       "      <td>...</td>\n",
       "      <td>0</td>\n",
       "      <td>0</td>\n",
       "      <td>1000</td>\n",
       "      <td>0</td>\n",
       "      <td>0</td>\n",
       "      <td>0</td>\n",
       "      <td>0</td>\n",
       "      <td>0</td>\n",
       "      <td>0</td>\n",
       "      <td>0</td>\n",
       "    </tr>\n",
       "    <tr>\n",
       "      <th>Andorra</th>\n",
       "      <td>0</td>\n",
       "      <td>0</td>\n",
       "      <td>0</td>\n",
       "      <td>0</td>\n",
       "      <td>0</td>\n",
       "      <td>0</td>\n",
       "      <td>0</td>\n",
       "      <td>0</td>\n",
       "      <td>0</td>\n",
       "      <td>0</td>\n",
       "      <td>...</td>\n",
       "      <td>0</td>\n",
       "      <td>0</td>\n",
       "      <td>0</td>\n",
       "      <td>0</td>\n",
       "      <td>0</td>\n",
       "      <td>0</td>\n",
       "      <td>0</td>\n",
       "      <td>0</td>\n",
       "      <td>0</td>\n",
       "      <td>0</td>\n",
       "    </tr>\n",
       "    <tr>\n",
       "      <th>Angola</th>\n",
       "      <td>0</td>\n",
       "      <td>0</td>\n",
       "      <td>0</td>\n",
       "      <td>0</td>\n",
       "      <td>0</td>\n",
       "      <td>0</td>\n",
       "      <td>0</td>\n",
       "      <td>0</td>\n",
       "      <td>0</td>\n",
       "      <td>0</td>\n",
       "      <td>...</td>\n",
       "      <td>0</td>\n",
       "      <td>0</td>\n",
       "      <td>0</td>\n",
       "      <td>0</td>\n",
       "      <td>0</td>\n",
       "      <td>1000</td>\n",
       "      <td>0</td>\n",
       "      <td>0</td>\n",
       "      <td>0</td>\n",
       "      <td>0</td>\n",
       "    </tr>\n",
       "    <tr>\n",
       "      <th>...</th>\n",
       "      <td>...</td>\n",
       "      <td>...</td>\n",
       "      <td>...</td>\n",
       "      <td>...</td>\n",
       "      <td>...</td>\n",
       "      <td>...</td>\n",
       "      <td>...</td>\n",
       "      <td>...</td>\n",
       "      <td>...</td>\n",
       "      <td>...</td>\n",
       "      <td>...</td>\n",
       "      <td>...</td>\n",
       "      <td>...</td>\n",
       "      <td>...</td>\n",
       "      <td>...</td>\n",
       "      <td>...</td>\n",
       "      <td>...</td>\n",
       "      <td>...</td>\n",
       "      <td>...</td>\n",
       "      <td>...</td>\n",
       "      <td>...</td>\n",
       "    </tr>\n",
       "    <tr>\n",
       "      <th>Uzbekistan</th>\n",
       "      <td>0</td>\n",
       "      <td>0</td>\n",
       "      <td>0</td>\n",
       "      <td>0</td>\n",
       "      <td>0</td>\n",
       "      <td>0</td>\n",
       "      <td>0</td>\n",
       "      <td>0</td>\n",
       "      <td>0</td>\n",
       "      <td>0</td>\n",
       "      <td>...</td>\n",
       "      <td>0</td>\n",
       "      <td>0</td>\n",
       "      <td>0</td>\n",
       "      <td>0</td>\n",
       "      <td>0</td>\n",
       "      <td>0</td>\n",
       "      <td>0</td>\n",
       "      <td>0</td>\n",
       "      <td>0</td>\n",
       "      <td>0</td>\n",
       "    </tr>\n",
       "    <tr>\n",
       "      <th>Venezuela</th>\n",
       "      <td>0</td>\n",
       "      <td>0</td>\n",
       "      <td>0</td>\n",
       "      <td>0</td>\n",
       "      <td>0</td>\n",
       "      <td>0</td>\n",
       "      <td>0</td>\n",
       "      <td>0</td>\n",
       "      <td>0</td>\n",
       "      <td>0</td>\n",
       "      <td>...</td>\n",
       "      <td>0</td>\n",
       "      <td>0</td>\n",
       "      <td>0</td>\n",
       "      <td>0</td>\n",
       "      <td>0</td>\n",
       "      <td>0</td>\n",
       "      <td>0</td>\n",
       "      <td>0</td>\n",
       "      <td>0</td>\n",
       "      <td>0</td>\n",
       "    </tr>\n",
       "    <tr>\n",
       "      <th>Wales</th>\n",
       "      <td>0</td>\n",
       "      <td>0</td>\n",
       "      <td>0</td>\n",
       "      <td>0</td>\n",
       "      <td>0</td>\n",
       "      <td>0</td>\n",
       "      <td>0</td>\n",
       "      <td>0</td>\n",
       "      <td>0</td>\n",
       "      <td>0</td>\n",
       "      <td>...</td>\n",
       "      <td>4000</td>\n",
       "      <td>0</td>\n",
       "      <td>2000</td>\n",
       "      <td>0</td>\n",
       "      <td>0</td>\n",
       "      <td>0</td>\n",
       "      <td>0</td>\n",
       "      <td>0</td>\n",
       "      <td>0</td>\n",
       "      <td>0</td>\n",
       "    </tr>\n",
       "    <tr>\n",
       "      <th>Zambia</th>\n",
       "      <td>0</td>\n",
       "      <td>0</td>\n",
       "      <td>0</td>\n",
       "      <td>0</td>\n",
       "      <td>0</td>\n",
       "      <td>0</td>\n",
       "      <td>0</td>\n",
       "      <td>0</td>\n",
       "      <td>0</td>\n",
       "      <td>0</td>\n",
       "      <td>...</td>\n",
       "      <td>0</td>\n",
       "      <td>0</td>\n",
       "      <td>0</td>\n",
       "      <td>0</td>\n",
       "      <td>0</td>\n",
       "      <td>0</td>\n",
       "      <td>0</td>\n",
       "      <td>0</td>\n",
       "      <td>0</td>\n",
       "      <td>0</td>\n",
       "    </tr>\n",
       "    <tr>\n",
       "      <th>Zimbabwe</th>\n",
       "      <td>0</td>\n",
       "      <td>0</td>\n",
       "      <td>0</td>\n",
       "      <td>0</td>\n",
       "      <td>0</td>\n",
       "      <td>0</td>\n",
       "      <td>0</td>\n",
       "      <td>0</td>\n",
       "      <td>0</td>\n",
       "      <td>0</td>\n",
       "      <td>...</td>\n",
       "      <td>0</td>\n",
       "      <td>0</td>\n",
       "      <td>0</td>\n",
       "      <td>0</td>\n",
       "      <td>0</td>\n",
       "      <td>0</td>\n",
       "      <td>0</td>\n",
       "      <td>0</td>\n",
       "      <td>0</td>\n",
       "      <td>0</td>\n",
       "    </tr>\n",
       "  </tbody>\n",
       "</table>\n",
       "<p>156 rows × 650 columns</p>\n",
       "</div>"
      ],
      "text/plain": [
       "                            Wage                                             \\\n",
       "Club         SSV Jahn Regensburg 1. FC Heidenheim 1846 1. FC Kaiserslautern   \n",
       "Nationality                                                                   \n",
       "Afghanistan                    0                     0                    0   \n",
       "Albania                        0                     0                    0   \n",
       "Algeria                        0                     0                    0   \n",
       "Andorra                        0                     0                    0   \n",
       "Angola                         0                     0                    0   \n",
       "...                          ...                   ...                  ...   \n",
       "Uzbekistan                     0                     0                    0   \n",
       "Venezuela                      0                     0                    0   \n",
       "Wales                          0                     0                    0   \n",
       "Zambia                         0                     0                    0   \n",
       "Zimbabwe                       0                     0                    0   \n",
       "\n",
       "                                                                          \\\n",
       "Club        1. FC Köln 1. FC Magdeburg 1. FC Nürnberg 1. FC Union Berlin   \n",
       "Nationality                                                                \n",
       "Afghanistan          0               0              0                  0   \n",
       "Albania              0               0              0                  0   \n",
       "Algeria              0               0              0                  0   \n",
       "Andorra              0               0              0                  0   \n",
       "Angola               0               0              0                  0   \n",
       "...                ...             ...            ...                ...   \n",
       "Uzbekistan           0               0              0                  0   \n",
       "Venezuela            0               0              0                  0   \n",
       "Wales                0               0              0                  0   \n",
       "Zambia               0               0              0                  0   \n",
       "Zimbabwe             0               0              0                  0   \n",
       "\n",
       "                                                   ...                    \\\n",
       "Club        1. FSV Mainz 05 AC Ajaccio AC Horsens  ... Wycombe Wanderers   \n",
       "Nationality                                        ...                     \n",
       "Afghanistan               0          0          0  ...                 0   \n",
       "Albania                   0       2000          0  ...                 0   \n",
       "Algeria                   0          0          0  ...                 0   \n",
       "Andorra                   0          0          0  ...                 0   \n",
       "Angola                    0          0          0  ...                 0   \n",
       "...                     ...        ...        ...  ...               ...   \n",
       "Uzbekistan                0          0          0  ...                 0   \n",
       "Venezuela                 0          0          0  ...                 0   \n",
       "Wales                     0          0          0  ...              4000   \n",
       "Zambia                    0          0          0  ...                 0   \n",
       "Zimbabwe                  0          0          0  ...                 0   \n",
       "\n",
       "                                                                             \\\n",
       "Club        Yeni Malatyaspor Yeovil Town Yokohama F. Marinos Zagłębie Lubin   \n",
       "Nationality                                                                   \n",
       "Afghanistan                0           0                   0              0   \n",
       "Albania                    0           0                   0              0   \n",
       "Algeria                    0        1000                   0              0   \n",
       "Andorra                    0           0                   0              0   \n",
       "Angola                     0           0                   0              0   \n",
       "...                      ...         ...                 ...            ...   \n",
       "Uzbekistan                 0           0                   0              0   \n",
       "Venezuela                  0           0                   0              0   \n",
       "Wales                      0        2000                   0              0   \n",
       "Zambia                     0           0                   0              0   \n",
       "Zimbabwe                   0           0                   0              0   \n",
       "\n",
       "                                                                        \\\n",
       "Club        Zagłębie Sosnowiec Çaykur Rizespor Örebro SK Östersunds FK   \n",
       "Nationality                                                              \n",
       "Afghanistan                  0               0         0             0   \n",
       "Albania                      0               0      1000             0   \n",
       "Algeria                      0               0         0             0   \n",
       "Andorra                      0               0         0             0   \n",
       "Angola                    1000               0         0             0   \n",
       "...                        ...             ...       ...           ...   \n",
       "Uzbekistan                   0               0         0             0   \n",
       "Venezuela                    0               0         0             0   \n",
       "Wales                        0               0         0             0   \n",
       "Zambia                       0               0         0             0   \n",
       "Zimbabwe                     0               0         0             0   \n",
       "\n",
       "                           \n",
       "Club        Śląsk Wrocław  \n",
       "Nationality                \n",
       "Afghanistan             0  \n",
       "Albania                 0  \n",
       "Algeria                 0  \n",
       "Andorra                 0  \n",
       "Angola                  0  \n",
       "...                   ...  \n",
       "Uzbekistan              0  \n",
       "Venezuela               0  \n",
       "Wales                   0  \n",
       "Zambia                  0  \n",
       "Zimbabwe                0  \n",
       "\n",
       "[156 rows x 650 columns]"
      ]
     },
     "metadata": {},
     "output_type": "display_data"
    }
   ],
   "source": [
    "pivot2 = football.pivot_table(values=['Wage'],\n",
    "index=['Nationality'],\n",
    "columns=['Club'],\n",
    "aggfunc='sum',\n",
    "fill_value=0)\n",
    "display(pivot2)"
   ]
  },
  {
   "cell_type": "code",
   "execution_count": 129,
   "metadata": {},
   "outputs": [
    {
     "data": {
      "text/plain": [
       "61000"
      ]
     },
     "execution_count": 129,
     "metadata": {},
     "output_type": "execute_result"
    }
   ],
   "source": [
    "pivot2.loc['Russia']['Wage']['AS Monaco']"
   ]
  },
  {
   "cell_type": "code",
   "execution_count": 138,
   "metadata": {},
   "outputs": [
    {
     "data": {
      "text/html": [
       "<div>\n",
       "<style scoped>\n",
       "    .dataframe tbody tr th:only-of-type {\n",
       "        vertical-align: middle;\n",
       "    }\n",
       "\n",
       "    .dataframe tbody tr th {\n",
       "        vertical-align: top;\n",
       "    }\n",
       "\n",
       "    .dataframe thead tr th {\n",
       "        text-align: left;\n",
       "    }\n",
       "\n",
       "    .dataframe thead tr:last-of-type th {\n",
       "        text-align: right;\n",
       "    }\n",
       "</style>\n",
       "<table border=\"1\" class=\"dataframe\">\n",
       "  <thead>\n",
       "    <tr>\n",
       "      <th></th>\n",
       "      <th colspan=\"21\" halign=\"left\">SprintSpeed</th>\n",
       "    </tr>\n",
       "    <tr>\n",
       "      <th>Club</th>\n",
       "      <th>SSV Jahn Regensburg</th>\n",
       "      <th>1. FC Heidenheim 1846</th>\n",
       "      <th>1. FC Kaiserslautern</th>\n",
       "      <th>1. FC Köln</th>\n",
       "      <th>1. FC Magdeburg</th>\n",
       "      <th>1. FC Nürnberg</th>\n",
       "      <th>1. FC Union Berlin</th>\n",
       "      <th>1. FSV Mainz 05</th>\n",
       "      <th>AC Ajaccio</th>\n",
       "      <th>AC Horsens</th>\n",
       "      <th>...</th>\n",
       "      <th>Yeni Malatyaspor</th>\n",
       "      <th>Yeovil Town</th>\n",
       "      <th>Yokohama F. Marinos</th>\n",
       "      <th>Zagłębie Lubin</th>\n",
       "      <th>Zagłębie Sosnowiec</th>\n",
       "      <th>Çaykur Rizespor</th>\n",
       "      <th>Örebro SK</th>\n",
       "      <th>Östersunds FK</th>\n",
       "      <th>Śląsk Wrocław</th>\n",
       "      <th>All</th>\n",
       "    </tr>\n",
       "    <tr>\n",
       "      <th>Position</th>\n",
       "      <th></th>\n",
       "      <th></th>\n",
       "      <th></th>\n",
       "      <th></th>\n",
       "      <th></th>\n",
       "      <th></th>\n",
       "      <th></th>\n",
       "      <th></th>\n",
       "      <th></th>\n",
       "      <th></th>\n",
       "      <th></th>\n",
       "      <th></th>\n",
       "      <th></th>\n",
       "      <th></th>\n",
       "      <th></th>\n",
       "      <th></th>\n",
       "      <th></th>\n",
       "      <th></th>\n",
       "      <th></th>\n",
       "      <th></th>\n",
       "      <th></th>\n",
       "    </tr>\n",
       "  </thead>\n",
       "  <tbody>\n",
       "    <tr>\n",
       "      <th>CAM</th>\n",
       "      <td>0.000000</td>\n",
       "      <td>68.000000</td>\n",
       "      <td>0.000000</td>\n",
       "      <td>0.0</td>\n",
       "      <td>0.000000</td>\n",
       "      <td>66.000000</td>\n",
       "      <td>61.000000</td>\n",
       "      <td>0.000000</td>\n",
       "      <td>71.333333</td>\n",
       "      <td>0.000000</td>\n",
       "      <td>...</td>\n",
       "      <td>71.500000</td>\n",
       "      <td>0.000000</td>\n",
       "      <td>70.333333</td>\n",
       "      <td>0.000000</td>\n",
       "      <td>73.000000</td>\n",
       "      <td>74.000000</td>\n",
       "      <td>0.000000</td>\n",
       "      <td>67.000000</td>\n",
       "      <td>0.000000</td>\n",
       "      <td>68.236967</td>\n",
       "    </tr>\n",
       "    <tr>\n",
       "      <th>CB</th>\n",
       "      <td>46.600000</td>\n",
       "      <td>61.333333</td>\n",
       "      <td>59.000000</td>\n",
       "      <td>60.0</td>\n",
       "      <td>60.000000</td>\n",
       "      <td>55.000000</td>\n",
       "      <td>59.000000</td>\n",
       "      <td>71.500000</td>\n",
       "      <td>46.000000</td>\n",
       "      <td>53.333333</td>\n",
       "      <td>...</td>\n",
       "      <td>62.000000</td>\n",
       "      <td>54.000000</td>\n",
       "      <td>45.250000</td>\n",
       "      <td>0.000000</td>\n",
       "      <td>46.500000</td>\n",
       "      <td>58.000000</td>\n",
       "      <td>60.750000</td>\n",
       "      <td>76.000000</td>\n",
       "      <td>62.000000</td>\n",
       "      <td>57.734854</td>\n",
       "    </tr>\n",
       "    <tr>\n",
       "      <th>CDM</th>\n",
       "      <td>82.000000</td>\n",
       "      <td>0.000000</td>\n",
       "      <td>65.666667</td>\n",
       "      <td>32.0</td>\n",
       "      <td>0.000000</td>\n",
       "      <td>59.000000</td>\n",
       "      <td>66.500000</td>\n",
       "      <td>0.000000</td>\n",
       "      <td>0.000000</td>\n",
       "      <td>56.000000</td>\n",
       "      <td>...</td>\n",
       "      <td>65.666667</td>\n",
       "      <td>0.000000</td>\n",
       "      <td>61.000000</td>\n",
       "      <td>54.000000</td>\n",
       "      <td>66.000000</td>\n",
       "      <td>62.800000</td>\n",
       "      <td>0.000000</td>\n",
       "      <td>0.000000</td>\n",
       "      <td>66.666667</td>\n",
       "      <td>60.813314</td>\n",
       "    </tr>\n",
       "    <tr>\n",
       "      <th>CF</th>\n",
       "      <td>0.000000</td>\n",
       "      <td>0.000000</td>\n",
       "      <td>0.000000</td>\n",
       "      <td>0.0</td>\n",
       "      <td>64.000000</td>\n",
       "      <td>0.000000</td>\n",
       "      <td>0.000000</td>\n",
       "      <td>0.000000</td>\n",
       "      <td>0.000000</td>\n",
       "      <td>0.000000</td>\n",
       "      <td>...</td>\n",
       "      <td>0.000000</td>\n",
       "      <td>0.000000</td>\n",
       "      <td>0.000000</td>\n",
       "      <td>0.000000</td>\n",
       "      <td>0.000000</td>\n",
       "      <td>0.000000</td>\n",
       "      <td>0.000000</td>\n",
       "      <td>77.000000</td>\n",
       "      <td>0.000000</td>\n",
       "      <td>69.803922</td>\n",
       "    </tr>\n",
       "    <tr>\n",
       "      <th>CM</th>\n",
       "      <td>61.000000</td>\n",
       "      <td>68.000000</td>\n",
       "      <td>0.000000</td>\n",
       "      <td>68.5</td>\n",
       "      <td>0.000000</td>\n",
       "      <td>53.000000</td>\n",
       "      <td>72.000000</td>\n",
       "      <td>69.000000</td>\n",
       "      <td>77.000000</td>\n",
       "      <td>62.500000</td>\n",
       "      <td>...</td>\n",
       "      <td>64.000000</td>\n",
       "      <td>67.000000</td>\n",
       "      <td>67.000000</td>\n",
       "      <td>55.000000</td>\n",
       "      <td>0.000000</td>\n",
       "      <td>0.000000</td>\n",
       "      <td>63.000000</td>\n",
       "      <td>56.333333</td>\n",
       "      <td>72.000000</td>\n",
       "      <td>64.299906</td>\n",
       "    </tr>\n",
       "    <tr>\n",
       "      <th>GK</th>\n",
       "      <td>33.000000</td>\n",
       "      <td>41.000000</td>\n",
       "      <td>42.666667</td>\n",
       "      <td>33.0</td>\n",
       "      <td>39.333333</td>\n",
       "      <td>40.000000</td>\n",
       "      <td>32.000000</td>\n",
       "      <td>40.000000</td>\n",
       "      <td>46.000000</td>\n",
       "      <td>34.333333</td>\n",
       "      <td>...</td>\n",
       "      <td>33.250000</td>\n",
       "      <td>37.000000</td>\n",
       "      <td>27.750000</td>\n",
       "      <td>44.666667</td>\n",
       "      <td>39.000000</td>\n",
       "      <td>47.000000</td>\n",
       "      <td>33.666667</td>\n",
       "      <td>32.666667</td>\n",
       "      <td>30.666667</td>\n",
       "      <td>37.622182</td>\n",
       "    </tr>\n",
       "    <tr>\n",
       "      <th>LAM</th>\n",
       "      <td>0.000000</td>\n",
       "      <td>0.000000</td>\n",
       "      <td>0.000000</td>\n",
       "      <td>0.0</td>\n",
       "      <td>0.000000</td>\n",
       "      <td>0.000000</td>\n",
       "      <td>0.000000</td>\n",
       "      <td>0.000000</td>\n",
       "      <td>0.000000</td>\n",
       "      <td>0.000000</td>\n",
       "      <td>...</td>\n",
       "      <td>0.000000</td>\n",
       "      <td>0.000000</td>\n",
       "      <td>0.000000</td>\n",
       "      <td>0.000000</td>\n",
       "      <td>0.000000</td>\n",
       "      <td>0.000000</td>\n",
       "      <td>0.000000</td>\n",
       "      <td>0.000000</td>\n",
       "      <td>0.000000</td>\n",
       "      <td>76.333333</td>\n",
       "    </tr>\n",
       "    <tr>\n",
       "      <th>LB</th>\n",
       "      <td>76.000000</td>\n",
       "      <td>60.000000</td>\n",
       "      <td>68.000000</td>\n",
       "      <td>0.0</td>\n",
       "      <td>69.000000</td>\n",
       "      <td>65.000000</td>\n",
       "      <td>70.500000</td>\n",
       "      <td>69.000000</td>\n",
       "      <td>67.666667</td>\n",
       "      <td>66.000000</td>\n",
       "      <td>...</td>\n",
       "      <td>75.000000</td>\n",
       "      <td>57.000000</td>\n",
       "      <td>70.000000</td>\n",
       "      <td>72.000000</td>\n",
       "      <td>60.333333</td>\n",
       "      <td>75.500000</td>\n",
       "      <td>0.000000</td>\n",
       "      <td>74.500000</td>\n",
       "      <td>78.500000</td>\n",
       "      <td>70.718563</td>\n",
       "    </tr>\n",
       "    <tr>\n",
       "      <th>LCB</th>\n",
       "      <td>0.000000</td>\n",
       "      <td>55.000000</td>\n",
       "      <td>45.000000</td>\n",
       "      <td>0.0</td>\n",
       "      <td>60.000000</td>\n",
       "      <td>0.000000</td>\n",
       "      <td>53.000000</td>\n",
       "      <td>0.000000</td>\n",
       "      <td>52.000000</td>\n",
       "      <td>57.000000</td>\n",
       "      <td>...</td>\n",
       "      <td>0.000000</td>\n",
       "      <td>44.000000</td>\n",
       "      <td>0.000000</td>\n",
       "      <td>33.000000</td>\n",
       "      <td>61.000000</td>\n",
       "      <td>63.000000</td>\n",
       "      <td>58.000000</td>\n",
       "      <td>53.000000</td>\n",
       "      <td>59.000000</td>\n",
       "      <td>58.936430</td>\n",
       "    </tr>\n",
       "    <tr>\n",
       "      <th>LCM</th>\n",
       "      <td>0.000000</td>\n",
       "      <td>0.000000</td>\n",
       "      <td>0.000000</td>\n",
       "      <td>0.0</td>\n",
       "      <td>66.000000</td>\n",
       "      <td>0.000000</td>\n",
       "      <td>0.000000</td>\n",
       "      <td>64.000000</td>\n",
       "      <td>0.000000</td>\n",
       "      <td>76.000000</td>\n",
       "      <td>...</td>\n",
       "      <td>0.000000</td>\n",
       "      <td>70.000000</td>\n",
       "      <td>72.000000</td>\n",
       "      <td>0.000000</td>\n",
       "      <td>0.000000</td>\n",
       "      <td>0.000000</td>\n",
       "      <td>44.000000</td>\n",
       "      <td>62.000000</td>\n",
       "      <td>0.000000</td>\n",
       "      <td>65.334764</td>\n",
       "    </tr>\n",
       "    <tr>\n",
       "      <th>LDM</th>\n",
       "      <td>55.000000</td>\n",
       "      <td>0.000000</td>\n",
       "      <td>0.000000</td>\n",
       "      <td>0.0</td>\n",
       "      <td>0.000000</td>\n",
       "      <td>0.000000</td>\n",
       "      <td>0.000000</td>\n",
       "      <td>0.000000</td>\n",
       "      <td>64.000000</td>\n",
       "      <td>0.000000</td>\n",
       "      <td>...</td>\n",
       "      <td>67.000000</td>\n",
       "      <td>0.000000</td>\n",
       "      <td>0.000000</td>\n",
       "      <td>70.000000</td>\n",
       "      <td>74.000000</td>\n",
       "      <td>61.000000</td>\n",
       "      <td>0.000000</td>\n",
       "      <td>0.000000</td>\n",
       "      <td>60.000000</td>\n",
       "      <td>62.006757</td>\n",
       "    </tr>\n",
       "    <tr>\n",
       "      <th>LF</th>\n",
       "      <td>0.000000</td>\n",
       "      <td>0.000000</td>\n",
       "      <td>0.000000</td>\n",
       "      <td>0.0</td>\n",
       "      <td>0.000000</td>\n",
       "      <td>0.000000</td>\n",
       "      <td>0.000000</td>\n",
       "      <td>0.000000</td>\n",
       "      <td>0.000000</td>\n",
       "      <td>0.000000</td>\n",
       "      <td>...</td>\n",
       "      <td>0.000000</td>\n",
       "      <td>0.000000</td>\n",
       "      <td>0.000000</td>\n",
       "      <td>0.000000</td>\n",
       "      <td>0.000000</td>\n",
       "      <td>0.000000</td>\n",
       "      <td>0.000000</td>\n",
       "      <td>0.000000</td>\n",
       "      <td>0.000000</td>\n",
       "      <td>75.875000</td>\n",
       "    </tr>\n",
       "    <tr>\n",
       "      <th>LM</th>\n",
       "      <td>76.000000</td>\n",
       "      <td>69.500000</td>\n",
       "      <td>70.500000</td>\n",
       "      <td>0.0</td>\n",
       "      <td>0.000000</td>\n",
       "      <td>0.000000</td>\n",
       "      <td>0.000000</td>\n",
       "      <td>0.000000</td>\n",
       "      <td>72.000000</td>\n",
       "      <td>70.500000</td>\n",
       "      <td>...</td>\n",
       "      <td>70.000000</td>\n",
       "      <td>83.500000</td>\n",
       "      <td>70.000000</td>\n",
       "      <td>66.000000</td>\n",
       "      <td>74.250000</td>\n",
       "      <td>58.000000</td>\n",
       "      <td>0.000000</td>\n",
       "      <td>73.500000</td>\n",
       "      <td>72.000000</td>\n",
       "      <td>74.211538</td>\n",
       "    </tr>\n",
       "    <tr>\n",
       "      <th>LS</th>\n",
       "      <td>0.000000</td>\n",
       "      <td>0.000000</td>\n",
       "      <td>85.000000</td>\n",
       "      <td>0.0</td>\n",
       "      <td>86.000000</td>\n",
       "      <td>0.000000</td>\n",
       "      <td>0.000000</td>\n",
       "      <td>0.000000</td>\n",
       "      <td>0.000000</td>\n",
       "      <td>77.000000</td>\n",
       "      <td>...</td>\n",
       "      <td>0.000000</td>\n",
       "      <td>81.000000</td>\n",
       "      <td>0.000000</td>\n",
       "      <td>0.000000</td>\n",
       "      <td>0.000000</td>\n",
       "      <td>0.000000</td>\n",
       "      <td>0.000000</td>\n",
       "      <td>0.000000</td>\n",
       "      <td>55.000000</td>\n",
       "      <td>72.338843</td>\n",
       "    </tr>\n",
       "    <tr>\n",
       "      <th>LW</th>\n",
       "      <td>0.000000</td>\n",
       "      <td>0.000000</td>\n",
       "      <td>80.000000</td>\n",
       "      <td>0.0</td>\n",
       "      <td>0.000000</td>\n",
       "      <td>0.000000</td>\n",
       "      <td>0.000000</td>\n",
       "      <td>74.000000</td>\n",
       "      <td>0.000000</td>\n",
       "      <td>0.000000</td>\n",
       "      <td>...</td>\n",
       "      <td>0.000000</td>\n",
       "      <td>0.000000</td>\n",
       "      <td>77.000000</td>\n",
       "      <td>0.000000</td>\n",
       "      <td>0.000000</td>\n",
       "      <td>0.000000</td>\n",
       "      <td>68.333333</td>\n",
       "      <td>0.000000</td>\n",
       "      <td>0.000000</td>\n",
       "      <td>74.747934</td>\n",
       "    </tr>\n",
       "    <tr>\n",
       "      <th>LWB</th>\n",
       "      <td>0.000000</td>\n",
       "      <td>0.000000</td>\n",
       "      <td>0.000000</td>\n",
       "      <td>77.0</td>\n",
       "      <td>0.000000</td>\n",
       "      <td>0.000000</td>\n",
       "      <td>0.000000</td>\n",
       "      <td>0.000000</td>\n",
       "      <td>0.000000</td>\n",
       "      <td>0.000000</td>\n",
       "      <td>...</td>\n",
       "      <td>0.000000</td>\n",
       "      <td>0.000000</td>\n",
       "      <td>0.000000</td>\n",
       "      <td>0.000000</td>\n",
       "      <td>0.000000</td>\n",
       "      <td>0.000000</td>\n",
       "      <td>68.000000</td>\n",
       "      <td>0.000000</td>\n",
       "      <td>0.000000</td>\n",
       "      <td>72.833333</td>\n",
       "    </tr>\n",
       "    <tr>\n",
       "      <th>RAM</th>\n",
       "      <td>78.000000</td>\n",
       "      <td>0.000000</td>\n",
       "      <td>0.000000</td>\n",
       "      <td>0.0</td>\n",
       "      <td>0.000000</td>\n",
       "      <td>0.000000</td>\n",
       "      <td>0.000000</td>\n",
       "      <td>0.000000</td>\n",
       "      <td>0.000000</td>\n",
       "      <td>0.000000</td>\n",
       "      <td>...</td>\n",
       "      <td>0.000000</td>\n",
       "      <td>0.000000</td>\n",
       "      <td>0.000000</td>\n",
       "      <td>0.000000</td>\n",
       "      <td>0.000000</td>\n",
       "      <td>0.000000</td>\n",
       "      <td>0.000000</td>\n",
       "      <td>0.000000</td>\n",
       "      <td>0.000000</td>\n",
       "      <td>73.800000</td>\n",
       "    </tr>\n",
       "    <tr>\n",
       "      <th>RB</th>\n",
       "      <td>68.500000</td>\n",
       "      <td>80.500000</td>\n",
       "      <td>71.500000</td>\n",
       "      <td>70.0</td>\n",
       "      <td>0.000000</td>\n",
       "      <td>75.000000</td>\n",
       "      <td>86.000000</td>\n",
       "      <td>79.000000</td>\n",
       "      <td>67.000000</td>\n",
       "      <td>78.000000</td>\n",
       "      <td>...</td>\n",
       "      <td>70.500000</td>\n",
       "      <td>69.500000</td>\n",
       "      <td>68.500000</td>\n",
       "      <td>69.500000</td>\n",
       "      <td>68.000000</td>\n",
       "      <td>68.666667</td>\n",
       "      <td>0.000000</td>\n",
       "      <td>54.000000</td>\n",
       "      <td>50.500000</td>\n",
       "      <td>71.186709</td>\n",
       "    </tr>\n",
       "    <tr>\n",
       "      <th>RCB</th>\n",
       "      <td>57.000000</td>\n",
       "      <td>59.000000</td>\n",
       "      <td>0.000000</td>\n",
       "      <td>0.0</td>\n",
       "      <td>68.000000</td>\n",
       "      <td>0.000000</td>\n",
       "      <td>0.000000</td>\n",
       "      <td>0.000000</td>\n",
       "      <td>75.000000</td>\n",
       "      <td>57.000000</td>\n",
       "      <td>...</td>\n",
       "      <td>0.000000</td>\n",
       "      <td>59.000000</td>\n",
       "      <td>0.000000</td>\n",
       "      <td>50.000000</td>\n",
       "      <td>58.000000</td>\n",
       "      <td>0.000000</td>\n",
       "      <td>62.000000</td>\n",
       "      <td>73.000000</td>\n",
       "      <td>58.000000</td>\n",
       "      <td>58.239234</td>\n",
       "    </tr>\n",
       "    <tr>\n",
       "      <th>RCM</th>\n",
       "      <td>0.000000</td>\n",
       "      <td>0.000000</td>\n",
       "      <td>0.000000</td>\n",
       "      <td>0.0</td>\n",
       "      <td>71.000000</td>\n",
       "      <td>0.000000</td>\n",
       "      <td>0.000000</td>\n",
       "      <td>0.000000</td>\n",
       "      <td>0.000000</td>\n",
       "      <td>63.000000</td>\n",
       "      <td>...</td>\n",
       "      <td>0.000000</td>\n",
       "      <td>76.000000</td>\n",
       "      <td>72.000000</td>\n",
       "      <td>0.000000</td>\n",
       "      <td>0.000000</td>\n",
       "      <td>0.000000</td>\n",
       "      <td>66.000000</td>\n",
       "      <td>0.000000</td>\n",
       "      <td>0.000000</td>\n",
       "      <td>65.233333</td>\n",
       "    </tr>\n",
       "    <tr>\n",
       "      <th>RDM</th>\n",
       "      <td>65.000000</td>\n",
       "      <td>0.000000</td>\n",
       "      <td>55.000000</td>\n",
       "      <td>0.0</td>\n",
       "      <td>0.000000</td>\n",
       "      <td>0.000000</td>\n",
       "      <td>0.000000</td>\n",
       "      <td>0.000000</td>\n",
       "      <td>60.000000</td>\n",
       "      <td>0.000000</td>\n",
       "      <td>...</td>\n",
       "      <td>0.000000</td>\n",
       "      <td>0.000000</td>\n",
       "      <td>0.000000</td>\n",
       "      <td>61.000000</td>\n",
       "      <td>62.000000</td>\n",
       "      <td>32.000000</td>\n",
       "      <td>0.000000</td>\n",
       "      <td>0.000000</td>\n",
       "      <td>69.000000</td>\n",
       "      <td>62.152174</td>\n",
       "    </tr>\n",
       "    <tr>\n",
       "      <th>RF</th>\n",
       "      <td>0.000000</td>\n",
       "      <td>0.000000</td>\n",
       "      <td>0.000000</td>\n",
       "      <td>0.0</td>\n",
       "      <td>0.000000</td>\n",
       "      <td>0.000000</td>\n",
       "      <td>0.000000</td>\n",
       "      <td>0.000000</td>\n",
       "      <td>0.000000</td>\n",
       "      <td>0.000000</td>\n",
       "      <td>...</td>\n",
       "      <td>0.000000</td>\n",
       "      <td>0.000000</td>\n",
       "      <td>0.000000</td>\n",
       "      <td>0.000000</td>\n",
       "      <td>0.000000</td>\n",
       "      <td>0.000000</td>\n",
       "      <td>0.000000</td>\n",
       "      <td>0.000000</td>\n",
       "      <td>0.000000</td>\n",
       "      <td>76.333333</td>\n",
       "    </tr>\n",
       "    <tr>\n",
       "      <th>RM</th>\n",
       "      <td>0.000000</td>\n",
       "      <td>78.333333</td>\n",
       "      <td>82.500000</td>\n",
       "      <td>77.0</td>\n",
       "      <td>76.000000</td>\n",
       "      <td>83.000000</td>\n",
       "      <td>0.000000</td>\n",
       "      <td>0.000000</td>\n",
       "      <td>71.000000</td>\n",
       "      <td>61.000000</td>\n",
       "      <td>...</td>\n",
       "      <td>87.000000</td>\n",
       "      <td>78.200000</td>\n",
       "      <td>61.000000</td>\n",
       "      <td>75.000000</td>\n",
       "      <td>71.000000</td>\n",
       "      <td>85.000000</td>\n",
       "      <td>0.000000</td>\n",
       "      <td>85.000000</td>\n",
       "      <td>68.000000</td>\n",
       "      <td>74.943864</td>\n",
       "    </tr>\n",
       "    <tr>\n",
       "      <th>RS</th>\n",
       "      <td>0.000000</td>\n",
       "      <td>0.000000</td>\n",
       "      <td>69.000000</td>\n",
       "      <td>0.0</td>\n",
       "      <td>53.000000</td>\n",
       "      <td>0.000000</td>\n",
       "      <td>0.000000</td>\n",
       "      <td>86.000000</td>\n",
       "      <td>0.000000</td>\n",
       "      <td>81.000000</td>\n",
       "      <td>...</td>\n",
       "      <td>0.000000</td>\n",
       "      <td>77.000000</td>\n",
       "      <td>0.000000</td>\n",
       "      <td>0.000000</td>\n",
       "      <td>0.000000</td>\n",
       "      <td>0.000000</td>\n",
       "      <td>0.000000</td>\n",
       "      <td>0.000000</td>\n",
       "      <td>81.000000</td>\n",
       "      <td>71.991228</td>\n",
       "    </tr>\n",
       "    <tr>\n",
       "      <th>RW</th>\n",
       "      <td>0.000000</td>\n",
       "      <td>0.000000</td>\n",
       "      <td>0.000000</td>\n",
       "      <td>0.0</td>\n",
       "      <td>80.500000</td>\n",
       "      <td>0.000000</td>\n",
       "      <td>0.000000</td>\n",
       "      <td>0.000000</td>\n",
       "      <td>0.000000</td>\n",
       "      <td>0.000000</td>\n",
       "      <td>...</td>\n",
       "      <td>0.000000</td>\n",
       "      <td>0.000000</td>\n",
       "      <td>65.000000</td>\n",
       "      <td>0.000000</td>\n",
       "      <td>0.000000</td>\n",
       "      <td>0.000000</td>\n",
       "      <td>77.500000</td>\n",
       "      <td>67.000000</td>\n",
       "      <td>0.000000</td>\n",
       "      <td>75.417722</td>\n",
       "    </tr>\n",
       "    <tr>\n",
       "      <th>RWB</th>\n",
       "      <td>0.000000</td>\n",
       "      <td>0.000000</td>\n",
       "      <td>0.000000</td>\n",
       "      <td>0.0</td>\n",
       "      <td>0.000000</td>\n",
       "      <td>0.000000</td>\n",
       "      <td>0.000000</td>\n",
       "      <td>0.000000</td>\n",
       "      <td>0.000000</td>\n",
       "      <td>0.000000</td>\n",
       "      <td>...</td>\n",
       "      <td>0.000000</td>\n",
       "      <td>0.000000</td>\n",
       "      <td>0.000000</td>\n",
       "      <td>0.000000</td>\n",
       "      <td>0.000000</td>\n",
       "      <td>0.000000</td>\n",
       "      <td>72.000000</td>\n",
       "      <td>0.000000</td>\n",
       "      <td>0.000000</td>\n",
       "      <td>73.128571</td>\n",
       "    </tr>\n",
       "    <tr>\n",
       "      <th>ST</th>\n",
       "      <td>61.666667</td>\n",
       "      <td>69.000000</td>\n",
       "      <td>79.000000</td>\n",
       "      <td>0.0</td>\n",
       "      <td>44.000000</td>\n",
       "      <td>65.666667</td>\n",
       "      <td>0.000000</td>\n",
       "      <td>69.000000</td>\n",
       "      <td>66.000000</td>\n",
       "      <td>52.500000</td>\n",
       "      <td>...</td>\n",
       "      <td>57.500000</td>\n",
       "      <td>74.750000</td>\n",
       "      <td>68.666667</td>\n",
       "      <td>65.250000</td>\n",
       "      <td>75.000000</td>\n",
       "      <td>48.000000</td>\n",
       "      <td>72.200000</td>\n",
       "      <td>52.000000</td>\n",
       "      <td>54.000000</td>\n",
       "      <td>68.700397</td>\n",
       "    </tr>\n",
       "    <tr>\n",
       "      <th>All</th>\n",
       "      <td>59.041667</td>\n",
       "      <td>65.450000</td>\n",
       "      <td>65.217391</td>\n",
       "      <td>55.2</td>\n",
       "      <td>63.238095</td>\n",
       "      <td>64.230769</td>\n",
       "      <td>63.272727</td>\n",
       "      <td>69.727273</td>\n",
       "      <td>65.526316</td>\n",
       "      <td>59.960000</td>\n",
       "      <td>...</td>\n",
       "      <td>61.363636</td>\n",
       "      <td>66.321429</td>\n",
       "      <td>58.538462</td>\n",
       "      <td>62.280000</td>\n",
       "      <td>63.160000</td>\n",
       "      <td>61.318182</td>\n",
       "      <td>63.000000</td>\n",
       "      <td>61.450000</td>\n",
       "      <td>60.583333</td>\n",
       "      <td>63.205629</td>\n",
       "    </tr>\n",
       "  </tbody>\n",
       "</table>\n",
       "<p>28 rows × 651 columns</p>\n",
       "</div>"
      ],
      "text/plain": [
       "                  SprintSpeed                                             \\\n",
       "Club      SSV Jahn Regensburg 1. FC Heidenheim 1846 1. FC Kaiserslautern   \n",
       "Position                                                                   \n",
       "CAM                  0.000000             68.000000             0.000000   \n",
       "CB                  46.600000             61.333333            59.000000   \n",
       "CDM                 82.000000              0.000000            65.666667   \n",
       "CF                   0.000000              0.000000             0.000000   \n",
       "CM                  61.000000             68.000000             0.000000   \n",
       "GK                  33.000000             41.000000            42.666667   \n",
       "LAM                  0.000000              0.000000             0.000000   \n",
       "LB                  76.000000             60.000000            68.000000   \n",
       "LCB                  0.000000             55.000000            45.000000   \n",
       "LCM                  0.000000              0.000000             0.000000   \n",
       "LDM                 55.000000              0.000000             0.000000   \n",
       "LF                   0.000000              0.000000             0.000000   \n",
       "LM                  76.000000             69.500000            70.500000   \n",
       "LS                   0.000000              0.000000            85.000000   \n",
       "LW                   0.000000              0.000000            80.000000   \n",
       "LWB                  0.000000              0.000000             0.000000   \n",
       "RAM                 78.000000              0.000000             0.000000   \n",
       "RB                  68.500000             80.500000            71.500000   \n",
       "RCB                 57.000000             59.000000             0.000000   \n",
       "RCM                  0.000000              0.000000             0.000000   \n",
       "RDM                 65.000000              0.000000            55.000000   \n",
       "RF                   0.000000              0.000000             0.000000   \n",
       "RM                   0.000000             78.333333            82.500000   \n",
       "RS                   0.000000              0.000000            69.000000   \n",
       "RW                   0.000000              0.000000             0.000000   \n",
       "RWB                  0.000000              0.000000             0.000000   \n",
       "ST                  61.666667             69.000000            79.000000   \n",
       "All                 59.041667             65.450000            65.217391   \n",
       "\n",
       "                                                                       \\\n",
       "Club     1. FC Köln 1. FC Magdeburg 1. FC Nürnberg 1. FC Union Berlin   \n",
       "Position                                                                \n",
       "CAM             0.0        0.000000      66.000000          61.000000   \n",
       "CB             60.0       60.000000      55.000000          59.000000   \n",
       "CDM            32.0        0.000000      59.000000          66.500000   \n",
       "CF              0.0       64.000000       0.000000           0.000000   \n",
       "CM             68.5        0.000000      53.000000          72.000000   \n",
       "GK             33.0       39.333333      40.000000          32.000000   \n",
       "LAM             0.0        0.000000       0.000000           0.000000   \n",
       "LB              0.0       69.000000      65.000000          70.500000   \n",
       "LCB             0.0       60.000000       0.000000          53.000000   \n",
       "LCM             0.0       66.000000       0.000000           0.000000   \n",
       "LDM             0.0        0.000000       0.000000           0.000000   \n",
       "LF              0.0        0.000000       0.000000           0.000000   \n",
       "LM              0.0        0.000000       0.000000           0.000000   \n",
       "LS              0.0       86.000000       0.000000           0.000000   \n",
       "LW              0.0        0.000000       0.000000           0.000000   \n",
       "LWB            77.0        0.000000       0.000000           0.000000   \n",
       "RAM             0.0        0.000000       0.000000           0.000000   \n",
       "RB             70.0        0.000000      75.000000          86.000000   \n",
       "RCB             0.0       68.000000       0.000000           0.000000   \n",
       "RCM             0.0       71.000000       0.000000           0.000000   \n",
       "RDM             0.0        0.000000       0.000000           0.000000   \n",
       "RF              0.0        0.000000       0.000000           0.000000   \n",
       "RM             77.0       76.000000      83.000000           0.000000   \n",
       "RS              0.0       53.000000       0.000000           0.000000   \n",
       "RW              0.0       80.500000       0.000000           0.000000   \n",
       "RWB             0.0        0.000000       0.000000           0.000000   \n",
       "ST              0.0       44.000000      65.666667           0.000000   \n",
       "All            55.2       63.238095      64.230769          63.272727   \n",
       "\n",
       "                                                ...                   \\\n",
       "Club     1. FSV Mainz 05 AC Ajaccio AC Horsens  ... Yeni Malatyaspor   \n",
       "Position                                        ...                    \n",
       "CAM             0.000000  71.333333   0.000000  ...        71.500000   \n",
       "CB             71.500000  46.000000  53.333333  ...        62.000000   \n",
       "CDM             0.000000   0.000000  56.000000  ...        65.666667   \n",
       "CF              0.000000   0.000000   0.000000  ...         0.000000   \n",
       "CM             69.000000  77.000000  62.500000  ...        64.000000   \n",
       "GK             40.000000  46.000000  34.333333  ...        33.250000   \n",
       "LAM             0.000000   0.000000   0.000000  ...         0.000000   \n",
       "LB             69.000000  67.666667  66.000000  ...        75.000000   \n",
       "LCB             0.000000  52.000000  57.000000  ...         0.000000   \n",
       "LCM            64.000000   0.000000  76.000000  ...         0.000000   \n",
       "LDM             0.000000  64.000000   0.000000  ...        67.000000   \n",
       "LF              0.000000   0.000000   0.000000  ...         0.000000   \n",
       "LM              0.000000  72.000000  70.500000  ...        70.000000   \n",
       "LS              0.000000   0.000000  77.000000  ...         0.000000   \n",
       "LW             74.000000   0.000000   0.000000  ...         0.000000   \n",
       "LWB             0.000000   0.000000   0.000000  ...         0.000000   \n",
       "RAM             0.000000   0.000000   0.000000  ...         0.000000   \n",
       "RB             79.000000  67.000000  78.000000  ...        70.500000   \n",
       "RCB             0.000000  75.000000  57.000000  ...         0.000000   \n",
       "RCM             0.000000   0.000000  63.000000  ...         0.000000   \n",
       "RDM             0.000000  60.000000   0.000000  ...         0.000000   \n",
       "RF              0.000000   0.000000   0.000000  ...         0.000000   \n",
       "RM              0.000000  71.000000  61.000000  ...        87.000000   \n",
       "RS             86.000000   0.000000  81.000000  ...         0.000000   \n",
       "RW              0.000000   0.000000   0.000000  ...         0.000000   \n",
       "RWB             0.000000   0.000000   0.000000  ...         0.000000   \n",
       "ST             69.000000  66.000000  52.500000  ...        57.500000   \n",
       "All            69.727273  65.526316  59.960000  ...        61.363636   \n",
       "\n",
       "                                                                            \\\n",
       "Club     Yeovil Town Yokohama F. Marinos Zagłębie Lubin Zagłębie Sosnowiec   \n",
       "Position                                                                     \n",
       "CAM         0.000000           70.333333       0.000000          73.000000   \n",
       "CB         54.000000           45.250000       0.000000          46.500000   \n",
       "CDM         0.000000           61.000000      54.000000          66.000000   \n",
       "CF          0.000000            0.000000       0.000000           0.000000   \n",
       "CM         67.000000           67.000000      55.000000           0.000000   \n",
       "GK         37.000000           27.750000      44.666667          39.000000   \n",
       "LAM         0.000000            0.000000       0.000000           0.000000   \n",
       "LB         57.000000           70.000000      72.000000          60.333333   \n",
       "LCB        44.000000            0.000000      33.000000          61.000000   \n",
       "LCM        70.000000           72.000000       0.000000           0.000000   \n",
       "LDM         0.000000            0.000000      70.000000          74.000000   \n",
       "LF          0.000000            0.000000       0.000000           0.000000   \n",
       "LM         83.500000           70.000000      66.000000          74.250000   \n",
       "LS         81.000000            0.000000       0.000000           0.000000   \n",
       "LW          0.000000           77.000000       0.000000           0.000000   \n",
       "LWB         0.000000            0.000000       0.000000           0.000000   \n",
       "RAM         0.000000            0.000000       0.000000           0.000000   \n",
       "RB         69.500000           68.500000      69.500000          68.000000   \n",
       "RCB        59.000000            0.000000      50.000000          58.000000   \n",
       "RCM        76.000000           72.000000       0.000000           0.000000   \n",
       "RDM         0.000000            0.000000      61.000000          62.000000   \n",
       "RF          0.000000            0.000000       0.000000           0.000000   \n",
       "RM         78.200000           61.000000      75.000000          71.000000   \n",
       "RS         77.000000            0.000000       0.000000           0.000000   \n",
       "RW          0.000000           65.000000       0.000000           0.000000   \n",
       "RWB         0.000000            0.000000       0.000000           0.000000   \n",
       "ST         74.750000           68.666667      65.250000          75.000000   \n",
       "All        66.321429           58.538462      62.280000          63.160000   \n",
       "\n",
       "                                                                            \n",
       "Club     Çaykur Rizespor  Örebro SK Östersunds FK Śląsk Wrocław        All  \n",
       "Position                                                                    \n",
       "CAM            74.000000   0.000000     67.000000      0.000000  68.236967  \n",
       "CB             58.000000  60.750000     76.000000     62.000000  57.734854  \n",
       "CDM            62.800000   0.000000      0.000000     66.666667  60.813314  \n",
       "CF              0.000000   0.000000     77.000000      0.000000  69.803922  \n",
       "CM              0.000000  63.000000     56.333333     72.000000  64.299906  \n",
       "GK             47.000000  33.666667     32.666667     30.666667  37.622182  \n",
       "LAM             0.000000   0.000000      0.000000      0.000000  76.333333  \n",
       "LB             75.500000   0.000000     74.500000     78.500000  70.718563  \n",
       "LCB            63.000000  58.000000     53.000000     59.000000  58.936430  \n",
       "LCM             0.000000  44.000000     62.000000      0.000000  65.334764  \n",
       "LDM            61.000000   0.000000      0.000000     60.000000  62.006757  \n",
       "LF              0.000000   0.000000      0.000000      0.000000  75.875000  \n",
       "LM             58.000000   0.000000     73.500000     72.000000  74.211538  \n",
       "LS              0.000000   0.000000      0.000000     55.000000  72.338843  \n",
       "LW              0.000000  68.333333      0.000000      0.000000  74.747934  \n",
       "LWB             0.000000  68.000000      0.000000      0.000000  72.833333  \n",
       "RAM             0.000000   0.000000      0.000000      0.000000  73.800000  \n",
       "RB             68.666667   0.000000     54.000000     50.500000  71.186709  \n",
       "RCB             0.000000  62.000000     73.000000     58.000000  58.239234  \n",
       "RCM             0.000000  66.000000      0.000000      0.000000  65.233333  \n",
       "RDM            32.000000   0.000000      0.000000     69.000000  62.152174  \n",
       "RF              0.000000   0.000000      0.000000      0.000000  76.333333  \n",
       "RM             85.000000   0.000000     85.000000     68.000000  74.943864  \n",
       "RS              0.000000   0.000000      0.000000     81.000000  71.991228  \n",
       "RW              0.000000  77.500000     67.000000      0.000000  75.417722  \n",
       "RWB             0.000000  72.000000      0.000000      0.000000  73.128571  \n",
       "ST             48.000000  72.200000     52.000000     54.000000  68.700397  \n",
       "All            61.318182  63.000000     61.450000     60.583333  63.205629  \n",
       "\n",
       "[28 rows x 651 columns]"
      ]
     },
     "metadata": {},
     "output_type": "display_data"
    }
   ],
   "source": [
    "pivot3 = football.pivot_table(values=['SprintSpeed'],\n",
    "index=['Position'],\n",
    "columns=['Club'],\n",
    "aggfunc='mean',\n",
    "fill_value=0, margins=True)\n",
    "display(pivot3)"
   ]
  },
  {
   "cell_type": "code",
   "execution_count": 155,
   "metadata": {},
   "outputs": [
    {
     "data": {
      "text/plain": [
       "             Club                 \n",
       "SprintSpeed  Vitória                  91.000000\n",
       "             Sydney FC                88.000000\n",
       "             CD Lugo                  87.000000\n",
       "             Brøndby IF               84.666667\n",
       "             Leicester City           84.500000\n",
       "                                        ...    \n",
       "             Al Ittihad                0.000000\n",
       "             Cagliari                  0.000000\n",
       "             KAA Gent                  0.000000\n",
       "             Sporting de Charleroi     0.000000\n",
       "             Girona FC                 0.000000\n",
       "Name: ST, Length: 651, dtype: float64"
      ]
     },
     "execution_count": 155,
     "metadata": {},
     "output_type": "execute_result"
    }
   ],
   "source": [
    "pivot3.loc['ST'].sort_values(ascending=False)"
   ]
  },
  {
   "cell_type": "code",
   "execution_count": 156,
   "metadata": {},
   "outputs": [],
   "source": [
    "rat = pd.read_csv('C://Users/bella/Downloads/ratings.xls')"
   ]
  },
  {
   "cell_type": "code",
   "execution_count": 157,
   "metadata": {},
   "outputs": [],
   "source": [
    "mov = pd.read_csv('C://Users/bella/Downloads/movies.xls')"
   ]
  },
  {
   "cell_type": "code",
   "execution_count": 158,
   "metadata": {},
   "outputs": [
    {
     "name": "stdout",
     "output_type": "stream",
     "text": [
      "<class 'pandas.core.frame.DataFrame'>\n",
      "RangeIndex: 100836 entries, 0 to 100835\n",
      "Data columns (total 4 columns):\n",
      " #   Column     Non-Null Count   Dtype  \n",
      "---  ------     --------------   -----  \n",
      " 0   userId     100836 non-null  int64  \n",
      " 1   movieId    100836 non-null  int64  \n",
      " 2   rating     100836 non-null  float64\n",
      " 3   timestamp  100836 non-null  int64  \n",
      "dtypes: float64(1), int64(3)\n",
      "memory usage: 3.1 MB\n"
     ]
    }
   ],
   "source": [
    "rat.info()"
   ]
  },
  {
   "cell_type": "code",
   "execution_count": 159,
   "metadata": {},
   "outputs": [
    {
     "data": {
      "text/html": [
       "<div>\n",
       "<style scoped>\n",
       "    .dataframe tbody tr th:only-of-type {\n",
       "        vertical-align: middle;\n",
       "    }\n",
       "\n",
       "    .dataframe tbody tr th {\n",
       "        vertical-align: top;\n",
       "    }\n",
       "\n",
       "    .dataframe thead th {\n",
       "        text-align: right;\n",
       "    }\n",
       "</style>\n",
       "<table border=\"1\" class=\"dataframe\">\n",
       "  <thead>\n",
       "    <tr style=\"text-align: right;\">\n",
       "      <th></th>\n",
       "      <th>userId</th>\n",
       "      <th>movieId</th>\n",
       "      <th>rating</th>\n",
       "      <th>timestamp</th>\n",
       "    </tr>\n",
       "  </thead>\n",
       "  <tbody>\n",
       "    <tr>\n",
       "      <th>count</th>\n",
       "      <td>100836.000000</td>\n",
       "      <td>100836.000000</td>\n",
       "      <td>100836.000000</td>\n",
       "      <td>1.008360e+05</td>\n",
       "    </tr>\n",
       "    <tr>\n",
       "      <th>mean</th>\n",
       "      <td>326.127564</td>\n",
       "      <td>19435.295718</td>\n",
       "      <td>3.501557</td>\n",
       "      <td>1.205946e+09</td>\n",
       "    </tr>\n",
       "    <tr>\n",
       "      <th>std</th>\n",
       "      <td>182.618491</td>\n",
       "      <td>35530.987199</td>\n",
       "      <td>1.042529</td>\n",
       "      <td>2.162610e+08</td>\n",
       "    </tr>\n",
       "    <tr>\n",
       "      <th>min</th>\n",
       "      <td>1.000000</td>\n",
       "      <td>1.000000</td>\n",
       "      <td>0.500000</td>\n",
       "      <td>8.281246e+08</td>\n",
       "    </tr>\n",
       "    <tr>\n",
       "      <th>25%</th>\n",
       "      <td>177.000000</td>\n",
       "      <td>1199.000000</td>\n",
       "      <td>3.000000</td>\n",
       "      <td>1.019124e+09</td>\n",
       "    </tr>\n",
       "    <tr>\n",
       "      <th>50%</th>\n",
       "      <td>325.000000</td>\n",
       "      <td>2991.000000</td>\n",
       "      <td>3.500000</td>\n",
       "      <td>1.186087e+09</td>\n",
       "    </tr>\n",
       "    <tr>\n",
       "      <th>75%</th>\n",
       "      <td>477.000000</td>\n",
       "      <td>8122.000000</td>\n",
       "      <td>4.000000</td>\n",
       "      <td>1.435994e+09</td>\n",
       "    </tr>\n",
       "    <tr>\n",
       "      <th>max</th>\n",
       "      <td>610.000000</td>\n",
       "      <td>193609.000000</td>\n",
       "      <td>5.000000</td>\n",
       "      <td>1.537799e+09</td>\n",
       "    </tr>\n",
       "  </tbody>\n",
       "</table>\n",
       "</div>"
      ],
      "text/plain": [
       "              userId        movieId         rating     timestamp\n",
       "count  100836.000000  100836.000000  100836.000000  1.008360e+05\n",
       "mean      326.127564   19435.295718       3.501557  1.205946e+09\n",
       "std       182.618491   35530.987199       1.042529  2.162610e+08\n",
       "min         1.000000       1.000000       0.500000  8.281246e+08\n",
       "25%       177.000000    1199.000000       3.000000  1.019124e+09\n",
       "50%       325.000000    2991.000000       3.500000  1.186087e+09\n",
       "75%       477.000000    8122.000000       4.000000  1.435994e+09\n",
       "max       610.000000  193609.000000       5.000000  1.537799e+09"
      ]
     },
     "execution_count": 159,
     "metadata": {},
     "output_type": "execute_result"
    }
   ],
   "source": [
    "rat.describe()"
   ]
  },
  {
   "cell_type": "code",
   "execution_count": 162,
   "metadata": {},
   "outputs": [
    {
     "data": {
      "text/plain": [
       "0              1\n",
       "1              3\n",
       "2              6\n",
       "3             47\n",
       "4             50\n",
       "           ...  \n",
       "100831    166534\n",
       "100832    168248\n",
       "100833    168250\n",
       "100834    168252\n",
       "100835    170875\n",
       "Name: movieId, Length: 100836, dtype: int64"
      ]
     },
     "execution_count": 162,
     "metadata": {},
     "output_type": "execute_result"
    }
   ],
   "source": [
    "rat[\"movieId\"]"
   ]
  },
  {
   "cell_type": "code",
   "execution_count": 164,
   "metadata": {},
   "outputs": [
    {
     "data": {
      "text/plain": [
       "5.0"
      ]
     },
     "execution_count": 164,
     "metadata": {},
     "output_type": "execute_result"
    }
   ],
   "source": [
    "rat['rating'].max()"
   ]
  },
  {
   "cell_type": "code",
   "execution_count": 165,
   "metadata": {},
   "outputs": [
    {
     "name": "stdout",
     "output_type": "stream",
     "text": [
      "<class 'pandas.core.frame.DataFrame'>\n",
      "RangeIndex: 9742 entries, 0 to 9741\n",
      "Data columns (total 3 columns):\n",
      " #   Column   Non-Null Count  Dtype \n",
      "---  ------   --------------  ----- \n",
      " 0   movieId  9742 non-null   int64 \n",
      " 1   title    9742 non-null   object\n",
      " 2   genres   9742 non-null   object\n",
      "dtypes: int64(1), object(2)\n",
      "memory usage: 228.5+ KB\n"
     ]
    }
   ],
   "source": [
    "mov.info()"
   ]
  },
  {
   "cell_type": "code",
   "execution_count": 166,
   "metadata": {},
   "outputs": [],
   "source": [
    "items_dict = {\n",
    "\n",
    "    'item_id': [417283, 849734, 132223, 573943, 19475, 3294095, 382043, 302948, 100132, 312394], \n",
    "\n",
    "    'vendor': ['Samsung', 'LG', 'Apple', 'Apple', 'LG', 'Apple', 'Samsung', 'Samsung', 'LG', 'ZTE'],\n",
    "\n",
    "    'stock_count': [54, 33, 122, 18, 102, 43, 77, 143, 60, 19]\n",
    "\n",
    "}"
   ]
  },
  {
   "cell_type": "code",
   "execution_count": 167,
   "metadata": {},
   "outputs": [],
   "source": [
    "purchase_log = {\n",
    "\n",
    "    'purchase_id': [101, 101, 101, 112, 121, 145, 145, 145, 145, 221],\n",
    "\n",
    "    'item_id': [417283, 849734, 132223, 573943, 19475, 3294095, 382043, 302948, 103845, 100132], \n",
    "\n",
    "    'price': [13900, 5330, 38200, 49990, 9890, 33000, 67500, 34500, 89900, 11400]\n",
    "\n",
    "}"
   ]
  },
  {
   "cell_type": "code",
   "execution_count": 168,
   "metadata": {},
   "outputs": [],
   "source": [
    "items_df = pd.DataFrame(items_dict)\n",
    "purchase_df = pd.DataFrame(purchase_log)"
   ]
  },
  {
   "cell_type": "code",
   "execution_count": 174,
   "metadata": {},
   "outputs": [
    {
     "data": {
      "text/html": [
       "<div>\n",
       "<style scoped>\n",
       "    .dataframe tbody tr th:only-of-type {\n",
       "        vertical-align: middle;\n",
       "    }\n",
       "\n",
       "    .dataframe tbody tr th {\n",
       "        vertical-align: top;\n",
       "    }\n",
       "\n",
       "    .dataframe thead th {\n",
       "        text-align: right;\n",
       "    }\n",
       "</style>\n",
       "<table border=\"1\" class=\"dataframe\">\n",
       "  <thead>\n",
       "    <tr style=\"text-align: right;\">\n",
       "      <th></th>\n",
       "      <th>item_id</th>\n",
       "      <th>vendor</th>\n",
       "      <th>stock_count</th>\n",
       "      <th>purchase_id</th>\n",
       "      <th>price</th>\n",
       "    </tr>\n",
       "  </thead>\n",
       "  <tbody>\n",
       "    <tr>\n",
       "      <th>0</th>\n",
       "      <td>417283</td>\n",
       "      <td>Samsung</td>\n",
       "      <td>54</td>\n",
       "      <td>101</td>\n",
       "      <td>13900</td>\n",
       "    </tr>\n",
       "    <tr>\n",
       "      <th>1</th>\n",
       "      <td>849734</td>\n",
       "      <td>LG</td>\n",
       "      <td>33</td>\n",
       "      <td>101</td>\n",
       "      <td>5330</td>\n",
       "    </tr>\n",
       "    <tr>\n",
       "      <th>2</th>\n",
       "      <td>132223</td>\n",
       "      <td>Apple</td>\n",
       "      <td>122</td>\n",
       "      <td>101</td>\n",
       "      <td>38200</td>\n",
       "    </tr>\n",
       "    <tr>\n",
       "      <th>3</th>\n",
       "      <td>573943</td>\n",
       "      <td>Apple</td>\n",
       "      <td>18</td>\n",
       "      <td>112</td>\n",
       "      <td>49990</td>\n",
       "    </tr>\n",
       "    <tr>\n",
       "      <th>4</th>\n",
       "      <td>19475</td>\n",
       "      <td>LG</td>\n",
       "      <td>102</td>\n",
       "      <td>121</td>\n",
       "      <td>9890</td>\n",
       "    </tr>\n",
       "    <tr>\n",
       "      <th>5</th>\n",
       "      <td>3294095</td>\n",
       "      <td>Apple</td>\n",
       "      <td>43</td>\n",
       "      <td>145</td>\n",
       "      <td>33000</td>\n",
       "    </tr>\n",
       "    <tr>\n",
       "      <th>6</th>\n",
       "      <td>382043</td>\n",
       "      <td>Samsung</td>\n",
       "      <td>77</td>\n",
       "      <td>145</td>\n",
       "      <td>67500</td>\n",
       "    </tr>\n",
       "    <tr>\n",
       "      <th>7</th>\n",
       "      <td>302948</td>\n",
       "      <td>Samsung</td>\n",
       "      <td>143</td>\n",
       "      <td>145</td>\n",
       "      <td>34500</td>\n",
       "    </tr>\n",
       "    <tr>\n",
       "      <th>8</th>\n",
       "      <td>100132</td>\n",
       "      <td>LG</td>\n",
       "      <td>60</td>\n",
       "      <td>221</td>\n",
       "      <td>11400</td>\n",
       "    </tr>\n",
       "  </tbody>\n",
       "</table>\n",
       "</div>"
      ],
      "text/plain": [
       "   item_id   vendor  stock_count  purchase_id  price\n",
       "0   417283  Samsung           54          101  13900\n",
       "1   849734       LG           33          101   5330\n",
       "2   132223    Apple          122          101  38200\n",
       "3   573943    Apple           18          112  49990\n",
       "4    19475       LG          102          121   9890\n",
       "5  3294095    Apple           43          145  33000\n",
       "6   382043  Samsung           77          145  67500\n",
       "7   302948  Samsung          143          145  34500\n",
       "8   100132       LG           60          221  11400"
      ]
     },
     "metadata": {},
     "output_type": "display_data"
    }
   ],
   "source": [
    "joined = items_df.merge(purchase_df, on='item_id', how='inner')\n",
    "display(joined)"
   ]
  },
  {
   "cell_type": "code",
   "execution_count": 177,
   "metadata": {},
   "outputs": [
    {
     "data": {
      "text/html": [
       "<div>\n",
       "<style scoped>\n",
       "    .dataframe tbody tr th:only-of-type {\n",
       "        vertical-align: middle;\n",
       "    }\n",
       "\n",
       "    .dataframe tbody tr th {\n",
       "        vertical-align: top;\n",
       "    }\n",
       "\n",
       "    .dataframe thead th {\n",
       "        text-align: right;\n",
       "    }\n",
       "</style>\n",
       "<table border=\"1\" class=\"dataframe\">\n",
       "  <thead>\n",
       "    <tr style=\"text-align: right;\">\n",
       "      <th></th>\n",
       "      <th>item_id</th>\n",
       "      <th>vendor</th>\n",
       "      <th>stock_count</th>\n",
       "      <th>purchase_id</th>\n",
       "      <th>price</th>\n",
       "      <th>cost</th>\n",
       "      <th>0</th>\n",
       "      <th>1</th>\n",
       "      <th>2</th>\n",
       "      <th>3</th>\n",
       "      <th>4</th>\n",
       "      <th>5</th>\n",
       "      <th>6</th>\n",
       "      <th>7</th>\n",
       "      <th>8</th>\n",
       "    </tr>\n",
       "  </thead>\n",
       "  <tbody>\n",
       "    <tr>\n",
       "      <th>0</th>\n",
       "      <td>417283.0</td>\n",
       "      <td>Samsung</td>\n",
       "      <td>54.0</td>\n",
       "      <td>101.0</td>\n",
       "      <td>13900.0</td>\n",
       "      <td>750600.0</td>\n",
       "      <td>NaN</td>\n",
       "      <td>NaN</td>\n",
       "      <td>NaN</td>\n",
       "      <td>NaN</td>\n",
       "      <td>NaN</td>\n",
       "      <td>NaN</td>\n",
       "      <td>NaN</td>\n",
       "      <td>NaN</td>\n",
       "      <td>NaN</td>\n",
       "    </tr>\n",
       "    <tr>\n",
       "      <th>1</th>\n",
       "      <td>849734.0</td>\n",
       "      <td>LG</td>\n",
       "      <td>33.0</td>\n",
       "      <td>101.0</td>\n",
       "      <td>5330.0</td>\n",
       "      <td>175890.0</td>\n",
       "      <td>NaN</td>\n",
       "      <td>NaN</td>\n",
       "      <td>NaN</td>\n",
       "      <td>NaN</td>\n",
       "      <td>NaN</td>\n",
       "      <td>NaN</td>\n",
       "      <td>NaN</td>\n",
       "      <td>NaN</td>\n",
       "      <td>NaN</td>\n",
       "    </tr>\n",
       "    <tr>\n",
       "      <th>2</th>\n",
       "      <td>132223.0</td>\n",
       "      <td>Apple</td>\n",
       "      <td>122.0</td>\n",
       "      <td>101.0</td>\n",
       "      <td>38200.0</td>\n",
       "      <td>4660400.0</td>\n",
       "      <td>NaN</td>\n",
       "      <td>NaN</td>\n",
       "      <td>NaN</td>\n",
       "      <td>NaN</td>\n",
       "      <td>NaN</td>\n",
       "      <td>NaN</td>\n",
       "      <td>NaN</td>\n",
       "      <td>NaN</td>\n",
       "      <td>NaN</td>\n",
       "    </tr>\n",
       "    <tr>\n",
       "      <th>3</th>\n",
       "      <td>573943.0</td>\n",
       "      <td>Apple</td>\n",
       "      <td>18.0</td>\n",
       "      <td>112.0</td>\n",
       "      <td>49990.0</td>\n",
       "      <td>899820.0</td>\n",
       "      <td>NaN</td>\n",
       "      <td>NaN</td>\n",
       "      <td>NaN</td>\n",
       "      <td>NaN</td>\n",
       "      <td>NaN</td>\n",
       "      <td>NaN</td>\n",
       "      <td>NaN</td>\n",
       "      <td>NaN</td>\n",
       "      <td>NaN</td>\n",
       "    </tr>\n",
       "    <tr>\n",
       "      <th>4</th>\n",
       "      <td>19475.0</td>\n",
       "      <td>LG</td>\n",
       "      <td>102.0</td>\n",
       "      <td>121.0</td>\n",
       "      <td>9890.0</td>\n",
       "      <td>1008780.0</td>\n",
       "      <td>NaN</td>\n",
       "      <td>NaN</td>\n",
       "      <td>NaN</td>\n",
       "      <td>NaN</td>\n",
       "      <td>NaN</td>\n",
       "      <td>NaN</td>\n",
       "      <td>NaN</td>\n",
       "      <td>NaN</td>\n",
       "      <td>NaN</td>\n",
       "    </tr>\n",
       "    <tr>\n",
       "      <th>5</th>\n",
       "      <td>3294095.0</td>\n",
       "      <td>Apple</td>\n",
       "      <td>43.0</td>\n",
       "      <td>145.0</td>\n",
       "      <td>33000.0</td>\n",
       "      <td>1419000.0</td>\n",
       "      <td>NaN</td>\n",
       "      <td>NaN</td>\n",
       "      <td>NaN</td>\n",
       "      <td>NaN</td>\n",
       "      <td>NaN</td>\n",
       "      <td>NaN</td>\n",
       "      <td>NaN</td>\n",
       "      <td>NaN</td>\n",
       "      <td>NaN</td>\n",
       "    </tr>\n",
       "    <tr>\n",
       "      <th>6</th>\n",
       "      <td>382043.0</td>\n",
       "      <td>Samsung</td>\n",
       "      <td>77.0</td>\n",
       "      <td>145.0</td>\n",
       "      <td>67500.0</td>\n",
       "      <td>5197500.0</td>\n",
       "      <td>NaN</td>\n",
       "      <td>NaN</td>\n",
       "      <td>NaN</td>\n",
       "      <td>NaN</td>\n",
       "      <td>NaN</td>\n",
       "      <td>NaN</td>\n",
       "      <td>NaN</td>\n",
       "      <td>NaN</td>\n",
       "      <td>NaN</td>\n",
       "    </tr>\n",
       "    <tr>\n",
       "      <th>7</th>\n",
       "      <td>302948.0</td>\n",
       "      <td>Samsung</td>\n",
       "      <td>143.0</td>\n",
       "      <td>145.0</td>\n",
       "      <td>34500.0</td>\n",
       "      <td>4933500.0</td>\n",
       "      <td>NaN</td>\n",
       "      <td>NaN</td>\n",
       "      <td>NaN</td>\n",
       "      <td>NaN</td>\n",
       "      <td>NaN</td>\n",
       "      <td>NaN</td>\n",
       "      <td>NaN</td>\n",
       "      <td>NaN</td>\n",
       "      <td>NaN</td>\n",
       "    </tr>\n",
       "    <tr>\n",
       "      <th>8</th>\n",
       "      <td>100132.0</td>\n",
       "      <td>LG</td>\n",
       "      <td>60.0</td>\n",
       "      <td>221.0</td>\n",
       "      <td>11400.0</td>\n",
       "      <td>684000.0</td>\n",
       "      <td>NaN</td>\n",
       "      <td>NaN</td>\n",
       "      <td>NaN</td>\n",
       "      <td>NaN</td>\n",
       "      <td>NaN</td>\n",
       "      <td>NaN</td>\n",
       "      <td>NaN</td>\n",
       "      <td>NaN</td>\n",
       "      <td>NaN</td>\n",
       "    </tr>\n",
       "    <tr>\n",
       "      <th>cost</th>\n",
       "      <td>NaN</td>\n",
       "      <td>NaN</td>\n",
       "      <td>NaN</td>\n",
       "      <td>NaN</td>\n",
       "      <td>NaN</td>\n",
       "      <td>NaN</td>\n",
       "      <td>750600.0</td>\n",
       "      <td>175890.0</td>\n",
       "      <td>4660400.0</td>\n",
       "      <td>899820.0</td>\n",
       "      <td>1008780.0</td>\n",
       "      <td>1419000.0</td>\n",
       "      <td>5197500.0</td>\n",
       "      <td>4933500.0</td>\n",
       "      <td>684000.0</td>\n",
       "    </tr>\n",
       "  </tbody>\n",
       "</table>\n",
       "</div>"
      ],
      "text/plain": [
       "        item_id   vendor  stock_count  purchase_id    price       cost  \\\n",
       "0      417283.0  Samsung         54.0        101.0  13900.0   750600.0   \n",
       "1      849734.0       LG         33.0        101.0   5330.0   175890.0   \n",
       "2      132223.0    Apple        122.0        101.0  38200.0  4660400.0   \n",
       "3      573943.0    Apple         18.0        112.0  49990.0   899820.0   \n",
       "4       19475.0       LG        102.0        121.0   9890.0  1008780.0   \n",
       "5     3294095.0    Apple         43.0        145.0  33000.0  1419000.0   \n",
       "6      382043.0  Samsung         77.0        145.0  67500.0  5197500.0   \n",
       "7      302948.0  Samsung        143.0        145.0  34500.0  4933500.0   \n",
       "8      100132.0       LG         60.0        221.0  11400.0   684000.0   \n",
       "cost        NaN      NaN          NaN          NaN      NaN        NaN   \n",
       "\n",
       "             0         1          2         3          4          5  \\\n",
       "0          NaN       NaN        NaN       NaN        NaN        NaN   \n",
       "1          NaN       NaN        NaN       NaN        NaN        NaN   \n",
       "2          NaN       NaN        NaN       NaN        NaN        NaN   \n",
       "3          NaN       NaN        NaN       NaN        NaN        NaN   \n",
       "4          NaN       NaN        NaN       NaN        NaN        NaN   \n",
       "5          NaN       NaN        NaN       NaN        NaN        NaN   \n",
       "6          NaN       NaN        NaN       NaN        NaN        NaN   \n",
       "7          NaN       NaN        NaN       NaN        NaN        NaN   \n",
       "8          NaN       NaN        NaN       NaN        NaN        NaN   \n",
       "cost  750600.0  175890.0  4660400.0  899820.0  1008780.0  1419000.0   \n",
       "\n",
       "              6          7         8  \n",
       "0           NaN        NaN       NaN  \n",
       "1           NaN        NaN       NaN  \n",
       "2           NaN        NaN       NaN  \n",
       "3           NaN        NaN       NaN  \n",
       "4           NaN        NaN       NaN  \n",
       "5           NaN        NaN       NaN  \n",
       "6           NaN        NaN       NaN  \n",
       "7           NaN        NaN       NaN  \n",
       "8           NaN        NaN       NaN  \n",
       "cost  5197500.0  4933500.0  684000.0  "
      ]
     },
     "execution_count": 177,
     "metadata": {},
     "output_type": "execute_result"
    }
   ],
   "source": [
    "joined['cost']=joined['stock_count']*joined['price']\n",
    "joined.append(joined['cost'])"
   ]
  },
  {
   "cell_type": "code",
   "execution_count": 178,
   "metadata": {},
   "outputs": [
    {
     "data": {
      "text/plain": [
       "19729490"
      ]
     },
     "execution_count": 178,
     "metadata": {},
     "output_type": "execute_result"
    }
   ],
   "source": [
    "joined['cost'].sum()"
   ]
  },
  {
   "cell_type": "code",
   "execution_count": 179,
   "metadata": {},
   "outputs": [],
   "source": [
    "files = ['setup.py', 'ratings.txt', 'stock_stats.txt', 'movies.txt', 'run.sh', 'game_of_thrones.mov']"
   ]
  },
  {
   "cell_type": "code",
   "execution_count": 187,
   "metadata": {},
   "outputs": [
    {
     "name": "stdout",
     "output_type": "stream",
     "text": [
      "['ratings.txt', 'stock_stats.txt', 'movies.txt']\n"
     ]
    }
   ],
   "source": [
    "data = []\n",
    "for i in files:\n",
    "    if 'txt' in i:\n",
    "        data.append(i)\n",
    "print(data)"
   ]
  },
  {
   "cell_type": "code",
   "execution_count": 191,
   "metadata": {},
   "outputs": [
    {
     "data": {
      "text/plain": [
       "userId       1370\n",
       "movieId      1370\n",
       "rating       1370\n",
       "timestamp    1370\n",
       "dtype: int64"
      ]
     },
     "execution_count": 191,
     "metadata": {},
     "output_type": "execute_result"
    }
   ],
   "source": [
    "rat[rat.rating == rat.rating.min()].count()"
   ]
  },
  {
   "cell_type": "code",
   "execution_count": 193,
   "metadata": {},
   "outputs": [
    {
     "data": {
      "text/html": [
       "<div>\n",
       "<style scoped>\n",
       "    .dataframe tbody tr th:only-of-type {\n",
       "        vertical-align: middle;\n",
       "    }\n",
       "\n",
       "    .dataframe tbody tr th {\n",
       "        vertical-align: top;\n",
       "    }\n",
       "\n",
       "    .dataframe thead th {\n",
       "        text-align: right;\n",
       "    }\n",
       "</style>\n",
       "<table border=\"1\" class=\"dataframe\">\n",
       "  <thead>\n",
       "    <tr style=\"text-align: right;\">\n",
       "      <th></th>\n",
       "      <th>movieId</th>\n",
       "      <th>title</th>\n",
       "      <th>genres</th>\n",
       "      <th>userId</th>\n",
       "      <th>rating</th>\n",
       "      <th>timestamp</th>\n",
       "    </tr>\n",
       "  </thead>\n",
       "  <tbody>\n",
       "    <tr>\n",
       "      <th>0</th>\n",
       "      <td>1</td>\n",
       "      <td>Toy Story (1995)</td>\n",
       "      <td>Adventure|Animation|Children|Comedy|Fantasy</td>\n",
       "      <td>1.0</td>\n",
       "      <td>4.0</td>\n",
       "      <td>9.649827e+08</td>\n",
       "    </tr>\n",
       "    <tr>\n",
       "      <th>1</th>\n",
       "      <td>1</td>\n",
       "      <td>Toy Story (1995)</td>\n",
       "      <td>Adventure|Animation|Children|Comedy|Fantasy</td>\n",
       "      <td>5.0</td>\n",
       "      <td>4.0</td>\n",
       "      <td>8.474350e+08</td>\n",
       "    </tr>\n",
       "    <tr>\n",
       "      <th>2</th>\n",
       "      <td>1</td>\n",
       "      <td>Toy Story (1995)</td>\n",
       "      <td>Adventure|Animation|Children|Comedy|Fantasy</td>\n",
       "      <td>7.0</td>\n",
       "      <td>4.5</td>\n",
       "      <td>1.106636e+09</td>\n",
       "    </tr>\n",
       "    <tr>\n",
       "      <th>3</th>\n",
       "      <td>1</td>\n",
       "      <td>Toy Story (1995)</td>\n",
       "      <td>Adventure|Animation|Children|Comedy|Fantasy</td>\n",
       "      <td>15.0</td>\n",
       "      <td>2.5</td>\n",
       "      <td>1.510578e+09</td>\n",
       "    </tr>\n",
       "    <tr>\n",
       "      <th>4</th>\n",
       "      <td>1</td>\n",
       "      <td>Toy Story (1995)</td>\n",
       "      <td>Adventure|Animation|Children|Comedy|Fantasy</td>\n",
       "      <td>17.0</td>\n",
       "      <td>4.5</td>\n",
       "      <td>1.305696e+09</td>\n",
       "    </tr>\n",
       "    <tr>\n",
       "      <th>...</th>\n",
       "      <td>...</td>\n",
       "      <td>...</td>\n",
       "      <td>...</td>\n",
       "      <td>...</td>\n",
       "      <td>...</td>\n",
       "      <td>...</td>\n",
       "    </tr>\n",
       "    <tr>\n",
       "      <th>100849</th>\n",
       "      <td>193581</td>\n",
       "      <td>Black Butler: Book of the Atlantic (2017)</td>\n",
       "      <td>Action|Animation|Comedy|Fantasy</td>\n",
       "      <td>184.0</td>\n",
       "      <td>4.0</td>\n",
       "      <td>1.537109e+09</td>\n",
       "    </tr>\n",
       "    <tr>\n",
       "      <th>100850</th>\n",
       "      <td>193583</td>\n",
       "      <td>No Game No Life: Zero (2017)</td>\n",
       "      <td>Animation|Comedy|Fantasy</td>\n",
       "      <td>184.0</td>\n",
       "      <td>3.5</td>\n",
       "      <td>1.537110e+09</td>\n",
       "    </tr>\n",
       "    <tr>\n",
       "      <th>100851</th>\n",
       "      <td>193585</td>\n",
       "      <td>Flint (2017)</td>\n",
       "      <td>Drama</td>\n",
       "      <td>184.0</td>\n",
       "      <td>3.5</td>\n",
       "      <td>1.537110e+09</td>\n",
       "    </tr>\n",
       "    <tr>\n",
       "      <th>100852</th>\n",
       "      <td>193587</td>\n",
       "      <td>Bungo Stray Dogs: Dead Apple (2018)</td>\n",
       "      <td>Action|Animation</td>\n",
       "      <td>184.0</td>\n",
       "      <td>3.5</td>\n",
       "      <td>1.537110e+09</td>\n",
       "    </tr>\n",
       "    <tr>\n",
       "      <th>100853</th>\n",
       "      <td>193609</td>\n",
       "      <td>Andrew Dice Clay: Dice Rules (1991)</td>\n",
       "      <td>Comedy</td>\n",
       "      <td>331.0</td>\n",
       "      <td>4.0</td>\n",
       "      <td>1.537158e+09</td>\n",
       "    </tr>\n",
       "  </tbody>\n",
       "</table>\n",
       "<p>100854 rows × 6 columns</p>\n",
       "</div>"
      ],
      "text/plain": [
       "        movieId                                      title  \\\n",
       "0             1                           Toy Story (1995)   \n",
       "1             1                           Toy Story (1995)   \n",
       "2             1                           Toy Story (1995)   \n",
       "3             1                           Toy Story (1995)   \n",
       "4             1                           Toy Story (1995)   \n",
       "...         ...                                        ...   \n",
       "100849   193581  Black Butler: Book of the Atlantic (2017)   \n",
       "100850   193583               No Game No Life: Zero (2017)   \n",
       "100851   193585                               Flint (2017)   \n",
       "100852   193587        Bungo Stray Dogs: Dead Apple (2018)   \n",
       "100853   193609        Andrew Dice Clay: Dice Rules (1991)   \n",
       "\n",
       "                                             genres  userId  rating  \\\n",
       "0       Adventure|Animation|Children|Comedy|Fantasy     1.0     4.0   \n",
       "1       Adventure|Animation|Children|Comedy|Fantasy     5.0     4.0   \n",
       "2       Adventure|Animation|Children|Comedy|Fantasy     7.0     4.5   \n",
       "3       Adventure|Animation|Children|Comedy|Fantasy    15.0     2.5   \n",
       "4       Adventure|Animation|Children|Comedy|Fantasy    17.0     4.5   \n",
       "...                                             ...     ...     ...   \n",
       "100849              Action|Animation|Comedy|Fantasy   184.0     4.0   \n",
       "100850                     Animation|Comedy|Fantasy   184.0     3.5   \n",
       "100851                                        Drama   184.0     3.5   \n",
       "100852                             Action|Animation   184.0     3.5   \n",
       "100853                                       Comedy   331.0     4.0   \n",
       "\n",
       "           timestamp  \n",
       "0       9.649827e+08  \n",
       "1       8.474350e+08  \n",
       "2       1.106636e+09  \n",
       "3       1.510578e+09  \n",
       "4       1.305696e+09  \n",
       "...              ...  \n",
       "100849  1.537109e+09  \n",
       "100850  1.537110e+09  \n",
       "100851  1.537110e+09  \n",
       "100852  1.537110e+09  \n",
       "100853  1.537158e+09  \n",
       "\n",
       "[100854 rows x 6 columns]"
      ]
     },
     "metadata": {},
     "output_type": "display_data"
    }
   ],
   "source": [
    "joined1 = mov.merge(rat, on='movieId', how='outer')\n",
    "display(joined1)"
   ]
  },
  {
   "cell_type": "code",
   "execution_count": 196,
   "metadata": {},
   "outputs": [
    {
     "data": {
      "text/html": [
       "<div>\n",
       "<style scoped>\n",
       "    .dataframe tbody tr th:only-of-type {\n",
       "        vertical-align: middle;\n",
       "    }\n",
       "\n",
       "    .dataframe tbody tr th {\n",
       "        vertical-align: top;\n",
       "    }\n",
       "\n",
       "    .dataframe thead th {\n",
       "        text-align: right;\n",
       "    }\n",
       "</style>\n",
       "<table border=\"1\" class=\"dataframe\">\n",
       "  <thead>\n",
       "    <tr style=\"text-align: right;\">\n",
       "      <th></th>\n",
       "      <th>movieId</th>\n",
       "      <th>title</th>\n",
       "      <th>genres</th>\n",
       "      <th>userId</th>\n",
       "      <th>rating</th>\n",
       "      <th>timestamp</th>\n",
       "    </tr>\n",
       "  </thead>\n",
       "  <tbody>\n",
       "    <tr>\n",
       "      <th>54467</th>\n",
       "      <td>3456</td>\n",
       "      <td>Color of Paradise, The (Rang-e khoda) (1999)</td>\n",
       "      <td>Drama</td>\n",
       "      <td>NaN</td>\n",
       "      <td>NaN</td>\n",
       "      <td>NaN</td>\n",
       "    </tr>\n",
       "  </tbody>\n",
       "</table>\n",
       "</div>"
      ],
      "text/plain": [
       "       movieId                                         title genres  userId  \\\n",
       "54467     3456  Color of Paradise, The (Rang-e khoda) (1999)  Drama     NaN   \n",
       "\n",
       "       rating  timestamp  \n",
       "54467     NaN        NaN  "
      ]
     },
     "execution_count": 196,
     "metadata": {},
     "output_type": "execute_result"
    }
   ],
   "source": [
    "joined1[joined1.movieId == 3456]"
   ]
  },
  {
   "cell_type": "code",
   "execution_count": 228,
   "metadata": {},
   "outputs": [
    {
     "data": {
      "text/html": [
       "<div>\n",
       "<style scoped>\n",
       "    .dataframe tbody tr th:only-of-type {\n",
       "        vertical-align: middle;\n",
       "    }\n",
       "\n",
       "    .dataframe tbody tr th {\n",
       "        vertical-align: top;\n",
       "    }\n",
       "\n",
       "    .dataframe thead th {\n",
       "        text-align: right;\n",
       "    }\n",
       "</style>\n",
       "<table border=\"1\" class=\"dataframe\">\n",
       "  <thead>\n",
       "    <tr style=\"text-align: right;\">\n",
       "      <th></th>\n",
       "      <th>item_id</th>\n",
       "      <th>vendor</th>\n",
       "      <th>stock_count</th>\n",
       "      <th>purchase_id</th>\n",
       "      <th>price</th>\n",
       "      <th>cost</th>\n",
       "    </tr>\n",
       "  </thead>\n",
       "  <tbody>\n",
       "    <tr>\n",
       "      <th>0</th>\n",
       "      <td>417283</td>\n",
       "      <td>Samsung</td>\n",
       "      <td>54</td>\n",
       "      <td>101</td>\n",
       "      <td>13900</td>\n",
       "      <td>750600</td>\n",
       "    </tr>\n",
       "    <tr>\n",
       "      <th>1</th>\n",
       "      <td>849734</td>\n",
       "      <td>LG</td>\n",
       "      <td>33</td>\n",
       "      <td>101</td>\n",
       "      <td>5330</td>\n",
       "      <td>175890</td>\n",
       "    </tr>\n",
       "    <tr>\n",
       "      <th>2</th>\n",
       "      <td>132223</td>\n",
       "      <td>Apple</td>\n",
       "      <td>122</td>\n",
       "      <td>101</td>\n",
       "      <td>38200</td>\n",
       "      <td>4660400</td>\n",
       "    </tr>\n",
       "    <tr>\n",
       "      <th>3</th>\n",
       "      <td>573943</td>\n",
       "      <td>Apple</td>\n",
       "      <td>18</td>\n",
       "      <td>112</td>\n",
       "      <td>49990</td>\n",
       "      <td>899820</td>\n",
       "    </tr>\n",
       "    <tr>\n",
       "      <th>4</th>\n",
       "      <td>19475</td>\n",
       "      <td>LG</td>\n",
       "      <td>102</td>\n",
       "      <td>121</td>\n",
       "      <td>9890</td>\n",
       "      <td>1008780</td>\n",
       "    </tr>\n",
       "    <tr>\n",
       "      <th>5</th>\n",
       "      <td>3294095</td>\n",
       "      <td>Apple</td>\n",
       "      <td>43</td>\n",
       "      <td>145</td>\n",
       "      <td>33000</td>\n",
       "      <td>1419000</td>\n",
       "    </tr>\n",
       "    <tr>\n",
       "      <th>6</th>\n",
       "      <td>382043</td>\n",
       "      <td>Samsung</td>\n",
       "      <td>77</td>\n",
       "      <td>145</td>\n",
       "      <td>67500</td>\n",
       "      <td>5197500</td>\n",
       "    </tr>\n",
       "    <tr>\n",
       "      <th>7</th>\n",
       "      <td>302948</td>\n",
       "      <td>Samsung</td>\n",
       "      <td>143</td>\n",
       "      <td>145</td>\n",
       "      <td>34500</td>\n",
       "      <td>4933500</td>\n",
       "    </tr>\n",
       "    <tr>\n",
       "      <th>8</th>\n",
       "      <td>100132</td>\n",
       "      <td>LG</td>\n",
       "      <td>60</td>\n",
       "      <td>221</td>\n",
       "      <td>11400</td>\n",
       "      <td>684000</td>\n",
       "    </tr>\n",
       "  </tbody>\n",
       "</table>\n",
       "</div>"
      ],
      "text/plain": [
       "   item_id   vendor  stock_count  purchase_id  price     cost\n",
       "0   417283  Samsung           54          101  13900   750600\n",
       "1   849734       LG           33          101   5330   175890\n",
       "2   132223    Apple          122          101  38200  4660400\n",
       "3   573943    Apple           18          112  49990   899820\n",
       "4    19475       LG          102          121   9890  1008780\n",
       "5  3294095    Apple           43          145  33000  1419000\n",
       "6   382043  Samsung           77          145  67500  5197500\n",
       "7   302948  Samsung          143          145  34500  4933500\n",
       "8   100132       LG           60          221  11400   684000"
      ]
     },
     "execution_count": 228,
     "metadata": {},
     "output_type": "execute_result"
    }
   ],
   "source": [
    "joined"
   ]
  },
  {
   "cell_type": "code",
   "execution_count": 227,
   "metadata": {},
   "outputs": [
    {
     "data": {
      "text/plain": [
       "0     55\n",
       "1     34\n",
       "2    123\n",
       "3     19\n",
       "4    103\n",
       "5     44\n",
       "6     78\n",
       "7    144\n",
       "8     61\n",
       "Name: stock_count, dtype: int64"
      ]
     },
     "execution_count": 227,
     "metadata": {},
     "output_type": "execute_result"
    }
   ],
   "source": [
    "joined.stock_count.apply(lambda x:x+1)"
   ]
  },
  {
   "cell_type": "code",
   "execution_count": 311,
   "metadata": {},
   "outputs": [],
   "source": [
    "log = pd.read_csv('C://Users/bella/Downloads/log.xls')"
   ]
  },
  {
   "cell_type": "code",
   "execution_count": 201,
   "metadata": {},
   "outputs": [
    {
     "name": "stdout",
     "output_type": "stream",
     "text": [
      "<class 'pandas.core.frame.DataFrame'>\n",
      "RangeIndex: 999 entries, 0 to 998\n",
      "Data columns (total 4 columns):\n",
      " #   Column                            Non-Null Count  Dtype  \n",
      "---  ------                            --------------  -----  \n",
      " 0   Запись пользователя № - user_919  999 non-null    object \n",
      " 1   [2019-01-01 14:06:51              984 non-null    object \n",
      " 2   Unnamed: 2                        485 non-null    float64\n",
      " 3   Unnamed: 3                        138 non-null    float64\n",
      "dtypes: float64(2), object(2)\n",
      "memory usage: 31.3+ KB\n"
     ]
    }
   ],
   "source": [
    "log.info()"
   ]
  },
  {
   "cell_type": "code",
   "execution_count": 203,
   "metadata": {},
   "outputs": [
    {
     "data": {
      "text/html": [
       "<div>\n",
       "<style scoped>\n",
       "    .dataframe tbody tr th:only-of-type {\n",
       "        vertical-align: middle;\n",
       "    }\n",
       "\n",
       "    .dataframe tbody tr th {\n",
       "        vertical-align: top;\n",
       "    }\n",
       "\n",
       "    .dataframe thead th {\n",
       "        text-align: right;\n",
       "    }\n",
       "</style>\n",
       "<table border=\"1\" class=\"dataframe\">\n",
       "  <thead>\n",
       "    <tr style=\"text-align: right;\">\n",
       "      <th></th>\n",
       "      <th>Запись пользователя № - user_919</th>\n",
       "      <th>[2019-01-01 14:06:51</th>\n",
       "      <th>Unnamed: 2</th>\n",
       "      <th>Unnamed: 3</th>\n",
       "    </tr>\n",
       "  </thead>\n",
       "  <tbody>\n",
       "    <tr>\n",
       "      <th>0</th>\n",
       "      <td>Запись пользователя № - user_973</td>\n",
       "      <td>[2019-01-01 14:51:16</td>\n",
       "      <td>NaN</td>\n",
       "      <td>NaN</td>\n",
       "    </tr>\n",
       "    <tr>\n",
       "      <th>1</th>\n",
       "      <td>Запись пользователя № - user_903</td>\n",
       "      <td>[2019-01-01 16:31:16</td>\n",
       "      <td>NaN</td>\n",
       "      <td>NaN</td>\n",
       "    </tr>\n",
       "    <tr>\n",
       "      <th>2</th>\n",
       "      <td>Запись пользователя № - user_954</td>\n",
       "      <td>[2019-01-01 17:17:51</td>\n",
       "      <td>NaN</td>\n",
       "      <td>NaN</td>\n",
       "    </tr>\n",
       "    <tr>\n",
       "      <th>3</th>\n",
       "      <td>Запись пользователя № - user_954</td>\n",
       "      <td>[2019-01-01 21:31:18</td>\n",
       "      <td>NaN</td>\n",
       "      <td>NaN</td>\n",
       "    </tr>\n",
       "    <tr>\n",
       "      <th>4</th>\n",
       "      <td>Запись пользователя № - user_917</td>\n",
       "      <td>[2019-01-01 23:34:55</td>\n",
       "      <td>156789.0</td>\n",
       "      <td>NaN</td>\n",
       "    </tr>\n",
       "    <tr>\n",
       "      <th>5</th>\n",
       "      <td>Запись пользователя № - user_900</td>\n",
       "      <td>[2019-01-01 4:37:25</td>\n",
       "      <td>NaN</td>\n",
       "      <td>NaN</td>\n",
       "    </tr>\n",
       "    <tr>\n",
       "      <th>6</th>\n",
       "      <td>Запись пользователя № - user_980</td>\n",
       "      <td>[2019-01-01 6:31:23</td>\n",
       "      <td>NaN</td>\n",
       "      <td>NaN</td>\n",
       "    </tr>\n",
       "    <tr>\n",
       "      <th>7</th>\n",
       "      <td>Запись пользователя № - user_906</td>\n",
       "      <td>[2019-01-02 10:57:08</td>\n",
       "      <td>NaN</td>\n",
       "      <td>NaN</td>\n",
       "    </tr>\n",
       "    <tr>\n",
       "      <th>8</th>\n",
       "      <td>Запись пользователя № - user_952</td>\n",
       "      <td>[2019-01-02 16:55:06</td>\n",
       "      <td>NaN</td>\n",
       "      <td>NaN</td>\n",
       "    </tr>\n",
       "    <tr>\n",
       "      <th>9</th>\n",
       "      <td>Запись пользователя № - user_972</td>\n",
       "      <td>[2019-01-02 20:47:54</td>\n",
       "      <td>NaN</td>\n",
       "      <td>NaN</td>\n",
       "    </tr>\n",
       "  </tbody>\n",
       "</table>\n",
       "</div>"
      ],
      "text/plain": [
       "   Запись пользователя № - user_919  [2019-01-01 14:06:51  Unnamed: 2  \\\n",
       "0  Запись пользователя № - user_973  [2019-01-01 14:51:16         NaN   \n",
       "1  Запись пользователя № - user_903  [2019-01-01 16:31:16         NaN   \n",
       "2  Запись пользователя № - user_954  [2019-01-01 17:17:51         NaN   \n",
       "3  Запись пользователя № - user_954  [2019-01-01 21:31:18         NaN   \n",
       "4  Запись пользователя № - user_917  [2019-01-01 23:34:55    156789.0   \n",
       "5  Запись пользователя № - user_900   [2019-01-01 4:37:25         NaN   \n",
       "6  Запись пользователя № - user_980   [2019-01-01 6:31:23         NaN   \n",
       "7  Запись пользователя № - user_906  [2019-01-02 10:57:08         NaN   \n",
       "8  Запись пользователя № - user_952  [2019-01-02 16:55:06         NaN   \n",
       "9  Запись пользователя № - user_972  [2019-01-02 20:47:54         NaN   \n",
       "\n",
       "   Unnamed: 3  \n",
       "0         NaN  \n",
       "1         NaN  \n",
       "2         NaN  \n",
       "3         NaN  \n",
       "4         NaN  \n",
       "5         NaN  \n",
       "6         NaN  \n",
       "7         NaN  \n",
       "8         NaN  \n",
       "9         NaN  "
      ]
     },
     "execution_count": 203,
     "metadata": {},
     "output_type": "execute_result"
    }
   ],
   "source": [
    "log.head(10)"
   ]
  },
  {
   "cell_type": "code",
   "execution_count": 259,
   "metadata": {},
   "outputs": [],
   "source": [
    "users = pd.read_csv('C://Users/bella/Downloads/users.xls', sep = '\\t', encoding = 'koi8-r')"
   ]
  },
  {
   "cell_type": "code",
   "execution_count": 312,
   "metadata": {},
   "outputs": [],
   "source": [
    "log.columns = ['user_id', 'time', 'bet', 'win']"
   ]
  },
  {
   "cell_type": "code",
   "execution_count": 266,
   "metadata": {},
   "outputs": [
    {
     "data": {
      "text/plain": [
       "array(['user_973', 'user_903', 'user_954', 'user_917', 'user_900',\n",
       "       'user_980', 'user_906', 'user_952', 'user_972', 'user_966',\n",
       "       'user_964', 'user_978', 'user_968', 'user_974', 'user_998',\n",
       "       'user_990', 'user_942', 'user_929', 'user_976', 'user_927',\n",
       "       'user_951', 'user_949', 'user_987', 'user_985', 'user_992',\n",
       "       'user_937', 'user_913', 'user_948', 'user_916', 'user_938',\n",
       "       'user_997', 'user_940', 'user_918', 'user_960', 'user_905',\n",
       "       'user_924', 'user_958', 'user_920', 'user_943', 'user_935',\n",
       "       'user_915', 'user_921', 'user_999', 'user_982', 'user_928',\n",
       "       'user_944', 'user_912', 'user_969', 'user_901', 'user_995',\n",
       "       'user_933', 'user_986', 'user_971', 'user_977', 'user_979',\n",
       "       'user_910', 'user_994', 'user_907', 'user_941', 'user_989',\n",
       "       'user_955', 'user_991', 'user_996', 'user_926', 'user_984',\n",
       "       'user_957', 'user_914', 'user_988', 'user_923', 'user_967',\n",
       "       'user_945', 'user_993', 'user_908', 'user_930', 'user_981',\n",
       "       'user_936', 'user_922', 'user_962', 'user_965', 'user_959',\n",
       "       'user_963', 'user_904', 'user_931', 'user_1000', 'user_946',\n",
       "       'user_970', 'user_939', 'user_961', 'user_911', 'user_950',\n",
       "       'user_956', 'user_909', 'user_983', 'user_902', 'user_947',\n",
       "       'user_919', 'user_975', 'user_953', 'user_925', 'user_934',\n",
       "       'user_932', ''], dtype=object)"
      ]
     },
     "execution_count": 266,
     "metadata": {},
     "output_type": "execute_result"
    }
   ],
   "source": [
    "log['user_id'].unique()"
   ]
  },
  {
   "cell_type": "code",
   "execution_count": 219,
   "metadata": {},
   "outputs": [
    {
     "data": {
      "text/plain": [
       "138"
      ]
     },
     "execution_count": 219,
     "metadata": {},
     "output_type": "execute_result"
    }
   ],
   "source": [
    "log_win = log[log['win'] > 0]\n",
    "len(log_win)"
   ]
  },
  {
   "cell_type": "code",
   "execution_count": 225,
   "metadata": {},
   "outputs": [
    {
     "data": {
      "text/html": [
       "<div>\n",
       "<style scoped>\n",
       "    .dataframe tbody tr th:only-of-type {\n",
       "        vertical-align: middle;\n",
       "    }\n",
       "\n",
       "    .dataframe tbody tr th {\n",
       "        vertical-align: top;\n",
       "    }\n",
       "\n",
       "    .dataframe thead th {\n",
       "        text-align: right;\n",
       "    }\n",
       "</style>\n",
       "<table border=\"1\" class=\"dataframe\">\n",
       "  <thead>\n",
       "    <tr style=\"text-align: right;\">\n",
       "      <th></th>\n",
       "      <th>Юзверь</th>\n",
       "      <th>мейл</th>\n",
       "      <th>Гео</th>\n",
       "    </tr>\n",
       "  </thead>\n",
       "  <tbody>\n",
       "    <tr>\n",
       "      <th>0</th>\n",
       "      <td>User_943</td>\n",
       "      <td>Accumanst@gmail.com</td>\n",
       "      <td>Ижевск</td>\n",
       "    </tr>\n",
       "    <tr>\n",
       "      <th>1</th>\n",
       "      <td>User_908</td>\n",
       "      <td>Advismowr@mail.ru</td>\n",
       "      <td>Ижевск</td>\n",
       "    </tr>\n",
       "    <tr>\n",
       "      <th>2</th>\n",
       "      <td>User_962</td>\n",
       "      <td>Anachso@ukr.net</td>\n",
       "      <td>Краснодар</td>\n",
       "    </tr>\n",
       "    <tr>\n",
       "      <th>3</th>\n",
       "      <td>User_973</td>\n",
       "      <td>Antecia@inbox.ru</td>\n",
       "      <td>Пермь</td>\n",
       "    </tr>\n",
       "    <tr>\n",
       "      <th>4</th>\n",
       "      <td>User_902</td>\n",
       "      <td>Balliaryva@ukr.net</td>\n",
       "      <td>NaN</td>\n",
       "    </tr>\n",
       "  </tbody>\n",
       "</table>\n",
       "</div>"
      ],
      "text/plain": [
       "     Юзверь                 мейл        Гео\n",
       "0  User_943  Accumanst@gmail.com     Ижевск\n",
       "1  User_908    Advismowr@mail.ru     Ижевск\n",
       "2  User_962      Anachso@ukr.net  Краснодар\n",
       "3  User_973     Antecia@inbox.ru      Пермь\n",
       "4  User_902   Balliaryva@ukr.net        NaN"
      ]
     },
     "execution_count": 225,
     "metadata": {},
     "output_type": "execute_result"
    }
   ],
   "source": [
    "users.head()"
   ]
  },
  {
   "cell_type": "code",
   "execution_count": 319,
   "metadata": {},
   "outputs": [
    {
     "data": {
      "text/html": [
       "<div>\n",
       "<style scoped>\n",
       "    .dataframe tbody tr th:only-of-type {\n",
       "        vertical-align: middle;\n",
       "    }\n",
       "\n",
       "    .dataframe tbody tr th {\n",
       "        vertical-align: top;\n",
       "    }\n",
       "\n",
       "    .dataframe thead th {\n",
       "        text-align: right;\n",
       "    }\n",
       "</style>\n",
       "<table border=\"1\" class=\"dataframe\">\n",
       "  <thead>\n",
       "    <tr style=\"text-align: right;\">\n",
       "      <th></th>\n",
       "      <th>user_id</th>\n",
       "      <th>time</th>\n",
       "      <th>bet</th>\n",
       "      <th>win</th>\n",
       "    </tr>\n",
       "  </thead>\n",
       "  <tbody>\n",
       "    <tr>\n",
       "      <th>0</th>\n",
       "      <td>user_973</td>\n",
       "      <td>2019-01-01 14:51:16</td>\n",
       "      <td>NaN</td>\n",
       "      <td>NaN</td>\n",
       "    </tr>\n",
       "    <tr>\n",
       "      <th>1</th>\n",
       "      <td>user_903</td>\n",
       "      <td>2019-01-01 16:31:16</td>\n",
       "      <td>NaN</td>\n",
       "      <td>NaN</td>\n",
       "    </tr>\n",
       "    <tr>\n",
       "      <th>2</th>\n",
       "      <td>user_954</td>\n",
       "      <td>2019-01-01 17:17:51</td>\n",
       "      <td>NaN</td>\n",
       "      <td>NaN</td>\n",
       "    </tr>\n",
       "    <tr>\n",
       "      <th>3</th>\n",
       "      <td>user_954</td>\n",
       "      <td>2019-01-01 21:31:18</td>\n",
       "      <td>NaN</td>\n",
       "      <td>NaN</td>\n",
       "    </tr>\n",
       "    <tr>\n",
       "      <th>4</th>\n",
       "      <td>user_917</td>\n",
       "      <td>2019-01-01 23:34:55</td>\n",
       "      <td>156789.0</td>\n",
       "      <td>NaN</td>\n",
       "    </tr>\n",
       "    <tr>\n",
       "      <th>...</th>\n",
       "      <td>...</td>\n",
       "      <td>...</td>\n",
       "      <td>...</td>\n",
       "      <td>...</td>\n",
       "    </tr>\n",
       "    <tr>\n",
       "      <th>994</th>\n",
       "      <td>user_984</td>\n",
       "      <td>2019-04-20 9:59:58</td>\n",
       "      <td>9754.0</td>\n",
       "      <td>NaN</td>\n",
       "    </tr>\n",
       "    <tr>\n",
       "      <th>995</th>\n",
       "      <td></td>\n",
       "      <td>NaN</td>\n",
       "      <td>10054.0</td>\n",
       "      <td>29265.0</td>\n",
       "    </tr>\n",
       "    <tr>\n",
       "      <th>996</th>\n",
       "      <td></td>\n",
       "      <td>NaN</td>\n",
       "      <td>10454.0</td>\n",
       "      <td>NaN</td>\n",
       "    </tr>\n",
       "    <tr>\n",
       "      <th>997</th>\n",
       "      <td></td>\n",
       "      <td>NaN</td>\n",
       "      <td>1000.0</td>\n",
       "      <td>NaN</td>\n",
       "    </tr>\n",
       "    <tr>\n",
       "      <th>998</th>\n",
       "      <td></td>\n",
       "      <td>NaN</td>\n",
       "      <td>10754.0</td>\n",
       "      <td>NaN</td>\n",
       "    </tr>\n",
       "  </tbody>\n",
       "</table>\n",
       "<p>999 rows × 4 columns</p>\n",
       "</div>"
      ],
      "text/plain": [
       "      user_id                 time       bet      win\n",
       "0    user_973  2019-01-01 14:51:16       NaN      NaN\n",
       "1    user_903  2019-01-01 16:31:16       NaN      NaN\n",
       "2    user_954  2019-01-01 17:17:51       NaN      NaN\n",
       "3    user_954  2019-01-01 21:31:18       NaN      NaN\n",
       "4    user_917  2019-01-01 23:34:55  156789.0      NaN\n",
       "..        ...                  ...       ...      ...\n",
       "994  user_984   2019-04-20 9:59:58    9754.0      NaN\n",
       "995                            NaN   10054.0  29265.0\n",
       "996                            NaN   10454.0      NaN\n",
       "997                            NaN    1000.0      NaN\n",
       "998                            NaN   10754.0      NaN\n",
       "\n",
       "[999 rows x 4 columns]"
      ]
     },
     "metadata": {},
     "output_type": "display_data"
    }
   ],
   "source": [
    "def change(s):\n",
    "    if s == '#error':\n",
    "        return \"\"\n",
    "    else:\n",
    "        a = s.find('user')\n",
    "        return s[a::]\n",
    "log['user_id'] = log.user_id.apply(change)\n",
    "display(log)"
   ]
  },
  {
   "cell_type": "code",
   "execution_count": 273,
   "metadata": {},
   "outputs": [],
   "source": [
    "t = log.time[0]"
   ]
  },
  {
   "cell_type": "code",
   "execution_count": 276,
   "metadata": {},
   "outputs": [
    {
     "data": {
      "text/plain": [
       "'2019-01-01 14:51:16'"
      ]
     },
     "execution_count": 276,
     "metadata": {},
     "output_type": "execute_result"
    }
   ],
   "source": [
    "t"
   ]
  },
  {
   "cell_type": "code",
   "execution_count": 275,
   "metadata": {},
   "outputs": [],
   "source": [
    "t = log.time[0]\n",
    "# Удалите квадратную скобку из t, чтобы привести его к более привычному формату\n",
    "if t[0] == '[':\n",
    "    t = t[1::]"
   ]
  },
  {
   "cell_type": "code",
   "execution_count": 318,
   "metadata": {},
   "outputs": [],
   "source": [
    "\n",
    "log['time'] = log.time[log.time.notna()].apply(lambda x: str(x).replace('[',''))"
   ]
  },
  {
   "cell_type": "code",
   "execution_count": 321,
   "metadata": {},
   "outputs": [
    {
     "data": {
      "text/plain": [
       "''"
      ]
     },
     "execution_count": 321,
     "metadata": {},
     "output_type": "execute_result"
    }
   ],
   "source": [
    "a = 'hello'\n",
    "a[:0:]"
   ]
  },
  {
   "cell_type": "code",
   "execution_count": null,
   "metadata": {},
   "outputs": [],
   "source": []
  }
 ],
 "metadata": {
  "kernelspec": {
   "display_name": "Python 3",
   "language": "python",
   "name": "python3"
  },
  "language_info": {
   "codemirror_mode": {
    "name": "ipython",
    "version": 3
   },
   "file_extension": ".py",
   "mimetype": "text/x-python",
   "name": "python",
   "nbconvert_exporter": "python",
   "pygments_lexer": "ipython3",
   "version": "3.7.6"
  }
 },
 "nbformat": 4,
 "nbformat_minor": 4
}
